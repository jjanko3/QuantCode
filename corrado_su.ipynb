{
 "cells": [
  {
   "cell_type": "markdown",
   "metadata": {},
   "source": [
    "# Corrado Su Pricing"
   ]
  },
  {
   "cell_type": "code",
   "execution_count": 1,
   "metadata": {},
   "outputs": [
    {
     "name": "stdout",
     "output_type": "stream",
     "text": [
      "13.737178454996815\n",
      "6.39162009768841\n"
     ]
    }
   ],
   "source": [
    "import numpy as np\n",
    "import scipy.stats as spy\n",
    "import math\n",
    "\n",
    "class OptPricing:\n",
    "    \n",
    "    #S is the underlying price\n",
    "    #K is the strike price\n",
    "    #T is the time till expiration in years\n",
    "    #r is the risk free interest rate\n",
    "    #sigma is the volatility\n",
    "    \n",
    "    def __init__(self,S,K,T,r,sigma):\n",
    "        self.S = S\n",
    "        self.K = K\n",
    "        self.T = T\n",
    "        self.r = r\n",
    "        self.sigma = sigma\n",
    "        \n",
    "    def black_scholes(self):\n",
    "        d = (np.log(self.S / self.K) + (self.r + .5 * self.sigma**2) * self.T) / (self.sigma * np.sqrt(self.T))\n",
    "        call_bs = self.S * spy.norm.cdf(d) - self.K * (math.e**(-self.r * self.T)) * spy.norm.cdf(d - self.sigma * np.sqrt(self.T))\n",
    "        put_bs = -((self.S - self.K * math.e**(-self.r * self.T)) - call_bs)\n",
    "        return call_bs, put_bs\n",
    "\n",
    "    def corrado_su(self, skew, kurt):\n",
    "        d = (np.log(self.S / self.K) + (self.r + .5 * self.sigma**2) * self.T) / (self.sigma * np.sqrt(self.T))\n",
    "        q3 = 1./math.factorial(3) * self.S * self.sigma * np.sqrt(self.T)  * (( 2. * self.sigma * np.sqrt(self.T) - d ) * spy.norm.pdf(d )  + (self.sigma**2) * self.T * spy.norm.cdf(d))           \n",
    "        q4 = 1./math.factorial(4) * self.S * self.sigma * np.sqrt(self.T)  * (( (d**2) - 1. - 3. * self.sigma * np.sqrt(self.T) * (d - self.sigma * np.sqrt(self.T)   )) * spy.norm.pdf(d) + (self.sigma**3) * (self.T**1.5) * spy.norm.cdf(d))  \n",
    "        call_bs = self.S * spy.norm.cdf(d) - self.K * (math.e**(-self.r * self.T)) * spy.norm.cdf(d - self.sigma * np.sqrt(self.T))\n",
    "        #expand on the call price to account for the third and fourth order moments\n",
    "        call_cs = call_bs + skew * q3 + (kurt - 3.) * q4\n",
    "        #derive the put from the put-call parirty\n",
    "        put_csv = -((self.S - self.K * math.e**(-self.r * self.T)) - call_cs)\n",
    "        \n",
    "        return call_cs, put_csv\n",
    "    \n",
    "if __name__ == '__main__':\n",
    "    \n",
    "    opt = OptPricing(100,95,.25,.1,.5)\n",
    "    #gets the call and put price for black scholes equation\n",
    "    bs_c_px, bs_p_px = opt.black_scholes()\n",
    "    #gets the call and put price for corrado su pricing model\n",
    "    c_px, p_px = opt.corrado_su(.15,3.)\n",
    "    print(c_px)\n",
    "    print(p_px)"
   ]
  }
 ],
 "metadata": {
  "kernelspec": {
   "display_name": "Python 3",
   "language": "python",
   "name": "python3"
  },
  "language_info": {
   "codemirror_mode": {
    "name": "ipython",
    "version": 3
   },
   "file_extension": ".py",
   "mimetype": "text/x-python",
   "name": "python",
   "nbconvert_exporter": "python",
   "pygments_lexer": "ipython3",
   "version": "3.7.0"
  }
 },
 "nbformat": 4,
 "nbformat_minor": 2
}
