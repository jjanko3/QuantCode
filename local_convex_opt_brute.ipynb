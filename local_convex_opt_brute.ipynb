{
 "cells": [
  {
   "cell_type": "markdown",
   "metadata": {},
   "source": [
    "# Local Convex Optimization With Brute Force"
   ]
  },
  {
   "cell_type": "code",
   "execution_count": 1,
   "metadata": {},
   "outputs": [],
   "source": [
    "import numpy as np\n",
    "import matplotlib.pyplot as plt\n",
    "from mpl_toolkits.mplot3d import Axes3D\n",
    "from matplotlib import cm\n",
    "import scipy.optimize as spo\n",
    "\n",
    "def z_function(params):\n",
    "    x = params[0]\n",
    "    y = params[1]\n",
    "    return np.sin(x) + .005 * x ** 2 + np.sin(y) + .005 * y **2\n",
    "\n",
    "fig = plt.figure()\n",
    "ax = fig.gca(projection='3d')\n",
    "\n",
    "\n",
    "# Make data.\n",
    "X = np.arange(-5, 5, 0.25)\n",
    "Y = np.arange(-5, 5, 0.25)\n",
    "X, Y = np.meshgrid(X, Y)\n",
    "Z = z_function((X,Y))\n",
    "\n",
    "\n",
    "surf = ax.plot_surface(X, Y, Z, cmap=cm.coolwarm,\n",
    "                       linewidth=0, antialiased=False)\n"
   ]
  },
  {
   "cell_type": "markdown",
   "metadata": {},
   "source": [
    "#Do the brute force optimization with scipy to find the global opt"
   ]
  },
  {
   "cell_type": "code",
   "execution_count": 4,
   "metadata": {},
   "outputs": [
    {
     "name": "stdout",
     "output_type": "stream",
     "text": [
      "(array([-1.55525863, -1.55525192]), -1.9755702908547668, array([[[-5. , -5. , -5. , ..., -5. , -5. , -5. ],\n",
      "        [-4.9, -4.9, -4.9, ..., -4.9, -4.9, -4.9],\n",
      "        [-4.8, -4.8, -4.8, ..., -4.8, -4.8, -4.8],\n",
      "        ...,\n",
      "        [ 4.7,  4.7,  4.7, ...,  4.7,  4.7,  4.7],\n",
      "        [ 4.8,  4.8,  4.8, ...,  4.8,  4.8,  4.8],\n",
      "        [ 4.9,  4.9,  4.9, ...,  4.9,  4.9,  4.9]],\n",
      "\n",
      "       [[-5. , -4.9, -4.8, ...,  4.7,  4.8,  4.9],\n",
      "        [-5. , -4.9, -4.8, ...,  4.7,  4.8,  4.9],\n",
      "        [-5. , -4.9, -4.8, ...,  4.7,  4.8,  4.9],\n",
      "        ...,\n",
      "        [-5. , -4.9, -4.8, ...,  4.7,  4.8,  4.9],\n",
      "        [-5. , -4.9, -4.8, ...,  4.7,  4.8,  4.9],\n",
      "        [-5. , -4.9, -4.8, ...,  4.7,  4.8,  4.9]]]), array([[ 2.16784855,  2.18642689,  2.19528888, ...,  0.19445102,\n",
      "         0.20295967,  0.22152166],\n",
      "       [ 2.18642689,  2.20500523,  2.21386722, ...,  0.21302936,\n",
      "         0.221538  ,  0.2401    ],\n",
      "       [ 2.19528888,  2.21386722,  2.22272922, ...,  0.22189135,\n",
      "         0.2304    ,  0.248962  ],\n",
      "       ...,\n",
      "       [ 0.19445102,  0.21302936,  0.22189135, ..., -1.77894652,\n",
      "        -1.77043787, -1.75187587],\n",
      "       [ 0.20295967,  0.221538  ,  0.2304    , ..., -1.77043787,\n",
      "        -1.76192922, -1.74336722],\n",
      "       [ 0.22152166,  0.2401    ,  0.248962  , ..., -1.75187587,\n",
      "        -1.74336722, -1.72480523]]))\n",
      "The global min is located at \n",
      "[-1.55525863 -1.55525192]\n",
      "The global min function value is \n",
      "-1.9755702908547668\n"
     ]
    }
   ],
   "source": [
    "output = True\n",
    "opt = spo.brute(z_function, ((-5,5,.1), (-5,5,.1)) , full_output=True)\n",
    "print(opt)\n",
    "print(\"The global min is located at \")\n",
    "print(opt[0])\n",
    "print(\"The global min function value is \")\n",
    "print(opt[1])"
   ]
  },
  {
   "cell_type": "markdown",
   "metadata": {},
   "source": [
    "find the local min function using fmin"
   ]
  },
  {
   "cell_type": "code",
   "execution_count": 3,
   "metadata": {},
   "outputs": [
    {
     "name": "stdout",
     "output_type": "stream",
     "text": [
      "Optimization terminated successfully.\n",
      "         Current function value: -1.975570\n",
      "         Iterations: 15\n",
      "         Function evaluations: 31\n",
      "The local min is located at \n",
      "[-1.55525863 -1.55525192]\n",
      "The local min function value is \n",
      "-1.9755702908547668\n"
     ]
    }
   ],
   "source": [
    "local_opt = spo.fmin(z_function, opt[0], xtol = .001, ftol = .001, maxiter = 1000, full_output = True, disp = True)\n",
    "\n",
    "print(\"The local min is located at \")\n",
    "print(local_opt[0])\n",
    "print(\"The local min function value is \")\n",
    "print(local_opt[1])"
   ]
  }
 ],
 "metadata": {
  "kernelspec": {
   "display_name": "Python 3",
   "language": "python",
   "name": "python3"
  },
  "language_info": {
   "codemirror_mode": {
    "name": "ipython",
    "version": 3
   },
   "file_extension": ".py",
   "mimetype": "text/x-python",
   "name": "python",
   "nbconvert_exporter": "python",
   "pygments_lexer": "ipython3",
   "version": "3.7.0"
  }
 },
 "nbformat": 4,
 "nbformat_minor": 2
}
