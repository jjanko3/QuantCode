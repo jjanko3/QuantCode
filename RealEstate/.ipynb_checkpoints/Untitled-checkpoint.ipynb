{
 "cells": [
  {
   "cell_type": "code",
   "execution_count": null,
   "metadata": {},
   "outputs": [],
   "source": [
    "from selenium import webdriver\n",
    "\n",
    "link1 = 'https://en.wikipedia.org/wiki/Vanessa_Ray'\n",
    "link2 = 'https://www.legacy.com/obituaries/jsonline/obituary.aspx?n=anne-mary-murphy-nancy&pid=127307139'\n",
    "link3 = 'https://www.ancestry.com/boards/search/advanced?author=&classification=ALL&keyword=janko&postedWithin=ANYTIME&subject=&surname=&useSoundex=true'\n",
    "link4 = 'https://www.linkedin.com/pub/dir/+/JANKO/us-28-Cleveland%2FAkron,-Ohio-Area'\n",
    "link5 = 'https://www.linkedin.com/in/llazar-janko-563a84165'\n",
    "link6 = 'https://context.reverso.net/translation/portuguese-english/Janko'\n",
    "link7 = 'https://www.facebook.com/public/Margaret-Janko'\n",
    "link8 = 'https://www.legacy.com/obituaries/name/margaret-janko-obituary?pid=189268101'\n",
    "link9 = 'https://www.findagrave.com/memorial/32244953/margaret-janko'\n",
    "link10 = 'https://www.ancestry.com/1940-census/usa/Illinois/Margaret-Janko_517cpm'\n",
    "\n",
    "link_list = [link1, link2, link3, link4, link5, link6, link7, link8, link9, link10]\n",
    "\n",
    "browser = webdriver.Firefox()\n",
    "browser.get('http://your-url.com')\n",
    "\n"
   ]
  }
 ],
 "metadata": {
  "kernelspec": {
   "display_name": "Python 3",
   "language": "python",
   "name": "python3"
  },
  "language_info": {
   "codemirror_mode": {
    "name": "ipython",
    "version": 3
   },
   "file_extension": ".py",
   "mimetype": "text/x-python",
   "name": "python",
   "nbconvert_exporter": "python",
   "pygments_lexer": "ipython3",
   "version": "3.7.6"
  }
 },
 "nbformat": 4,
 "nbformat_minor": 4
}
