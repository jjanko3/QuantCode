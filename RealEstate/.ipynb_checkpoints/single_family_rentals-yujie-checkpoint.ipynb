{
 "cells": [
  {
   "cell_type": "markdown",
   "metadata": {},
   "source": [
    "# Data Appendix "
   ]
  },
  {
   "cell_type": "markdown",
   "metadata": {},
   "source": [
    "The Census conducts the American Housing Survey, which is sponsored by the Departmentof Housing and Urban Development (HUD). The data files can be downloaded from theirwebsite at http://www.census.gov/programs-surveys/The survey has been conductedin every odd-numbered year since 1973.  The codebook for 1997-2013 can be found at http://www.census.gov/programs-surveys/ahs/data/2013We  use  all  of  the  odd-numberedyears since 1985.  Prior to 1985, the value of the home is a categorical variable, so we do notuse those data.Download the flat files and place them into folders to which you then need to point thecode supplementing this data appendix, found in the file named “[TBD]”."
   ]
  },
  {
   "cell_type": "markdown",
   "metadata": {},
   "source": [
    "We remove datapoints without an MSA identifier, as we will be building a panel by city.  Weremove units in housing projects, those with bars on the windows, and those that are rentstabilized.  We remove datapoints missing data (such as tenure status, i.e., owner occupiedor renter occupied).We further clean the observations before the hedonic regression as follows\n",
    "- Delete if the ratio of household income to house value is greater than 2 (This identifiesdata errors in the house value field)\n",
    "- Delete if the ratio of household income to annual rent is greater than 100 (This identifiesdata errors in the annual rent field)\n",
    "\n",
    "Throughout the rest of the analysis, we restrict the sample to the top 30 cities by data-points (after cleaning) in 1985, the first year in the sample"
   ]
  },
  {
   "cell_type": "markdown",
   "metadata": {},
   "source": [
    "# Python Code Implementation"
   ]
  },
  {
   "cell_type": "markdown",
   "metadata": {},
   "source": [
    "Load the Necessary Modules for Analysis"
   ]
  },
  {
   "cell_type": "code",
   "execution_count": 27,
   "metadata": {},
   "outputs": [
    {
     "name": "stdout",
     "output_type": "stream",
     "text": [
      "FINC-360-JJA\n"
     ]
    }
   ],
   "source": [
    "import pandas as pd\n",
    "import os\n",
    "import numpy as np\n",
    "from statsmodels import regression\n",
    "#import matplotlib.pyplot as plt\n",
    "import warnings\n",
    "import net_yields_calculation as net_yield_calc\n",
    "import non_parametric_median as npm\n",
    "from openpyxl import load_workbook\n",
    "import xlsxwriter\n",
    "import matplotlib.pyplot as plt\n",
    "\n",
    "warnings.filterwarnings(\"ignore\")\n",
    "\n",
    "computer_name = os.getenv('COMPUTERNAME')\n",
    "print(computer_name)"
   ]
  },
  {
   "cell_type": "markdown",
   "metadata": {},
   "source": [
    "Create a class for cleaning the data"
   ]
  },
  {
   "cell_type": "code",
   "execution_count": 1,
   "metadata": {},
   "outputs": [
    {
     "ename": "IndentationError",
     "evalue": "expected an indented block (<ipython-input-1-a4281d1e3978>, line 102)",
     "output_type": "error",
     "traceback": [
      "\u001b[1;36m  File \u001b[1;32m\"<ipython-input-1-a4281d1e3978>\"\u001b[1;36m, line \u001b[1;32m102\u001b[0m\n\u001b[1;33m    return data\u001b[0m\n\u001b[1;37m         ^\u001b[0m\n\u001b[1;31mIndentationError\u001b[0m\u001b[1;31m:\u001b[0m expected an indented block\n"
     ]
    }
   ],
   "source": [
    "class Cleaning():\n",
    "    \n",
    "    def __init__(self):\n",
    "        pass\n",
    "\n",
    "    def check_col_float2(self,header_list, df):\n",
    "        for col in header_list:\n",
    "            try:\n",
    "                df.loc[:,col] = df.loc[:,col].str.replace(\"\\'\",\"\").str.strip().astype(float)\n",
    "                \n",
    "            except AttributeError:\n",
    "                pass\n",
    "            except KeyError:\n",
    "                try:\n",
    "                    df[col.upper()] = df[col.lower()].str.replace(\"\\'\",\"\").str.strip().astype(float)\n",
    "                except AttributeError:\n",
    "                    df[col.upper()] = df[col.lower()].copy()\n",
    "        return df\n",
    "    \n",
    "    \n",
    "    \n",
    "    def change_airsys_data(self,data):\n",
    "        \n",
    "        data.loc[(data['AIRSYS'] == 2) & (data['year'] < 2015), 'AIRSYS'] = 0.0\n",
    "        data.loc[(data['AIRSYS'] == 12) & (data['year'] >= 2015), 'AIRSYS'] = 0.0\n",
    "        data.loc[(data['AIRSYS'] != 12) & (data['year'] >= 2015), 'AIRSYS'] = 1.0\n",
    "        \n",
    "        return data\n",
    "    \n",
    "    def change_bath_data(self,data):\n",
    "        for i in data.year.unique():\n",
    "            if i >=2015 and i<=2017:\n",
    "                data.loc[data.year==i,'BATHS'] = data.loc[data.year==i,'BATHS'].replace({7: \\\n",
    "                            0, 8:0, 9:0, 10:0, 11:0, 12:0, 13:0, 3:2,4:3,5:3,6:4 })\n",
    "            else:\n",
    "                data.loc[data.year==i,'BATHS'] = data.loc[data.year==i,'BATHS'].replace({5:4, \\\n",
    "                            6:4, 7: 4, 8:4, 9:4, 10:4, 11:4, 12:4, 13:4})\n",
    "        return data\n",
    "    \n",
    "    def change_unit_type_data(self,data):\n",
    "        data['Unit Type'] = 'None' \n",
    "        data.loc[data['CONDO'] == 1, 'Unit Type'] = 'Condo'\n",
    "    \n",
    "        data.loc[(data['year'] < 2015) & (data['NUNIT2'] == 1 ),'Unit Type'] = 'Detached'\n",
    "        data.loc[(data['year'] < 2015) & (data['NUNIT2'] == 2 ),'Unit Type'] = 'Attached'\n",
    "        \n",
    "        \n",
    "        data.loc[(data['year'] >= 2015) & (data['TYPE'] == 2 ),'Unit Type'] = 'Detached'\n",
    "        data.loc[(data['year'] >= 2015) & (data['TYPE'] == 3 ),'Unit Type'] = 'Attached'\n",
    "        \n",
    "        \n",
    "        return data\n",
    "    \n",
    "    def get_city_names(self,data, smsa_dict):\n",
    "        data['CITY'] = ''\n",
    "        for i in smsa_dict.keys():\n",
    "            data.loc[data['SMSA'] == float(i), 'CITY'] = smsa_dict[str(i)]\n",
    "        return data\n",
    "        \n",
    "        \n",
    "    \n",
    "    def change_build_data(self,data):\n",
    "        \n",
    "        for i in data.year.unique():\n",
    "            data.loc[data.year==i,'BUILT'] = data.loc[data.year==i,'BUILT'].replace({80: 1980,\n",
    "                    81:1981,82:1982,83:1983,84:1984,85:1985,86:1986,87:1987,88:1988,89:1989,\n",
    "                    90:1990,91:1991,92:1992,93:1993,94:1994,95:1995})\n",
    "                 \n",
    "        for i in data.year.unique():\n",
    "            if i >=1985 and i<=1995:\n",
    "                data.loc[data.year==i,'BUILT'] = data.loc[data.year==i,'BUILT'].replace({9: 1919,\n",
    "                        8:1920,7:1930,6:1940,5:1950,4:1960,3:1970,2:1970,1:1970})\n",
    "        \n",
    "        for i in data.year.unique():\n",
    "            data.loc[data.year==i,'BUILT']=data.loc[data.year==i,'BUILT'].replace({1919:1910,\n",
    "                 1981:1980,1982:1980, 1983:1980,1984:1980,1986:1985,1987:1985,1988:1985,1989:1985,\n",
    "                 1991:1990,1992:1990, 1993:1990,1994:1990,1996:1995,1997:1995,1998:1995,1999:1995,\n",
    "                 2001:2000,2002:2000, 2003:2000,2004:2000,2006:2005,2007:2005,2008:2005,2009:2005,\n",
    "                 2011:2010,2012:2010, 2013:2010,2014:2010})\n",
    "        \"\"\"\n",
    "        for i in data.year.unique():\n",
    "            data.loc[data.year==i,'BUILT']=(np.floor(data.loc[data.year==i,'BUILT']/10.0)*\\\n",
    "            10.0).astype(int)\n",
    "        \"\"\"\n",
    "                    \n",
    "            \n",
    "        for i in data.year.unique():\n",
    "            if i >=2015 and i<=2017:\n",
    "                data.loc[data.year==i,'AIRSYS'] = data.loc[data.year==i,'AIRSYS'].replace({2: \\\n",
    "                                    1, 3:1, 4:1, 5:1, 6:1, 7:1, 8:1, 9:1, 10:1, 11:1,12:2})\n",
    "                 \n",
    "        for i in data.year.unique():\n",
    "            if i >=2015 and i<=2017:\n",
    "                data.loc[data.year==i,'BATHS'] = data.loc[data.year==i,'BATHS'].replace({7: 0, \\\n",
    "                    8:0, 9:0, 10:0, 11:0, 12:0, 13:0, 3:2,4:3,5:3,6:4 })\n",
    "            else:\n",
    "                data.loc[data.year==i,'BATHS'] = data.loc[data.year==i,'BATHS'].replace({5:4, \\\n",
    "                                    6:4, 7: 4, 8:4, 9:4, 10:4, 11:4, 12:4, 13:4})\n",
    "        ##modify Ebar data\n",
    "        for i in data.year.unique():\n",
    "            if i<=1995:\n",
    "                data.loc[data.year==i,'EBAR']=data.loc[data.year==i,'EBAR'].replace({0:2})\n",
    "                \n",
    "        return data\n",
    "    \n",
    "    def append_df_to_excel(self,filename, df, sheet_name='Sheet1', startrow=None,\\\n",
    "                           truncate_sheet=False,**to_excel_kwargs):\n",
    "        \n",
    "            # ignore [engine] parameter if it was passed\n",
    "            if 'engine' in to_excel_kwargs:\n",
    "                to_excel_kwargs.pop('engine')\n",
    "        \n",
    "            writer = pd.ExcelWriter(filename, engine='openpyxl')\n",
    "        \n",
    "        \n",
    "        \n",
    "            try:\n",
    "                # try to open an existing workbook\n",
    "                writer.book = load_workbook(filename)\n",
    "        \n",
    "                # get the last row in the existing Excel sheet\n",
    "                # if it was not specified explicitly\n",
    "                if startrow is None and sheet_name in writer.book.sheetnames:\n",
    "                    startrow = writer.book[sheet_name].max_row\n",
    "        \n",
    "                # truncate sheet\n",
    "                if truncate_sheet and sheet_name in writer.book.sheetnames:\n",
    "                    # index of [sheet_name] sheet\n",
    "                    idx = writer.book.sheetnames.index(sheet_name)\n",
    "                    # remove [sheet_name]\n",
    "                    writer.book.remove(writer.book.worksheets[idx])\n",
    "                    # create an empty sheet [sheet_name] using old index\n",
    "                    writer.book.create_sheet(sheet_name, idx)\n",
    "        \n",
    "                # copy existing sheets\n",
    "                writer.sheets = {ws.title:ws for ws in writer.book.worksheets}\n",
    "            except FileNotFoundError:\n",
    "                # file does not exist yet, we will create it\n",
    "                pass\n",
    "        \n",
    "            if startrow is None:\n",
    "                startrow = 0\n",
    "        \n",
    "            # write out the new sheet\n",
    "            df.to_excel(writer, sheet_name, startrow=startrow, **to_excel_kwargs)\n",
    "        \n",
    "            # save the workbook\n",
    "            writer.save()\n",
    "            \n",
    "            \n",
    "    def get_hist(self, data, filter_code, bincount, name):\n",
    "            fig, ax = plt.subplots(len(data.year.value_counts()),1, figsize=(20, 60))\n",
    "            count = 0\n",
    "            for i in data.year.unique():\n",
    "                data.loc[data.year == i, filter_code].hist(bins = 5,ax=ax[count])\n",
    "                ax[count].set_title(filter_code + ' ' + str(i))\n",
    "                count = count + 1\n",
    "            fig.savefig(name)        \n",
    "        \n",
    "        \n",
    "         \n",
    "    \n",
    "    def get_distribution(self,data, filter_code, sheetname, rowloc, title, bins=None):\n",
    "        dct = {}\n",
    "        \n",
    "        for i in data.year.unique():\n",
    "                dct[i] = data.loc[data.year == i, filter_code].value_counts()\n",
    "                \n",
    "        dct = pd.DataFrame(dct)\n",
    "        title_df = pd.DataFrame([title])\n",
    "        try:\n",
    "            self.append_df_to_excel(r'T:\\PhD Students\\breakdown2.xlsx',title_df,sheet_name=sheetname, startrow=rowloc,\\\n",
    "                                    truncate_sheet=False, header = False)\n",
    "\n",
    "            self.append_df_to_excel(r'T:\\PhD Students\\breakdown2.xlsx',dct,sheet_name=sheetname, startrow=rowloc+1,\\\n",
    "                                    truncate_sheet=False)\n",
    "        except PermissionError:\n",
    "            pass\n",
    "        \n",
    "        return dct\n",
    "\n",
    "\n",
    "    def change_rent_data(self, hedonic_model_data):\n",
    "        hedonic_model_data = hedonic_model_data.loc[~((hedonic_model_data['year']<=1995) & \\\n",
    "                                                      (hedonic_model_data['RENT'] == 1))]\n",
    "        hedonic_model_data = hedonic_model_data.loc[~((hedonic_model_data['year']<=1995) & \\\n",
    "                                                      (hedonic_model_data['RENT'] == 999))]\n",
    "        hedonic_model_data = hedonic_model_data.loc[~((hedonic_model_data['year']<=1995) & \\\n",
    "                                                      (hedonic_model_data['RENT'] == 9999))]\n",
    "        hedonic_model_data = hedonic_model_data.loc[~((hedonic_model_data['year']> 1995) & \\\n",
    "                                                      (hedonic_model_data['RENT'] == 9999))]\n",
    "        hedonic_model_data.loc[:, 'RENT'] = hedonic_model_data.loc[:, 'RENT']*12.0\n",
    "        return hedonic_model_data\n",
    "    \n",
    "    def clean_rooms(self, hedonic_model_data):\n",
    "        #gets rid of the data with -6 and -9 response codes\n",
    "        hedonic_model_data = hedonic_model_data.loc[hedonic_model_data['ROOMS'] >= 1]\n",
    "        #gets rid of the top coded values\n",
    "        hedonic_model_data = hedonic_model_data.loc[~((hedonic_model_data['year']>= 2015) & \\\n",
    "                    (hedonic_model_data['year']<= 2017) &(hedonic_model_data['ROOMS'] >= 21))]\n",
    "        \n",
    "        hedonic_model_data = hedonic_model_data.loc[~((hedonic_model_data['year']> 1995) & \\\n",
    "                    (hedonic_model_data['year']< 2015) &(hedonic_model_data['ROOMS'] >= 21))]\n",
    "        \n",
    "        hedonic_model_data = hedonic_model_data.loc[~((hedonic_model_data['year']>= 1985) & \\\n",
    "                    (hedonic_model_data['year']<= 1995) &(hedonic_model_data['ROOMS'] == 99))] \n",
    "        hedonic_model_data = hedonic_model_data.loc[~((hedonic_model_data['year']>= 1985) & \\\n",
    "                    (hedonic_model_data['year']<= 1993) &(hedonic_model_data['ROOMS'] >= 21))] \n",
    "        \n",
    "        return hedonic_model_data\n",
    "    \n",
    "    def clean_built(self,hedonic_model_data):\n",
    "        hedonic_model_data = hedonic_model_data.loc[hedonic_model_data['BUILT'] >= 1]\n",
    "\n",
    "        hedonic_model_data = hedonic_model_data.loc[~((hedonic_model_data['year']<=1995) & \\\n",
    "                                                      (hedonic_model_data['BUILT'] == 99))]\n",
    "        hedonic_model_data = hedonic_model_data.loc[~((hedonic_model_data['year']>1995) & \\\n",
    "                                                      (hedonic_model_data['BUILT'] == B))]\n",
    "\n",
    "        \n",
    "    def clean_value(self, hedonic_model_data):\n",
    "        hedonic_model_data = hedonic_model_data.loc[hedonic_model_data['VALUE'] >= 1]\n",
    "        \n",
    "        hedonic_model_data = hedonic_model_data.loc[~((hedonic_model_data['year']<=1995) & \\\n",
    "                                                      (hedonic_model_data['VALUE'] == 999999))]\n",
    "        hedonic_model_data = hedonic_model_data.loc[~((hedonic_model_data['year']<=1995) & \\\n",
    "                                                      (hedonic_model_data['VALUE'] == 250001))]\n",
    "        hedonic_model_data = hedonic_model_data.loc[~((hedonic_model_data['year']>1995) & \\\n",
    "                                                      (hedonic_model_data['VALUE'] > 250000))]\n",
    "        hedonic_model_data = hedonic_model_data.loc[~((hedonic_model_data['year']>1995) & \\\n",
    "                                                      (hedonic_model_data['VALUE'] ==R))]\n",
    "        hedonic_model_data = hedonic_model_data.loc[~((hedonic_model_data['year']>1995) & \\\n",
    "                                                      (hedonic_model_data['VALUE'] == D))]\n",
    "        hedonic_model_data = hedonic_model_data.loc[~((hedonic_model_data['year']>1995) & \\\n",
    "                                                      (hedonic_model_data['VALUE'] == B))]\n",
    "        hedonic_model_data = hedonic_model_data.loc[~((hedonic_model_data['year']>1995) & \\\n",
    "                                                      (hedonic_model_data['VALUE'] ==.))]\n",
    "    def clean_EBAR(self,hedonic_model_data):\n",
    "        hedonic_model_data = hedonic_model_data.loc[hedonic_model_data['VALUE'] >= 1]\n",
    "        hedonic_model_data = hedonic_model_data.loc[~hedonic_model_data['VALUE'] == 9]\n",
    "        hedonic_model_data = hedonic_model_data.loc[~hedonic_model_data['VALUE'] == R]\n",
    "        hedonic_model_data = hedonic_model_data.loc[~hedonic_model_data['VALUE'] == D]\n",
    "        hedonic_model_data = hedonic_model_data.loc[~hedonic_model_data['VALUE'] == B]\n",
    "        hedonic_model_data = hedonic_model_data.loc[~hedonic_model_data['VALUE'] == M]\n",
    "        hedonic_model_data = hedonic_model_data.loc[~hedonic_model_data['VALUE'] == N]\n",
    "    \n",
    "    \n",
    "    def clean_bdrms(self, hedonic_model_data):\n",
    "\n",
    "        #gets rid of the data with -6 and -9 response codes\n",
    "        hedonic_model_data = hedonic_model_data.loc[hedonic_model_data['BEDRMS'] >= 0]\n",
    "        #gets rid of the top coded values\n",
    "        hedonic_model_data = hedonic_model_data.loc[~((hedonic_model_data['year']>= 2015) & \\\n",
    "                    (hedonic_model_data['year']<= 2017) &(hedonic_model_data['BEDRMS'] == 10))]\n",
    "        \n",
    "        hedonic_model_data = hedonic_model_data.loc[~((hedonic_model_data['year']> 1995) & \\\n",
    "                    (hedonic_model_data['year']< 2015) &(hedonic_model_data['BEDRMS'] == 10))]\n",
    "        \n",
    "        hedonic_model_data = hedonic_model_data.loc[~((hedonic_model_data['year']>= 1985) & \\\n",
    "                    (hedonic_model_data['year']<= 1995) &(hedonic_model_data['BEDRMS'] == 10))] \n",
    "        \n",
    "        hedonic_model_data = hedonic_model_data.loc[~((hedonic_model_data['year']>= 1985) & \\\n",
    "                    (hedonic_model_data['year']<= 1995) &(hedonic_model_data['BEDRMS'] == 99))] \n",
    "        \n",
    "        return hedonic_model_data"
   ]
  },
  {
   "cell_type": "markdown",
   "metadata": {},
   "source": [
    "Create a class for calculations"
   ]
  },
  {
   "cell_type": "code",
   "execution_count": 29,
   "metadata": {},
   "outputs": [],
   "source": [
    "class Calculations():\n",
    "    \n",
    "    def get_mean_var(self, data, varname):\n",
    "        mean_yearly=pd.DataFrame(np.nan,index=data['year'].unique(), columns=range(1))\n",
    "        for i in data['year'].unique():\n",
    "            sample_year=data.loc[data['year']==i,:]\n",
    "            mean_year=np.mean(sample_year[varname])\n",
    "            mean_yearly.loc[i,:]=mean_year\n",
    "        \n",
    "        print(mean_yearly)        \n",
    "        mean_yearly.plot(kind='bar')\n",
    "        return mean_yearly\n",
    "    "
   ]
  },
  {
   "cell_type": "markdown",
   "metadata": {},
   "source": [
    "instantiate the class with objects so that we can do our analysis"
   ]
  },
  {
   "cell_type": "code",
   "execution_count": 30,
   "metadata": {},
   "outputs": [],
   "source": [
    "    c = Cleaning()\n",
    "    calc = Calculations()"
   ]
  },
  {
   "cell_type": "markdown",
   "metadata": {},
   "source": [
    "# # Reading the Data"
   ]
  },
  {
   "cell_type": "markdown",
   "metadata": {},
   "source": [
    "read the cleaned files in a local directory and concatenate the data into one data frame called hedonic_model_data for analysis. This data contains the relevant variables of interest "
   ]
  },
  {
   "cell_type": "code",
   "execution_count": 31,
   "metadata": {},
   "outputs": [],
   "source": [
    "    filepath = r'T:\\PhD Students\\ftp_data_census2'\n",
    "    hedonic_model_data = pd.DataFrame()\n",
    "    sample = {}\n",
    "    for item in os.listdir(filepath):\n",
    "        if item[0] == 'o':\n",
    "            year = int(item.split(\".\")[0][1:])\n",
    "            data = pd.read_hdf(os.path.join(filepath, item))\n",
    "            \n",
    "            if len(hedonic_model_data.index) == 0:\n",
    "                hedonic_model_data = data.copy()\n",
    "            else:\n",
    "                hedonic_model_data = pd.concat([hedonic_model_data, data.copy()], axis = 0)\n",
    "                "
   ]
  },
  {
   "cell_type": "markdown",
   "metadata": {},
   "source": [
    "print out the data to make sure that it was read correctly"
   ]
  },
  {
   "cell_type": "code",
   "execution_count": 32,
   "metadata": {},
   "outputs": [
    {
     "name": "stdout",
     "output_type": "stream",
     "text": [
      "    year  VACANCY  RENT  ZINC2  EBAR  RCNTRL   VALUE NUNIT2  CONDO  TENURE  \\\n",
      "7   1985     -9.0    -9  42000   0.0    -9.0   75000      1    3.0     1.0   \n",
      "14  1985     -9.0    -9  15000   0.0     2.0      -9      3    3.0     3.0   \n",
      "17  1985      7.0    -9     -9   0.0    -9.0      -9      1    3.0    -9.0   \n",
      "26  1985     -9.0   425   4100   0.0     2.0      -9      3    3.0     2.0   \n",
      "27  1985     -9.0   565  33000   0.0     2.0      -9      3    3.0     2.0   \n",
      "35  1985     -9.0    -9  35500   0.0    -9.0  105000      1    1.0     1.0   \n",
      "36  1985     -9.0    -9     -9  -9.0    -9.0      -9     -9   -9.0    -9.0   \n",
      "37  1985     -9.0   325  15000   0.0     2.0      -9      2    3.0     2.0   \n",
      "42  1985      2.0   750     -9   0.0     2.0      -9      2    1.0    -9.0   \n",
      "43  1985     -9.0    -9  73000   0.0    -9.0  120000      1    3.0     1.0   \n",
      "\n",
      "      SMSA  ROOMS  BATHS  AIRSYS  TYPE  BUILT  BEDRMS  \n",
      "7   1680.0      5    1.0     2.0   1.0     84       3  \n",
      "14   520.0      5    2.0     1.0   1.0      1       2  \n",
      "17  2120.0      5    1.0     1.0   1.0     81       1  \n",
      "26   640.0      4    1.0     1.0   1.0     84       2  \n",
      "27   640.0      4    2.0     1.0   1.0     82       2  \n",
      "35  1640.0      7    2.0     1.0   1.0     83       4  \n",
      "36  7560.0     -9   -9.0    -9.0  -9.0     -9      -9  \n",
      "37  6080.0      4    2.0     1.0   1.0     82       2  \n",
      "42  3980.0      5    2.0     1.0   1.0     83       2  \n",
      "43  9040.0      8    2.0     1.0   1.0     84       4  \n"
     ]
    }
   ],
   "source": [
    "print(hedonic_model_data.head(10))\n",
    "all_data = hedonic_model_data.copy()"
   ]
  },
  {
   "cell_type": "markdown",
   "metadata": {},
   "source": [
    "## Data Selection"
   ]
  },
  {
   "cell_type": "markdown",
   "metadata": {},
   "source": [
    "We will output our results to a local excel file as well with the following code. "
   ]
  },
  {
   "cell_type": "code",
   "execution_count": 33,
   "metadata": {},
   "outputs": [],
   "source": [
    "    if computer_name == 'FINC-360-JJA':\n",
    "\n",
    "        if os.path.exists(r'T:\\PhD Students\\breakdown.xlsx'):\n",
    "            os.remove(r'T:\\PhD Students\\breakdown2.xlsx')\n",
    "\n",
    "        #we will write our results to a local excel file called breakdown\n",
    "        workbook = xlsxwriter.Workbook(r'T:\\PhD Students\\breakdown2.xlsx')\n",
    "        workbook.close()\n",
    "    else:\n",
    "        if os.path.exists(r'T:\\PhD Students\\breakdown.xlsx'):\n",
    "            os.remove(r'T:\\PhD Students\\breakdown.xlsx')\n",
    "\n",
    "        #we will write our results to a local excel file called breakdown\n",
    "        workbook = xlsxwriter.Workbook(r'T:\\PhD Students\\breakdown.xlsx')\n",
    "        workbook.close()    "
   ]
  },
  {
   "cell_type": "markdown",
   "metadata": {},
   "source": [
    "<b>Clean the data for rooms <b>"
   ]
  },
  {
   "cell_type": "code",
   "execution_count": 34,
   "metadata": {},
   "outputs": [
    {
     "name": "stdout",
     "output_type": "stream",
     "text": [
      "        1985     1987     1989     1991     1993     1995    1997    1999  \\\n",
      "-9    2261.0   1787.0   2689.0   2468.0   2908.0   4459.0     NaN     NaN   \n",
      "-6       NaN      NaN      NaN      NaN      NaN      NaN  5383.0  6977.0   \n",
      " 1     947.0    614.0    716.0    637.0    729.0    490.0   116.0   206.0   \n",
      " 2    1612.0   1033.0   1148.0   1052.0   1034.0    833.0   347.0   500.0   \n",
      " 3   10482.0   7617.0   7991.0   7780.0   7336.0   6220.0  3018.0  3493.0   \n",
      " 4   14917.0  12123.0  12367.0  12568.0  11415.0  10350.0  4527.0  5446.0   \n",
      " 5   14723.0  11482.0  12472.0  12819.0  11645.0  11232.0  4012.0  5467.0   \n",
      " 6   12847.0  10021.0  11185.0  11208.0  10491.0  10721.0  3763.0  5190.0   \n",
      " 7    8189.0   6348.0   7013.0   7289.0   6957.0   7132.0  2503.0  3043.0   \n",
      " 8    4847.0   4066.0   4243.0   4767.0   4562.0   4460.0  1545.0  1857.0   \n",
      " 9    2481.0   1917.0   2053.0   2151.0   2348.0   2134.0   789.0   885.0   \n",
      " 10    983.0    756.0    793.0    877.0    979.0    923.0   316.0   341.0   \n",
      " 11    412.0    313.0    308.0    328.0    418.0    337.0   121.0   133.0   \n",
      " 12    150.0    132.0    111.0    171.0    161.0    159.0    59.0    69.0   \n",
      " 13     80.0     80.0     76.0     79.0     77.0     56.0    39.0    41.0   \n",
      " 14     22.0     25.0     33.0     31.0     24.0     21.0    19.0    19.0   \n",
      " 15     22.0     13.0     12.0     14.0     14.0     12.0     9.0     8.0   \n",
      " 16      8.0      8.0      4.0      7.0     11.0     11.0    12.0     3.0   \n",
      " 17      4.0      2.0      2.0      7.0      1.0      5.0     5.0     3.0   \n",
      " 18      1.0      2.0      1.0      1.0      2.0      1.0     2.0     5.0   \n",
      " 19      2.0      NaN      NaN      NaN      1.0      2.0     2.0     1.0   \n",
      " 20      NaN      1.0      NaN      1.0      1.0      1.0     1.0     NaN   \n",
      " 21      1.0      NaN      NaN      NaN      NaN      NaN     3.0     2.0   \n",
      " 22      NaN      1.0      1.0      NaN      NaN      NaN     NaN     NaN   \n",
      " 23      NaN      1.0      NaN      NaN      NaN      NaN     NaN     NaN   \n",
      " 99   6368.0   4167.0   7911.0   7901.0   6246.0   2730.0     NaN     NaN   \n",
      "\n",
      "       2001    2003    2005     2007     2009     2011     2013     2015  \\\n",
      "-9      NaN     NaN     NaN      NaN      NaN      NaN      NaN      NaN   \n",
      "-6   5954.0  7082.0  7004.0  11034.0  13622.0  22100.0  20088.0      NaN   \n",
      " 1    151.0   169.0   173.0    216.0    186.0    549.0    361.0    304.0   \n",
      " 2    375.0   506.0   401.0    478.0    487.0   1365.0   1253.0    738.0   \n",
      " 3   2694.0  3523.0  2727.0   4126.0   3777.0  12219.0  11104.0   6202.0   \n",
      " 4   4237.0  5359.0  4213.0   6601.0   5739.0  19799.0  17668.0  10661.0   \n",
      " 5   4575.0  5769.0  4520.0   6982.0   6366.0  23172.0  20514.0  13030.0   \n",
      " 6   4121.0  5303.0  4130.0   6752.0   6007.0  21204.0  20250.0  12478.0   \n",
      " 7   2439.0  3069.0  2397.0   4711.0   4016.0  14259.0  13507.0   8627.0   \n",
      " 8   1499.0  1794.0  1450.0   3038.0   2435.0   9164.0   8769.0   5800.0   \n",
      " 9    677.0   841.0   677.0   1375.0   1084.0   4339.0   4144.0   3004.0   \n",
      " 10   271.0   340.0   308.0    591.0    416.0   1791.0   1755.0   1153.0   \n",
      " 11   121.0   164.0   139.0    281.0    174.0    714.0    799.0    450.0   \n",
      " 12   108.0   177.0   177.0    103.0     65.0    354.0    288.0    264.0   \n",
      " 13    74.0   200.0   219.0     52.0     35.0    105.0    210.0     22.0   \n",
      " 14    51.0   125.0   114.0     18.0     12.0     79.0     49.0      NaN   \n",
      " 15    14.0    27.0    28.0      7.0      4.0      9.0     10.0      NaN   \n",
      " 16     2.0     9.0     8.0      8.0      5.0      NaN      NaN      NaN   \n",
      " 17     4.0     NaN     1.0      1.0      2.0      NaN      NaN      NaN   \n",
      " 18     2.0     3.0     2.0      1.0      3.0      NaN      NaN      NaN   \n",
      " 19     2.0     NaN     1.0      NaN      NaN      NaN      NaN      NaN   \n",
      " 20     NaN     2.0     NaN      NaN      NaN      NaN      NaN      NaN   \n",
      " 21     NaN     1.0     NaN      2.0      NaN      NaN      NaN      NaN   \n",
      " 22     NaN     NaN     NaN      NaN      NaN      NaN      NaN      NaN   \n",
      " 23     NaN     NaN     NaN      NaN      NaN      NaN      NaN      NaN   \n",
      " 99     NaN     NaN     NaN      NaN      NaN      NaN      NaN      NaN   \n",
      "\n",
      "        2017  \n",
      "-9       NaN  \n",
      "-6       NaN  \n",
      " 1     319.0  \n",
      " 2     669.0  \n",
      " 3    5887.0  \n",
      " 4   10139.0  \n",
      " 5   12307.0  \n",
      " 6   12276.0  \n",
      " 7    8375.0  \n",
      " 8    5668.0  \n",
      " 9    2705.0  \n",
      " 10    934.0  \n",
      " 11    349.0  \n",
      " 12    186.0  \n",
      " 13     26.0  \n",
      " 14      2.0  \n",
      " 15      NaN  \n",
      " 16      NaN  \n",
      " 17      NaN  \n",
      " 18      NaN  \n",
      " 19      NaN  \n",
      " 20      NaN  \n",
      " 21      NaN  \n",
      " 22      NaN  \n",
      " 23      NaN  \n",
      " 99      NaN  \n"
     ]
    }
   ],
   "source": [
    "    rooms = c.get_distribution(all_data, 'ROOMS','ROOMS',1, title = 'All Data' + 'ROOMS')\n",
    "    print(rooms)"
   ]
  },
  {
   "cell_type": "markdown",
   "metadata": {},
   "source": [
    "For the years 1985-1995 a response code of -9 represents not applicable. For the years 1997-2013 a response code of -6 represents not applicable. For this time frame it is top coded for 21 rooms or more. The years 2015 and 2017 do not have response codes for not applicable. For this time frame it is top coded for 27 rooms or more. For the years 1985-1993 it is top coded for 21."
   ]
  },
  {
   "cell_type": "markdown",
   "metadata": {},
   "source": [
    " hedonic_model_data = c.clean_rooms(hedonic_model_data)\n",
    " rooms = c.get_distribution(hedonic_model_data, 'ROOMS','ROOMS',1, title = 'All Data' + 'ROOMS')\n",
    " print(rooms)"
   ]
  },
  {
   "cell_type": "markdown",
   "metadata": {},
   "source": [
    "cleaned data"
   ]
  },
  {
   "cell_type": "code",
   "execution_count": 35,
   "metadata": {
    "scrolled": true
   },
   "outputs": [
    {
     "name": "stdout",
     "output_type": "stream",
     "text": [
      "       1985     1987     1989     1991     1993     1995    1997    1999  \\\n",
      "1     947.0    614.0    716.0    637.0    729.0    490.0   116.0   206.0   \n",
      "2    1612.0   1033.0   1148.0   1052.0   1034.0    833.0   347.0   500.0   \n",
      "3   10482.0   7617.0   7991.0   7780.0   7336.0   6220.0  3018.0  3493.0   \n",
      "4   14917.0  12123.0  12367.0  12568.0  11415.0  10350.0  4527.0  5446.0   \n",
      "5   14723.0  11482.0  12472.0  12819.0  11645.0  11232.0  4012.0  5467.0   \n",
      "6   12847.0  10021.0  11185.0  11208.0  10491.0  10721.0  3763.0  5190.0   \n",
      "7    8189.0   6348.0   7013.0   7289.0   6957.0   7132.0  2503.0  3043.0   \n",
      "8    4847.0   4066.0   4243.0   4767.0   4562.0   4460.0  1545.0  1857.0   \n",
      "9    2481.0   1917.0   2053.0   2151.0   2348.0   2134.0   789.0   885.0   \n",
      "10    983.0    756.0    793.0    877.0    979.0    923.0   316.0   341.0   \n",
      "11    412.0    313.0    308.0    328.0    418.0    337.0   121.0   133.0   \n",
      "12    150.0    132.0    111.0    171.0    161.0    159.0    59.0    69.0   \n",
      "13     80.0     80.0     76.0     79.0     77.0     56.0    39.0    41.0   \n",
      "14     22.0     25.0     33.0     31.0     24.0     21.0    19.0    19.0   \n",
      "15     22.0     13.0     12.0     14.0     14.0     12.0     9.0     8.0   \n",
      "16      8.0      8.0      4.0      7.0     11.0     11.0    12.0     3.0   \n",
      "17      4.0      2.0      2.0      7.0      1.0      5.0     5.0     3.0   \n",
      "18      1.0      2.0      1.0      1.0      2.0      1.0     2.0     5.0   \n",
      "19      2.0      NaN      NaN      NaN      1.0      2.0     2.0     1.0   \n",
      "20      NaN      1.0      NaN      1.0      1.0      1.0     1.0     NaN   \n",
      "22      NaN      1.0      1.0      NaN      NaN      NaN     NaN     NaN   \n",
      "23      NaN      1.0      NaN      NaN      NaN      NaN     NaN     NaN   \n",
      "\n",
      "      2001    2003    2005    2007    2009     2011     2013     2015     2017  \n",
      "1    151.0   169.0   173.0   216.0   186.0    549.0    361.0    304.0    319.0  \n",
      "2    375.0   506.0   401.0   478.0   487.0   1365.0   1253.0    738.0    669.0  \n",
      "3   2694.0  3523.0  2727.0  4126.0  3777.0  12219.0  11104.0   6202.0   5887.0  \n",
      "4   4237.0  5359.0  4213.0  6601.0  5739.0  19799.0  17668.0  10661.0  10139.0  \n",
      "5   4575.0  5769.0  4520.0  6982.0  6366.0  23172.0  20514.0  13030.0  12307.0  \n",
      "6   4121.0  5303.0  4130.0  6752.0  6007.0  21204.0  20250.0  12478.0  12276.0  \n",
      "7   2439.0  3069.0  2397.0  4711.0  4016.0  14259.0  13507.0   8627.0   8375.0  \n",
      "8   1499.0  1794.0  1450.0  3038.0  2435.0   9164.0   8769.0   5800.0   5668.0  \n",
      "9    677.0   841.0   677.0  1375.0  1084.0   4339.0   4144.0   3004.0   2705.0  \n",
      "10   271.0   340.0   308.0   591.0   416.0   1791.0   1755.0   1153.0    934.0  \n",
      "11   121.0   164.0   139.0   281.0   174.0    714.0    799.0    450.0    349.0  \n",
      "12   108.0   177.0   177.0   103.0    65.0    354.0    288.0    264.0    186.0  \n",
      "13    74.0   200.0   219.0    52.0    35.0    105.0    210.0     22.0     26.0  \n",
      "14    51.0   125.0   114.0    18.0    12.0     79.0     49.0      NaN      2.0  \n",
      "15    14.0    27.0    28.0     7.0     4.0      9.0     10.0      NaN      NaN  \n",
      "16     2.0     9.0     8.0     8.0     5.0      NaN      NaN      NaN      NaN  \n",
      "17     4.0     NaN     1.0     1.0     2.0      NaN      NaN      NaN      NaN  \n",
      "18     2.0     3.0     2.0     1.0     3.0      NaN      NaN      NaN      NaN  \n",
      "19     2.0     NaN     1.0     NaN     NaN      NaN      NaN      NaN      NaN  \n",
      "20     NaN     2.0     NaN     NaN     NaN      NaN      NaN      NaN      NaN  \n",
      "22     NaN     NaN     NaN     NaN     NaN      NaN      NaN      NaN      NaN  \n",
      "23     NaN     NaN     NaN     NaN     NaN      NaN      NaN      NaN      NaN  \n"
     ]
    }
   ],
   "source": [
    "rooms = c.clean_rooms(all_data)\n",
    "rooms = c.get_distribution(rooms, 'ROOMS','ROOMS',1, title = 'All Data' + 'ROOMS')\n",
    "print(rooms)\n"
   ]
  },
  {
   "cell_type": "markdown",
   "metadata": {},
   "source": [
    " <b>clean the data for bedrms<b>"
   ]
  },
  {
   "cell_type": "code",
   "execution_count": 36,
   "metadata": {},
   "outputs": [
    {
     "name": "stdout",
     "output_type": "stream",
     "text": [
      "        1985     1987     1989     1991     1993     1995    1997    1999  \\\n",
      "-9    2261.0   1789.0   2689.0   2468.0   2908.0   4459.0     NaN     NaN   \n",
      "-6       NaN      NaN      NaN      NaN      NaN      NaN  5383.0  6977.0   \n",
      " 0    2035.0   1214.0   1501.0   1268.0   1402.0    936.0   159.0   469.0   \n",
      " 1   13997.0  10418.0  11341.0  11186.0  10227.0   8893.0  3937.0  4674.0   \n",
      " 2   23276.0  18335.0  19421.0  19681.0  18403.0  16595.0  6574.0  7985.0   \n",
      " 3   23677.0  18792.0  20106.0  20718.0  19133.0  20023.0  7187.0  9368.0   \n",
      " 4    7983.0   6382.0   6771.0   7335.0   7445.0   7164.0  2679.0  3374.0   \n",
      " 5    1388.0   1101.0   1109.0   1284.0   1299.0   1207.0   484.0   680.0   \n",
      " 6     278.0    203.0    200.0    211.0    218.0    197.0   144.0   113.0   \n",
      " 7      57.0     44.0     42.0     45.0     49.0     40.0    16.0    24.0   \n",
      " 8      12.0     30.0     12.0      9.0     11.0     14.0    23.0    16.0   \n",
      " 9       2.0      2.0      1.0      4.0      5.0      7.0     3.0     7.0   \n",
      " 10     25.0     32.0     25.0     46.0     14.0     24.0     2.0     2.0   \n",
      " 99   6368.0   4167.0   7911.0   7901.0   6246.0   2730.0     NaN     NaN   \n",
      "\n",
      "       2001    2003    2005     2007     2009     2011     2013     2015  \\\n",
      "-9      NaN     NaN     NaN      NaN      NaN      NaN      NaN      NaN   \n",
      "-6   5954.0  7082.0  7004.0  11034.0  13622.0  22100.0  20088.0      NaN   \n",
      " 0    334.0   444.0   367.0    475.0    453.0   1394.0   1147.0    633.0   \n",
      " 1   3691.0  4716.0  3733.0   5581.0   4986.0  15932.0  15360.0   8724.0   \n",
      " 2   6297.0  8011.0  6280.0   9950.0   8432.0  29599.0  26377.0  16156.0   \n",
      " 3   7554.0  9559.0  7520.0  12249.0  11116.0  39699.0  37218.0  22753.0   \n",
      " 4   2828.0  3742.0  3000.0   5590.0   4663.0  18016.0  16549.0  11330.0   \n",
      " 5    577.0   723.0   644.0   1229.0    940.0   3851.0   3486.0   3137.0   \n",
      " 6     96.0   144.0   102.0    202.0    172.0    541.0    442.0      NaN   \n",
      " 7     25.0    26.0    24.0     42.0     29.0     78.0    102.0      NaN   \n",
      " 8      8.0    12.0    12.0     15.0     11.0     12.0      NaN      NaN   \n",
      " 9      4.0     2.0     1.0      3.0      5.0      NaN      NaN      NaN   \n",
      " 10     3.0     2.0     2.0      7.0      6.0      NaN      NaN      NaN   \n",
      " 99     NaN     NaN     NaN      NaN      NaN      NaN      NaN      NaN   \n",
      "\n",
      "        2017  \n",
      "-9       NaN  \n",
      "-6       NaN  \n",
      " 0     641.0  \n",
      " 1    8341.0  \n",
      " 2   15153.0  \n",
      " 3   21717.0  \n",
      " 4   11065.0  \n",
      " 5    2925.0  \n",
      " 6       NaN  \n",
      " 7       NaN  \n",
      " 8       NaN  \n",
      " 9       NaN  \n",
      " 10      NaN  \n",
      " 99      NaN  \n"
     ]
    }
   ],
   "source": [
    "bedrms = c.get_distribution(all_data, 'BEDRMS','BEDRMS',1, title = 'All Data' + 'BEDRMS')\n",
    "print(bedrms)"
   ]
  },
  {
   "cell_type": "markdown",
   "metadata": {},
   "source": [
    "For the years 1985-1999 a response code of -9 represents not applicable. For the years 1997-2013 a response code of -6 represents not applicable. The values are top coded at 10. Remove response code of 99 for 1985-19995."
   ]
  },
  {
   "cell_type": "markdown",
   "metadata": {},
   "source": [
    "cleaned data output"
   ]
  },
  {
   "cell_type": "code",
   "execution_count": 37,
   "metadata": {},
   "outputs": [
    {
     "name": "stdout",
     "output_type": "stream",
     "text": [
      "    1985   1987   1989   1991   1993   1995  1997  1999  2001  2003  2005  \\\n",
      "0   2035   1214   1501   1268   1402    936   159   469   334   444   367   \n",
      "1  13997  10418  11341  11186  10227   8893  3937  4674  3691  4716  3733   \n",
      "2  23276  18335  19421  19681  18403  16595  6574  7985  6297  8011  6280   \n",
      "3  23677  18792  20106  20718  19133  20023  7187  9368  7554  9559  7520   \n",
      "4   7983   6382   6771   7335   7445   7164  2679  3374  2828  3742  3000   \n",
      "5   1388   1101   1109   1284   1299   1207   484   680   577   723   644   \n",
      "6    278    203    200    211    218    197   144   113    96   144   102   \n",
      "7     57     44     42     45     49     40    16    24    25    26    24   \n",
      "8     12     30     12      9     11     14    23    16     8    12    12   \n",
      "9      2      2      1      4      5      7     3     7     4     2     1   \n",
      "\n",
      "    2007   2009     2011     2013     2015     2017  \n",
      "0    475    453   1394.0   1147.0    633.0    641.0  \n",
      "1   5581   4986  15932.0  15360.0   8724.0   8341.0  \n",
      "2   9950   8432  29599.0  26377.0  16156.0  15153.0  \n",
      "3  12249  11116  39699.0  37218.0  22753.0  21717.0  \n",
      "4   5590   4663  18016.0  16549.0  11330.0  11065.0  \n",
      "5   1229    940   3851.0   3486.0   3137.0   2925.0  \n",
      "6    202    172    541.0    442.0      NaN      NaN  \n",
      "7     42     29     78.0    102.0      NaN      NaN  \n",
      "8     15     11     12.0      NaN      NaN      NaN  \n",
      "9      3      5      NaN      NaN      NaN      NaN  \n"
     ]
    }
   ],
   "source": [
    "bedrms = c.clean_bdrms(all_data)\n",
    "bedrms = c.get_distribution(bedrms, 'BEDRMS','BEDRMS',1, title = 'All Data' + 'BEDRMS')\n",
    "print(bedrms)\n"
   ]
  },
  {
   "cell_type": "markdown",
   "metadata": {},
   "source": [
    "Actually clean the data for hedonic model"
   ]
  },
  {
   "cell_type": "code",
   "execution_count": 38,
   "metadata": {},
   "outputs": [
    {
     "name": "stdout",
     "output_type": "stream",
     "text": [
      "       year  VACANCY  RENT   ZINC2  EBAR  RCNTRL   VALUE NUNIT2  CONDO  \\\n",
      "7      1985     -9.0    -9   42000   0.0    -9.0   75000      1    3.0   \n",
      "14     1985     -9.0    -9   15000   0.0     2.0      -9      3    3.0   \n",
      "17     1985      7.0    -9      -9   0.0    -9.0      -9      1    3.0   \n",
      "26     1985     -9.0   425    4100   0.0     2.0      -9      3    3.0   \n",
      "27     1985     -9.0   565   33000   0.0     2.0      -9      3    3.0   \n",
      "35     1985     -9.0    -9   35500   0.0    -9.0  105000      1    1.0   \n",
      "37     1985     -9.0   325   15000   0.0     2.0      -9      2    3.0   \n",
      "42     1985      2.0   750      -9   0.0     2.0      -9      2    1.0   \n",
      "43     1985     -9.0    -9   73000   0.0    -9.0  120000      1    3.0   \n",
      "44     1985     -9.0   650   25800   0.0    -9.0      -9      3    3.0   \n",
      "47     1985     -9.0    -9   42200   0.0    -9.0   85000      2    1.0   \n",
      "48     1985     -9.0    -9   65000   0.0    -9.0  160000      1    3.0   \n",
      "52     1985     -9.0    -9   63000   0.0    -9.0  106000      1    3.0   \n",
      "53     1985     -9.0    -9   20999   0.0    -9.0  187000      1    3.0   \n",
      "54     1985     -9.0   320   35000   0.0     2.0      -9      3    3.0   \n",
      "56     1985     -9.0    -9   72100   0.0    -9.0   62000      2    3.0   \n",
      "57     1985     -9.0   550   19600   0.0     2.0      -9      3    1.0   \n",
      "58     1985     -9.0    -9   41200   0.0    -9.0   95000      1    3.0   \n",
      "60     1985     -9.0    -9   21800   0.0    -9.0  160000      1    3.0   \n",
      "61     1985     -9.0    -9   48000   0.0    -9.0   70000      1    3.0   \n",
      "63     1985     -9.0   500    4800   0.0    -9.0      -9      3    3.0   \n",
      "66     1985     -9.0   495   39800   0.0     2.0      -9      1    3.0   \n",
      "68     1985     -9.0   600  101400   0.0     2.0      -9      3    1.0   \n",
      "70     1985     -9.0   575   12000   0.0     2.0      -9      3    3.0   \n",
      "71     1985     -9.0    -9   35080   0.0    -9.0   88000      1    3.0   \n",
      "72     1985     -9.0    -9   10368   0.0    -9.0   16000      4    3.0   \n",
      "78     1985     -9.0    -9   46000   0.0    -9.0   78000      1    3.0   \n",
      "79     1985      5.0    -9      -9   0.0    -9.0  152000      1    3.0   \n",
      "84     1985     -9.0    -9   56000   0.0    -9.0  250000      1    3.0   \n",
      "85     1985     -9.0    -9   17500   0.0    -9.0  100000      1    3.0   \n",
      "...     ...      ...   ...     ...   ...     ...     ...    ...    ...   \n",
      "23054  2017     -6.0    -6  120700   2.0    -6.0  619661   none    2.0   \n",
      "23055  2017     -6.0    -6   36500   2.0    -6.0   43892   none    2.0   \n",
      "23056  2017     -6.0    -6  130000   2.0    -6.0  110682   none    2.0   \n",
      "23057  2017     -6.0    -6  108500   2.0    -6.0   31146   none    2.0   \n",
      "23058  2017     -6.0   850   63000  -6.0    -6.0      -6   none    2.0   \n",
      "23059  2017     -6.0    -6   45000   1.0    -6.0   79336   none    2.0   \n",
      "23060  2017     -6.0    -6   18300   2.0    -6.0  192492   none    2.0   \n",
      "23061  2017     -6.0  1000   33000   2.0    -6.0      -6   none    2.0   \n",
      "23062  2017     -6.0    -6   27600   2.0    -6.0  146023   none    2.0   \n",
      "23063  2017      1.0   960      -6  -6.0    -6.0      -6   none    2.0   \n",
      "23064  2017     -6.0   300   20000   2.0    -6.0      -6   none    2.0   \n",
      "23065  2017     -6.0    -6  222000   2.0    -6.0  368035   none    2.0   \n",
      "23066  2017     -6.0  1000   67000  -6.0    -6.0      -6   none    2.0   \n",
      "23067  2017     -6.0    -6   41300   2.0    -6.0  171810   none    2.0   \n",
      "23068  2017     -6.0    -6  222000   2.0    -6.0  370738   none    2.0   \n",
      "23069  2017     -6.0  1200  242000  -9.0    -6.0      -6   none    2.0   \n",
      "23070  2017     -6.0    -6  120500   2.0    -6.0  416212   none    2.0   \n",
      "23071  2017     -6.0    -6   14000   2.0    -6.0  207380   none    2.0   \n",
      "23072  2017     -6.0    -6  100000   2.0    -6.0   92593   none    2.0   \n",
      "23073  2017     -6.0    -6   90000   2.0    -6.0  347847   none    2.0   \n",
      "23074  2017     -6.0    -6   58000   2.0    -6.0   79905   none    2.0   \n",
      "23075  2017      7.0    -6      -6   2.0    -6.0   44341   none    2.0   \n",
      "23076  2017     -6.0    -6   21500   2.0    -6.0   75164   none    2.0   \n",
      "23077  2017     -6.0    -6   49310   2.0    -6.0  150071   none    2.0   \n",
      "23078  2017     -6.0    -6   89200   2.0    -6.0  752056   none    2.0   \n",
      "23079  2017      6.0    -6      -6   2.0    -6.0   52573   none    2.0   \n",
      "23080  2017      1.0   730      -6  -6.0    -6.0      -6   none    2.0   \n",
      "23081  2017     -6.0    -6   45210   2.0    -6.0  211698   none    2.0   \n",
      "23082  2017     -6.0   900   45000  -6.0    -6.0      -6   none    2.0   \n",
      "23083  2017      1.0  3600      -6  -6.0    -6.0      -6   none    2.0   \n",
      "\n",
      "       TENURE     SMSA  ROOMS  BATHS  AIRSYS  TYPE  BUILT  BEDRMS  \n",
      "7         1.0   1680.0      5    1.0     2.0   1.0     84       3  \n",
      "14        3.0    520.0      5    2.0     1.0   1.0      1       2  \n",
      "17       -9.0   2120.0      5    1.0     1.0   1.0     81       1  \n",
      "26        2.0    640.0      4    1.0     1.0   1.0     84       2  \n",
      "27        2.0    640.0      4    2.0     1.0   1.0     82       2  \n",
      "35        1.0   1640.0      7    2.0     1.0   1.0     83       4  \n",
      "37        2.0   6080.0      4    2.0     1.0   1.0     82       2  \n",
      "42       -9.0   3980.0      5    2.0     1.0   1.0     83       2  \n",
      "43        1.0   9040.0      8    2.0     1.0   1.0     84       4  \n",
      "44        2.0   3320.0      3    1.0     2.0   1.0     82       1  \n",
      "47        1.0   1600.0     10    1.0     1.0   1.0     83       2  \n",
      "48        1.0   1600.0      5    2.0     1.0   1.0     82       2  \n",
      "52        1.0   3160.0      7    2.0     1.0   1.0     81       4  \n",
      "53        1.0   3600.0      9    2.0     1.0   1.0     83       3  \n",
      "54        2.0    460.0      4    1.0     2.0   1.0     83       2  \n",
      "56        1.0   3600.0      6    3.0     1.0   1.0     84       3  \n",
      "57        2.0   6920.0      4    2.0     1.0   1.0     80       2  \n",
      "58        1.0   3120.0      6    2.0     1.0   1.0     83       3  \n",
      "60        1.0   5480.0      6    2.0     1.0   1.0     85       3  \n",
      "61        1.0   3000.0      4    1.0     2.0   1.0     80       2  \n",
      "63        2.0   5640.0      2    1.0     2.0   1.0     81       0  \n",
      "66        2.0    200.0      6    1.0     2.0   1.0     80       3  \n",
      "68        2.0   8960.0      5    2.0     1.0   1.0     84       2  \n",
      "70        2.0   3760.0      7    2.0     1.0   1.0     83       2  \n",
      "71        1.0   3760.0      7    2.0     1.0   1.0     80       3  \n",
      "72        1.0   1560.0      4    1.0     2.0   2.0      5       2  \n",
      "78        1.0   4400.0      6    2.0     1.0   1.0     84       3  \n",
      "79       -9.0   1000.0      9    3.0     1.0   1.0     84       4  \n",
      "84        1.0   8840.0     10    4.0     1.0   1.0     85       4  \n",
      "85        1.0    760.0      7    3.0     1.0   1.0     81       2  \n",
      "...       ...      ...    ...    ...     ...   ...    ...     ...  \n",
      "23054     1.0  41700.0      6    4.0     1.0   3.0   1990       3  \n",
      "23055     1.0  41700.0      6    3.0     1.0   2.0   2000       2  \n",
      "23056     1.0  41700.0      6    4.0     1.0   2.0   2000       4  \n",
      "23057     1.0  41700.0     10    5.0     1.0   2.0   2000       5  \n",
      "23058     2.0  41700.0      5    3.0     1.0   5.0   2000       2  \n",
      "23059     1.0  41700.0      5    5.0     1.0   3.0   2000       3  \n",
      "23060     1.0  41700.0      6    3.0     1.0   2.0   2010       3  \n",
      "23061     2.0  41700.0      6    3.0     1.0   2.0   2000       3  \n",
      "23062     1.0  41700.0      6    4.0     1.0   2.0   1940       3  \n",
      "23063    -6.0  41700.0      4    1.0     1.0   8.0   2010       1  \n",
      "23064     2.0  41700.0      5    1.0     6.0   2.0   1940       3  \n",
      "23065     1.0  41700.0      9    5.0     1.0   2.0   2000       4  \n",
      "23066     2.0  41700.0      5    3.0    12.0   5.0   2000       2  \n",
      "23067     1.0  41700.0      7    4.0     1.0   2.0   2000       3  \n",
      "23068     1.0  41700.0      8    3.0     1.0   2.0   2000       4  \n",
      "23069     2.0  41700.0      5    3.0     1.0   3.0   2000       3  \n",
      "23070     1.0  41700.0      8    5.0     1.0   2.0   2000       4  \n",
      "23071     1.0  41700.0      5    1.0     7.0   2.0   1990       3  \n",
      "23072     1.0  41700.0      6    3.0     1.0   2.0   2000       3  \n",
      "23073     1.0  41700.0      6    3.0     1.0   2.0   2010       4  \n",
      "23074     1.0  41700.0      6    3.0     1.0   1.0   2000       3  \n",
      "23075    -6.0  41700.0      6    1.0    12.0   2.0   1940       3  \n",
      "23076     1.0  41700.0      7    4.0     1.0   2.0   1990       3  \n",
      "23077     1.0  41700.0      4    3.0     1.0   2.0   2010       2  \n",
      "23078     1.0  41700.0      6    5.0     1.0   2.0   2010       3  \n",
      "23079    -6.0  41700.0      6    1.0    12.0   2.0   1940       3  \n",
      "23080    -6.0  41700.0      3    1.0     1.0   8.0   2010       1  \n",
      "23081     1.0  41700.0      7    5.0     1.0   2.0   2000       3  \n",
      "23082     2.0  41700.0      4    1.0    12.0   5.0   1970       2  \n",
      "23083    -6.0  41700.0      3    1.0     1.0   4.0   1960       1  \n",
      "\n",
      "[881645 rows x 17 columns]\n"
     ]
    }
   ],
   "source": [
    "hedonic_model_data = c.clean_bdrms(hedonic_model_data)\n",
    "hedonic_model_data = c.clean_rooms(hedonic_model_data)\n",
    "print(hedonic_model_data)\n"
   ]
  },
  {
   "cell_type": "markdown",
   "metadata": {},
   "source": [
    "##  Imputing rents with a hedonic model"
   ]
  },
  {
   "cell_type": "code",
   "execution_count": null,
   "metadata": {},
   "outputs": [],
   "source": []
  },
  {
   "cell_type": "markdown",
   "metadata": {},
   "source": [
    "## Aggregating rent-to-price ratios with nonparametric weights"
   ]
  },
  {
   "cell_type": "markdown",
   "metadata": {},
   "source": [
    "We wish to find the median rent-to-price ofrentalhomes, but our dataset has rent-to-priceratios computed onownedhomes.  To account for sample selection in our dataset of rent-to-price  ratios,  we  weight  the  owned  homes  in  a  city  to  the  distribution  of  rental  homes.(We do not use the alternate methodology – to estimate the hedonic coefficients on ownedhomes, and then compute rent-to-price ratios on rental homes directly – because there arenot enough rental homes for a meaningful sample in some city-year bins.  Indeed, the verysame  cities  that  are  less  populated  are  the  ones  with  a  low  ratio  of  rental  homes.)   Thisprocedure is similar to the nonparametric approach used in Barsky et al (2002.\n",
    "\n",
    "Sample selection is an issue because rent-to-price ratios are decreasing in house prices(and in house rents), as discussed in the section on house level data in the main text.\n",
    "\n",
    "For  each  city  in  each  year,  we  re-weight  the  owner-occupied  houses  as  follows.   First,line  up  all  the  houses  by  predicted  rent.   Then  bin  by  percentile  of  predicted  rent.   Next determine the density of renter-occupied in the predicted rent space.  Finally, compute the median  rent-to-price  ratio  among  owner-occupied,  using  the  density  of  renter-occupied  totake a weighted median.\n",
    "\n",
    "Note that relative to an unweighted median, this nonparametric procedure reduces theweight  on  expensive  homes,  which  are  the  same  homes  for  which  the  hedonic  model  hasthe largest errors (because it is estimated upon rental homes, which are likely to be smaller homes."
   ]
  },
  {
   "cell_type": "markdown",
   "metadata": {},
   "source": [
    "## Vacancy data"
   ]
  },
  {
   "cell_type": "markdown",
   "metadata": {},
   "source": [
    "To compute net yields from gross yields, we need to know the percentage of rental homesthat sit vacant.  We can get this information from the AHS as well.  We use the same dataset(including removing units in housing projects, those with bars on the windows, those thatare rent stabilized, and those missing data).  We label a home as a vacant rental if the surveyidentifies it as for rent only, for rent or for sale, or rented but not yet occupied.  The vacancyrate is the ratio of this number to this number plus the number of renter-occupied homes.For those city-year cells without enough datapoints, we use a projection from the rest of thedataset."
   ]
  },
  {
   "cell_type": "markdown",
   "metadata": {},
   "source": [
    "## Tax Rates"
   ]
  },
  {
   "cell_type": "markdown",
   "metadata": {},
   "source": [
    "We also need a panel of tax rates to compute net yields.  Our sources are Emrath (2002) for1990 and 2000 tax rates from Census data, and the National Association of Home Builders(NAHB) for 2005 to 2012 tax rates from ACS data.  The tax rate data are available by state."
   ]
  },
  {
   "cell_type": "markdown",
   "metadata": {},
   "source": [
    "##  Interpolating missing years"
   ]
  },
  {
   "cell_type": "markdown",
   "metadata": {},
   "source": [
    "As  the  survey  is  biannual  and  the  tax  rates  are  from  Census,  we  linearly  interpolate  therent-to-price ratios, vacancy rates, and tax rates to even-numbered years and other missingyears (in the case of the tax data)"
   ]
  },
  {
   "cell_type": "markdown",
   "metadata": {},
   "source": [
    "## Net Yields"
   ]
  },
  {
   "cell_type": "markdown",
   "metadata": {},
   "source": [
    "Starting from gross yields, we compute net yields using the follow costs, some of which areexpressed as a percentage of rent and some of which are a percentage of home value.  Weuse expense ratios from Morgan Stanley,  “The New Age of Buy-To-Rent,”  July 31,  2013.Similar, but less comprehensive, assumptions appear in Bernanke (2012) “The US HousingMarket:  Current conditions and policy considerations.”  The assumptions underlying CoreLogic’s Rental Trends, discussed below, are also broadly consistent with ours, however someof  their  cost  estimates  rely  on  direct  proprietary  data  rather  than  ratios  of  rent  or  houseprice.\n",
    "\n",
    "- Insurance:  0.375% of price\n",
    "- Repairs:  0.6% of price\n",
    "- Capex:  1.15% of price\n",
    "- Property manager:  5.9% of rent\n",
    "- Credit loss:  0.73% of ren\n",
    "- Tax: on price\n",
    "- Vacancy:  on rent"
   ]
  }
 ],
 "metadata": {
  "kernelspec": {
   "display_name": "Python 3",
   "language": "python",
   "name": "python3"
  },
  "language_info": {
   "codemirror_mode": {
    "name": "ipython",
    "version": 3
   },
   "file_extension": ".py",
   "mimetype": "text/x-python",
   "name": "python",
   "nbconvert_exporter": "python",
   "pygments_lexer": "ipython3",
   "version": "3.7.6"
  }
 },
 "nbformat": 4,
 "nbformat_minor": 2
}
