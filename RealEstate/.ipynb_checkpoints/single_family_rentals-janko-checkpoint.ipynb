{
 "cells": [
  {
   "cell_type": "markdown",
   "metadata": {},
   "source": [
    "# Data Appendix "
   ]
  },
  {
   "cell_type": "markdown",
   "metadata": {},
   "source": [
    "The Census conducts the American Housing Survey, which is sponsored by the Departmentof Housing and Urban Development (HUD). The data files can be downloaded from theirwebsite at http://www.census.gov/programs-surveys/The survey has been conductedin every odd-numbered year since 1973.  The codebook for 1997-2013 can be found at http://www.census.gov/programs-surveys/ahs/data/2013We  use  all  of  the  odd-numberedyears since 1985.  Prior to 1985, the value of the home is a categorical variable, so we do notuse those data.Download the flat files and place them into folders to which you then need to point thecode supplementing this data appendix, found in the file named “[TBD]”."
   ]
  },
  {
   "cell_type": "markdown",
   "metadata": {},
   "source": [
    "We remove datapoints without an MSA identifier, as we will be building a panel by city.  Weremove units in housing projects, those with bars on the windows, and those that are rentstabilized.  We remove datapoints missing data (such as tenure status, i.e., owner occupiedor renter occupied).We further clean the observations before the hedonic regression as follows\n",
    "- Delete if the ratio of household income to house value is greater than 2 (This identifiesdata errors in the house value field)\n",
    "- Delete if the ratio of household income to annual rent is greater than 100 (This identifiesdata errors in the annual rent field)\n",
    "\n",
    "Throughout the rest of the analysis, we restrict the sample to the top 30 cities by data-points (after cleaning) in 1985, the first year in the sample"
   ]
  },
  {
   "cell_type": "markdown",
   "metadata": {},
   "source": [
    "# Python Code Implementation"
   ]
  },
  {
   "cell_type": "markdown",
   "metadata": {},
   "source": [
    "Load the Necessary Modules for Analysis"
   ]
  },
  {
   "cell_type": "code",
   "execution_count": 43,
   "metadata": {},
   "outputs": [
    {
     "name": "stdout",
     "output_type": "stream",
     "text": [
      "/home/janko/github_repositories\n"
     ]
    }
   ],
   "source": [
    "import pandas as pd\n",
    "import os\n",
    "import numpy as np\n",
    "from statsmodels import regression\n",
    "import warnings\n",
    "from openpyxl import load_workbook\n",
    "import xlsxwriter\n",
    "import matplotlib.pyplot as plt\n",
    "from datetime import datetime\n",
    "\n",
    "warnings.filterwarnings(\"ignore\")\n",
    "\n",
    "working_directory = os.getcwd()\n",
    "print(working_directory)"
   ]
  },
  {
   "cell_type": "markdown",
   "metadata": {},
   "source": [
    "Create a class for cleaning the data"
   ]
  },
  {
   "cell_type": "code",
   "execution_count": 44,
   "metadata": {},
   "outputs": [],
   "source": [
    "class Cleaning():\n",
    "    \n",
    "    def __init__(self,output_file_location ):\n",
    "        self.output_file_location = output_file_location\n",
    "\n",
    "    def check_col_float2(self,header_list, df):\n",
    "        for col in header_list:\n",
    "            try:\n",
    "                df.loc[:,col] = df.loc[:,col].str.replace(\"\\'\",\"\").str.strip().astype(float)\n",
    "                \n",
    "            except AttributeError:\n",
    "                pass\n",
    "            except KeyError:\n",
    "                try:\n",
    "                    df[col.upper()] = df[col.lower()].str.replace(\"\\'\",\"\").str.strip().astype(float)\n",
    "                except AttributeError:\n",
    "                    df[col.upper()] = df[col.lower()].copy()\n",
    "        return df\n",
    "    \n",
    "    \n",
    "    \n",
    "    def change_airsys_data(self,data):\n",
    "        \n",
    "        data.loc[(data['AIRSYS'] == 2) & (data['year'] < 2015), 'AIRSYS'] = 0.0\n",
    "        data.loc[(data['AIRSYS'] == 12) & (data['year'] >= 2015), 'AIRSYS'] = 0.0\n",
    "        data.loc[(data['AIRSYS'] != 12) & (data['year'] >= 2015), 'AIRSYS'] = 1.0\n",
    "        \n",
    "        return data\n",
    "    \n",
    "    def change_bath_data(self,data):\n",
    "        for i in data.year.unique():\n",
    "            if i >=2015 and i<=2017:\n",
    "                data.loc[data.year==i,'BATHS'] = data.loc[data.year==i,'BATHS'].replace({7: \\\n",
    "                            0, 8:0, 9:0, 10:0, 11:0, 12:0, 13:0, 3:2,4:3,5:3,6:4 })\n",
    "            else:\n",
    "                data.loc[data.year==i,'BATHS'] = data.loc[data.year==i,'BATHS'].replace({5:4, \\\n",
    "                            6:4, 7: 4, 8:4, 9:4, 10:4, 11:4, 12:4, 13:4})\n",
    "        return data\n",
    "    \n",
    "    def get_city_names(self,data, smsa_dict):\n",
    "        data['CITY'] = ''\n",
    "        for i in smsa_dict.keys():\n",
    "            data.loc[data['SMSA'] == float(i), 'CITY'] = smsa_dict[str(i)]\n",
    "        return data\n",
    "        \n",
    "        \n",
    "    \n",
    "    def change_build_data(self,data):\n",
    "        \n",
    "        for i in data.year.unique():\n",
    "            data.loc[data.year==i,'BUILT'] = data.loc[data.year==i,'BUILT'].replace({80: 1980,\n",
    "                    81:1981,82:1982,83:1983,84:1984,85:1985,86:1986,87:1987,88:1988,89:1989,\n",
    "                    90:1990,91:1991,92:1992,93:1993,94:1994,95:1995,96:1996,97:1997,98:1998,\n",
    "                    99:1999})\n",
    "                 \n",
    "        for i in data.year.unique():\n",
    "            if i >=1985 and i<=1995:\n",
    "                data.loc[data.year==i,'BUILT'] = data.loc[data.year==i,'BUILT'].replace({9: 1919,\n",
    "                        8:1920,7:1930,6:1940,5:1950,4:1960,3:1970,2:1970,1:1970})\n",
    "        \n",
    "        for i in data.year.unique():\n",
    "            data.loc[data.year==i,'BUILT']=data.loc[data.year==i,'BUILT'].replace({1919:1910,\n",
    "                 1981:1980,1982:1980, 1983:1980,1984:1980,1986:1985,1987:1985,1988:1985,1989:1985,\n",
    "                 1991:1990,1992:1990, 1993:1990,1994:1990,1996:1995,1997:1995,1998:1995,1999:1995,\n",
    "                 2001:2000,2002:2000, 2003:2000,2004:2000,2006:2005,2007:2005,2008:2005,2009:2005,\n",
    "                 2011:2010,2012:2010, 2013:2010,2014:2010})\n",
    "        \"\"\"\n",
    "        for i in data.year.unique():\n",
    "            data.loc[data.year==i,'BUILT']=(np.floor(data.loc[data.year==i,'BUILT']/10.0)*\\\n",
    "            10.0).astype(int)\n",
    "        \"\"\"\n",
    "                    \n",
    "            \n",
    "        for i in data.year.unique():\n",
    "            if i >=2015 and i<=2017:\n",
    "                data.loc[data.year==i,'AIRSYS'] = data.loc[data.year==i,'AIRSYS'].replace({2: \\\n",
    "                                    1, 3:1, 4:1, 5:1, 6:1, 7:1, 8:1, 9:1, 10:1, 11:1,12:2})\n",
    "                 \n",
    "        for i in data.year.unique():\n",
    "            if i >=2015 and i<=2017:\n",
    "                data.loc[data.year==i,'BATHS'] = data.loc[data.year==i,'BATHS'].replace({7: 0, \\\n",
    "                    8:0, 9:0, 10:0, 11:0, 12:0, 13:0, 3:2,4:3,5:3,6:4 })\n",
    "            else:\n",
    "                data.loc[data.year==i,'BATHS'] = data.loc[data.year==i,'BATHS'].replace({5:4, \\\n",
    "                                    6:4, 7: 4, 8:4, 9:4, 10:4, 11:4, 12:4, 13:4})\n",
    "            \n",
    "        return data\n",
    "    \n",
    "    def append_df_to_excel(self, df, sheet_name='Sheet1', startrow=None,\\\n",
    "                           truncate_sheet=False,**to_excel_kwargs):\n",
    "        \n",
    "            # ignore [engine] parameter if it was passed\n",
    "            if 'engine' in to_excel_kwargs:\n",
    "                to_excel_kwargs.pop('engine')\n",
    "        \n",
    "            writer = pd.ExcelWriter(self.output_file_location, engine='openpyxl')\n",
    "        \n",
    "        \n",
    "        \n",
    "            try:\n",
    "                # try to open an existing workbook\n",
    "                writer.book = load_workbook(self.output_file_location)\n",
    "        \n",
    "                # get the last row in the existing Excel sheet\n",
    "                # if it was not specified explicitly\n",
    "                if startrow is None and sheet_name in writer.book.sheetnames:\n",
    "                    startrow = writer.book[sheet_name].max_row\n",
    "        \n",
    "                # truncate sheet\n",
    "                if truncate_sheet and sheet_name in writer.book.sheetnames:\n",
    "                    # index of [sheet_name] sheet\n",
    "                    idx = writer.book.sheetnames.index(sheet_name)\n",
    "                    # remove [sheet_name]\n",
    "                    writer.book.remove(writer.book.worksheets[idx])\n",
    "                    # create an empty sheet [sheet_name] using old index\n",
    "                    writer.book.create_sheet(sheet_name, idx)\n",
    "        \n",
    "                # copy existing sheets\n",
    "                writer.sheets = {ws.title:ws for ws in writer.book.worksheets}\n",
    "            except FileNotFoundError:\n",
    "                # file does not exist yet, we will create it\n",
    "                pass\n",
    "        \n",
    "            if startrow is None:\n",
    "                startrow = 0\n",
    "        \n",
    "            # write out the new sheet\n",
    "            df.to_excel(writer, sheet_name, startrow=startrow, **to_excel_kwargs)\n",
    "        \n",
    "            # save the workbook\n",
    "            writer.save()\n",
    "            \n",
    "            \n",
    "    def get_hist(self, data, filter_code, bincount, name):\n",
    "            fig, ax = plt.subplots(len(data.year.value_counts()),1, figsize=(20, 60))\n",
    "            count = 0\n",
    "            for i in data.year.unique():\n",
    "                data.loc[data.year == i, filter_code].hist(bins = 5,ax=ax[count])\n",
    "                ax[count].set_title(filter_code + ' ' + str(i))\n",
    "                count = count + 1\n",
    "            fig.savefig(name)        \n",
    "        \n",
    "        \n",
    "         \n",
    "    \n",
    "    def get_distribution(self,data, filter_code, sheetname, rowloc, title, bins=None):\n",
    "        dct = {}\n",
    "        \n",
    "        for i in data.year.unique():\n",
    "                dct[i] = data.loc[data.year == i, filter_code].value_counts()\n",
    "                \n",
    "        dct = pd.DataFrame(dct)\n",
    "        title_df = pd.DataFrame([title])\n",
    "        try:\n",
    "            self.append_df_to_excel(title_df,sheet_name=sheetname, startrow=rowloc,\\\n",
    "                                    truncate_sheet=False, header = False)\n",
    "\n",
    "            self.append_df_to_excel(dct,sheet_name=sheetname, startrow=rowloc+1,\\\n",
    "                                    truncate_sheet=False)\n",
    "        except PermissionError:\n",
    "            pass\n",
    "        \n",
    "        return dct\n",
    "\n",
    "\n",
    "    def change_rent_data(self, hedonic_model_data):\n",
    "        \n",
    "        hedonic_model_data = hedonic_model_data.loc[~((hedonic_model_data['year']<=1995) & \\\n",
    "                                                      (hedonic_model_data['RENT'] == 1))]\n",
    "        hedonic_model_data = hedonic_model_data.loc[~((hedonic_model_data['year']<=1995) & \\\n",
    "                                                      (hedonic_model_data['RENT'] == 999))]\n",
    "        hedonic_model_data = hedonic_model_data.loc[~((hedonic_model_data['year']<=1995) & \\\n",
    "                                                      (hedonic_model_data['RENT'] == 9999))]\n",
    "        \n",
    "        \n",
    "        hedonic_model_data = hedonic_model_data.loc[~((hedonic_model_data['year']> 1995) & \\\n",
    "                                                      (hedonic_model_data['RENT'] == 9999))]\n",
    "        \n",
    "        hedonic_model_data.loc[:, 'RENT'] = hedonic_model_data.loc[:, 'RENT']*12.0\n",
    "        return hedonic_model_data\n",
    "    \n",
    "    def clean_rooms(self, hedonic_model_data):\n",
    "        #gets rid of the data with -6 and -9 response codes\n",
    "        hedonic_model_data = hedonic_model_data.loc[hedonic_model_data['ROOMS'] >= 1]\n",
    "        #gets rid of the top coded values\n",
    "        hedonic_model_data = hedonic_model_data.loc[~((hedonic_model_data['year']>= 2015) & \\\n",
    "                    (hedonic_model_data['year']<= 2017) &(hedonic_model_data['ROOMS'] == 27))]\n",
    "        \n",
    "        hedonic_model_data = hedonic_model_data.loc[~((hedonic_model_data['year']> 1995) & \\\n",
    "                    (hedonic_model_data['year']< 2015) &(hedonic_model_data['ROOMS'] == 21))]\n",
    "        \n",
    "        hedonic_model_data = hedonic_model_data.loc[~((hedonic_model_data['year']>= 1985) & \\\n",
    "                    (hedonic_model_data['year']<= 1995) &(hedonic_model_data['ROOMS'] == 99))] \n",
    "        hedonic_model_data = hedonic_model_data.loc[~((hedonic_model_data['year']>= 1985) & \\\n",
    "                    (hedonic_model_data['year']<= 1993) &(hedonic_model_data['ROOMS'] == 21))] \n",
    "        \n",
    "        return hedonic_model_data\n",
    "    \n",
    "    def clean_bdrms(self, hedonic_model_data):\n",
    "\n",
    "        #gets rid of the data with -6 and -9 response codes\n",
    "        hedonic_model_data = hedonic_model_data.loc[hedonic_model_data['BEDRMS'] >= 0]\n",
    "        #gets rid of the top coded values\n",
    "        hedonic_model_data = hedonic_model_data.loc[~((hedonic_model_data['year']>= 2015) & \\\n",
    "                    (hedonic_model_data['year']<= 2017) &(hedonic_model_data['BEDRMS'] == 10))]\n",
    "        \n",
    "        hedonic_model_data = hedonic_model_data.loc[~((hedonic_model_data['year']> 1995) & \\\n",
    "                    (hedonic_model_data['year']< 2015) &(hedonic_model_data['BEDRMS'] == 10))]\n",
    "        \n",
    "        hedonic_model_data = hedonic_model_data.loc[~((hedonic_model_data['year']>= 1985) & \\\n",
    "                    (hedonic_model_data['year']<= 1995) &(hedonic_model_data['BEDRMS'] == 10))] \n",
    "        \n",
    "        hedonic_model_data = hedonic_model_data.loc[~((hedonic_model_data['year']>= 1985) & \\\n",
    "                    (hedonic_model_data['year']<= 1995) &(hedonic_model_data['BEDRMS'] == 99))] \n",
    "        \n",
    "        return hedonic_model_data\n",
    "    \n",
    "    def clean_rcntrl(self, hedonic_model_data):\n",
    "        hedonic_model_data = hedonic_model_data.loc[~((hedonic_model_data['RCNTRL'].isin([1])) & (hedonic_model_data['year'] >= 1997 ) )]\n",
    "        hedonic_model_data = hedonic_model_data.loc[~((hedonic_model_data['RCNTRL'].isin([1])) & (hedonic_model_data['year'] < 1997 ) )]\n",
    "        return hedonic_model_data       \n",
    "    \n",
    "    def clean_tenure(self, hedonic_model_data):\n",
    "        hedonic_model_data = hedonic_model_data.loc[~(hedonic_model_data['TENURE'].isin([3]))]\n",
    "        return hedonic_model_data\n",
    "    \n",
    "    def clean_type(self, hedonic_model_data):\n",
    "        hedonic_model_data['Unit Type'] = np.nan\n",
    "        hedonic_model_data.loc[(hedonic_model_data['TYPE'] == 2) & (hedonic_model_data['year'] >= 2015), 'Unit Type']\\\n",
    "        = 1.0\n",
    "        hedonic_model_data.loc[(hedonic_model_data['TYPE'] ==3) & (hedonic_model_data['year'] >= 2015), 'Unit Type']\\\n",
    "        = 0.0      \n",
    "        hedonic_model_data.loc[(hedonic_model_data['TYPE'] ==1) & (hedonic_model_data['year'] >= 1997) &\\\n",
    "                               (hedonic_model_data['year'] < 2015), 'Unit Type'] = 1.0     \n",
    "        hedonic_model_data.loc[(hedonic_model_data['TYPE'] ==2) & (hedonic_model_data['year'] >= 1997) & \\\n",
    "                               (hedonic_model_data['year'] < 2015), 'Unit Type'] = 0.0   \n",
    "        hedonic_model_data.loc[(hedonic_model_data['TYPE'] ==1) & (hedonic_model_data['year'] >= 1985) &\\\n",
    "                               (hedonic_model_data['year'] < 1997), 'Unit Type'] = 1.0     \n",
    "        hedonic_model_data.loc[(hedonic_model_data['TYPE'] ==2) & (hedonic_model_data['year'] >= 1985) & \\\n",
    "                               (hedonic_model_data['year'] < 1997), 'Unit Type'] = 0.0   \n",
    "        hedonic_model_data = hedonic_model_data.loc[hedonic_model_data['Unit Type'].isin([0.0,1.0])]\n",
    "        return hedonic_model_data\n",
    "    \n",
    "    def clean_cities(self, hedonic_model_data):\n",
    "        \n",
    "        return hedonic_model_data   \n",
    "    \n",
    "    def clean_airsys(self, hedonic_model_data):\n",
    "        # 0.0 means that there is no central air\n",
    "        #1.0 means that there is central air\n",
    "        hedonic_model_data = hedonic_model_data.loc[~((hedonic_model_data['year']>= 1985) & \\\n",
    "                    (hedonic_model_data['year']<= 1995) &(hedonic_model_data['AIRSYS'].isin([-9,9])))] \n",
    "        hedonic_model_data = hedonic_model_data.loc[~((hedonic_model_data['year']>= 1997) & \\\n",
    "                    (hedonic_model_data['year']<= 2013) &(hedonic_model_data['AIRSYS'].isin([-6])))] \n",
    "        hedonic_model_data.loc[(hedonic_model_data['AIRSYS'] == 2) & (hedonic_model_data['year'] < 2015), 'AIRSYS'] = 0.0\n",
    "        hedonic_model_data.loc[(hedonic_model_data['AIRSYS'] == 12.) & (hedonic_model_data['year'] >= 2015), 'AIRSYS'] = 0.0\n",
    "        hedonic_model_data.loc[(hedonic_model_data['AIRSYS'] >= 1.)& (hedonic_model_data['AIRSYS'] < 12.) & (hedonic_model_data['year'] >= 2015), 'AIRSYS'] = 1.0\n",
    "        \n",
    "        return hedonic_model_data\n",
    "    \n",
    "    def clean_rent(self, hedonic_model_data):\n",
    "        hedonic_model_data = hedonic_model_data.loc[hedonic_model_data['RENT'] > 1]\n",
    "        hedonic_model_data = hedonic_model_data.loc[~((hedonic_model_data['year']> 1995) & (hedonic_model_data['RENT'].isin([-6, 1,0, 99999])))]\n",
    "        hedonic_model_data = hedonic_model_data.loc[~((hedonic_model_data['year']<=1995) & (hedonic_model_data['RENT'].isin([9999,0,999,1,-6,99999])))]\n",
    "        \n",
    "        #convert the rent to yearly number\n",
    "        hedonic_model_data.loc[:, 'RENT'] = hedonic_model_data.loc[:, 'RENT']*12.0\n",
    "        hedonic_model_data['log rent'] = np.log(hedonic_model_data['RENT'])\n",
    "        \n",
    "        return hedonic_model_data\n",
    "    \n",
    "    def clean_ratios(self, hedonic_model_data):\n",
    "        hedonic_model_data = hedonic_model_data.loc[~(hedonic_model_data['Income to Value Ratio'] > 2.)]\n",
    "        hedonic_model_data = hedonic_model_data.loc[~(hedonic_model_data['Income to Rent Ratio'] > 100.)]\n",
    "        \n",
    "        return hedonic_model_data"
   ]
  },
  {
   "cell_type": "markdown",
   "metadata": {},
   "source": [
    "## output the results to excel"
   ]
  },
  {
   "cell_type": "markdown",
   "metadata": {},
   "source": [
    "We will output our results to a local excel file as well with the following code. \n",
    "\n"
   ]
  },
  {
   "cell_type": "code",
   "execution_count": 45,
   "metadata": {},
   "outputs": [
    {
     "name": "stdout",
     "output_type": "stream",
     "text": [
      "/home/janko/github_repositories/output_results/breakdown_20_05_2020_17_23_15_524162.xlsx\n"
     ]
    }
   ],
   "source": [
    "#we will write our results to a local excel file called breakdown\n",
    "now = datetime.now()\n",
    "dt_string = now.strftime(\"%d_%m_%Y_%H_%M_%S_%f\")\n",
    "\n",
    "outputfile = os.path.join(working_directory, 'output_results','breakdown_' + dt_string + '.xlsx')\n",
    "print(outputfile )\n",
    "\n",
    "\n",
    "workbook = xlsxwriter.Workbook(outputfile)\n",
    "workbook.close()   \n"
   ]
  },
  {
   "cell_type": "markdown",
   "metadata": {},
   "source": [
    "Create a class for calculations"
   ]
  },
  {
   "cell_type": "markdown",
   "metadata": {},
   "source": [
    "instantiate the class with objects so that we can do our analysis"
   ]
  },
  {
   "cell_type": "code",
   "execution_count": 46,
   "metadata": {},
   "outputs": [],
   "source": [
    "    c = Cleaning(outputfile)"
   ]
  },
  {
   "cell_type": "markdown",
   "metadata": {},
   "source": [
    "# # Reading the Data"
   ]
  },
  {
   "cell_type": "markdown",
   "metadata": {},
   "source": [
    "read the cleaned files in a local directory and concatenate the data into one data frame called hedonic_model_data for analysis. This data contains the relevant variables of interest "
   ]
  },
  {
   "cell_type": "code",
   "execution_count": 47,
   "metadata": {},
   "outputs": [
    {
     "name": "stdout",
     "output_type": "stream",
     "text": [
      "this is the directory where the data is located\n",
      "/home/janko/github_repositories/data\n",
      "    year  VACANCY  RENT   ZINC2  EBAR  RCNTRL   VALUE NUNIT2  CONDO  TENURE  \\\n",
      "15  2003     -6.0    -6   63100   2.0    -6.0  155000      1    3.0     1.0   \n",
      "28  2003      1.0   825      -6   2.0     2.0      -6      3    3.0    -6.0   \n",
      "30  2003     -6.0    -6      -6  -6.0    -6.0      -6     -6   -6.0     2.0   \n",
      "34  2003     -6.0    -6   85000   2.0    -6.0  642895      1    3.0     1.0   \n",
      "35  2003     -6.0    -6  333000   2.0    -6.0  642895      1    3.0     1.0   \n",
      "38  2003     -6.0    -6  172000   2.0    -6.0  642895      1    3.0     1.0   \n",
      "41  2003     -6.0    -6   36000   2.0     2.0      -6      2    3.0     3.0   \n",
      "43  2003     -6.0    -6   25875   2.0    -6.0   85000      1    3.0     1.0   \n",
      "51  2003     -6.0    -6  601000   2.0    -6.0  300000      1    3.0     1.0   \n",
      "60  2003     -6.0   365   11500  -9.0    -8.0      -6      3    3.0     2.0   \n",
      "\n",
      "      SMSA  ROOMS  BATHS  AIRSYS  TYPE  BUILT  BEDRMS  Income to Value Ratio  \\\n",
      "15  1680.0      7    2.0     1.0   1.0   1980       3               0.407097   \n",
      "28   520.0      2    1.0     1.0   1.0   1985       1               1.000000   \n",
      "30   520.0     -6   -6.0    -6.0   1.0     -6      -6               1.000000   \n",
      "34  5480.0      9    4.0     1.0   1.0   1985       5               0.132214   \n",
      "35  4480.0     13    3.0     2.0   1.0   1980       3               0.517969   \n",
      "38  1125.0      7    3.0     1.0   1.0   1990       4               0.267540   \n",
      "41  9993.0      3    1.0     2.0   1.0   1985       1           -6000.000000   \n",
      "43  2120.0      4    1.0     1.0   1.0   1980       2               0.304412   \n",
      "51   840.0      9    3.0     1.0   1.0   1993       4               2.003333   \n",
      "60   640.0      3    1.0     2.0   1.0   1980       1           -1916.666667   \n",
      "\n",
      "    Income to Rent Ratio  \n",
      "15         -10516.666667  \n",
      "28             -0.007273  \n",
      "30              1.000000  \n",
      "34         -14166.666667  \n",
      "35         -55500.000000  \n",
      "38         -28666.666667  \n",
      "41          -6000.000000  \n",
      "43          -4312.500000  \n",
      "51        -100166.666667  \n",
      "60             31.506849  \n"
     ]
    }
   ],
   "source": [
    "    filepath = os.path.join(working_directory, 'data')\n",
    "    print('this is the directory where the data is located')\n",
    "    print(filepath)\n",
    "    \n",
    "    hedonic_model_data = pd.DataFrame()\n",
    "    sample = {}\n",
    "    for item in os.listdir(filepath):\n",
    "        if item[0] == 'o':\n",
    "            year = int(item.split(\".\")[0][1:])\n",
    "            data = pd.read_hdf(os.path.join(filepath, item))\n",
    "            \n",
    "            if len(hedonic_model_data.index) == 0:\n",
    "                hedonic_model_data = data.copy()\n",
    "            else:\n",
    "                hedonic_model_data = pd.concat([hedonic_model_data, data.copy()], axis = 0)\n",
    "                \n",
    "    hedonic_model_data['Income to Value Ratio'] = hedonic_model_data['ZINC2'] / hedonic_model_data['VALUE']\n",
    "    hedonic_model_data['Income to Rent Ratio'] = hedonic_model_data['ZINC2'] / hedonic_model_data['RENT']\n",
    "    print(hedonic_model_data.head(10))\n",
    "    "
   ]
  },
  {
   "cell_type": "markdown",
   "metadata": {},
   "source": [
    "print out the data to make sure that it was read correctly"
   ]
  },
  {
   "cell_type": "code",
   "execution_count": 48,
   "metadata": {},
   "outputs": [],
   "source": [
    "\n",
    "all_data = hedonic_model_data.copy()"
   ]
  },
  {
   "cell_type": "markdown",
   "metadata": {},
   "source": [
    "## Data Selection"
   ]
  },
  {
   "cell_type": "markdown",
   "metadata": {},
   "source": [
    "### Clean the data for rooms "
   ]
  },
  {
   "cell_type": "code",
   "execution_count": 49,
   "metadata": {},
   "outputs": [
    {
     "name": "stdout",
     "output_type": "stream",
     "text": [
      "       2003     2009     1985     1987     2017     2007    1999     2013  \\\n",
      "-9      NaN      NaN   2261.0   1787.0      NaN      NaN     NaN      NaN   \n",
      "-6   7082.0  13622.0      NaN      NaN      NaN  11034.0  6977.0  20088.0   \n",
      " 1    169.0    186.0    947.0    614.0    319.0    216.0   206.0    361.0   \n",
      " 2    506.0    487.0   1612.0   1033.0    669.0    478.0   500.0   1253.0   \n",
      " 3   3523.0   3777.0  10482.0   7617.0   5887.0   4126.0  3493.0  11104.0   \n",
      " 4   5359.0   5739.0  14917.0  12123.0  10139.0   6601.0  5446.0  17668.0   \n",
      " 5   5769.0   6366.0  14723.0  11482.0  12307.0   6982.0  5467.0  20514.0   \n",
      " 6   5303.0   6007.0  12847.0  10021.0  12276.0   6752.0  5190.0  20250.0   \n",
      " 7   3069.0   4016.0   8189.0   6348.0   8375.0   4711.0  3043.0  13507.0   \n",
      " 8   1794.0   2435.0   4847.0   4066.0   5668.0   3038.0  1857.0   8769.0   \n",
      " 9    841.0   1084.0   2481.0   1917.0   2705.0   1375.0   885.0   4144.0   \n",
      " 10   340.0    416.0    983.0    756.0    934.0    591.0   341.0   1755.0   \n",
      " 11   164.0    174.0    412.0    313.0    349.0    281.0   133.0    799.0   \n",
      " 12   177.0     65.0    150.0    132.0    186.0    103.0    69.0    288.0   \n",
      " 13   200.0     35.0     80.0     80.0     26.0     52.0    41.0    210.0   \n",
      " 14   125.0     12.0     22.0     25.0      2.0     18.0    19.0     49.0   \n",
      " 15    27.0      4.0     22.0     13.0      NaN      7.0     8.0     10.0   \n",
      " 16     9.0      5.0      8.0      8.0      NaN      8.0     3.0      NaN   \n",
      " 17     NaN      2.0      4.0      2.0      NaN      1.0     3.0      NaN   \n",
      " 18     3.0      3.0      1.0      2.0      NaN      1.0     5.0      NaN   \n",
      " 19     NaN      NaN      2.0      NaN      NaN      NaN     1.0      NaN   \n",
      " 20     2.0      NaN      NaN      1.0      NaN      NaN     NaN      NaN   \n",
      " 21     1.0      NaN      1.0      NaN      NaN      2.0     2.0      NaN   \n",
      " 22     NaN      NaN      NaN      1.0      NaN      NaN     NaN      NaN   \n",
      " 23     NaN      NaN      NaN      1.0      NaN      NaN     NaN      NaN   \n",
      " 99     NaN      NaN   6368.0   4167.0      NaN      NaN     NaN      NaN   \n",
      "\n",
      "        2015    2005     1993     1995    1997     1991     2011    2001  \\\n",
      "-9       NaN     NaN   2908.0   4459.0     NaN   2468.0      NaN     NaN   \n",
      "-6       NaN  7004.0      NaN      NaN  5383.0      NaN  22100.0  5954.0   \n",
      " 1     304.0   173.0    729.0    490.0   116.0    637.0    549.0   151.0   \n",
      " 2     738.0   401.0   1034.0    833.0   347.0   1052.0   1365.0   375.0   \n",
      " 3    6202.0  2727.0   7336.0   6220.0  3018.0   7780.0  12219.0  2694.0   \n",
      " 4   10661.0  4213.0  11415.0  10350.0  4527.0  12568.0  19799.0  4237.0   \n",
      " 5   13030.0  4520.0  11645.0  11232.0  4012.0  12819.0  23172.0  4575.0   \n",
      " 6   12478.0  4130.0  10491.0  10721.0  3763.0  11208.0  21204.0  4121.0   \n",
      " 7    8627.0  2397.0   6957.0   7132.0  2503.0   7289.0  14259.0  2439.0   \n",
      " 8    5800.0  1450.0   4562.0   4460.0  1545.0   4767.0   9164.0  1499.0   \n",
      " 9    3004.0   677.0   2348.0   2134.0   789.0   2151.0   4339.0   677.0   \n",
      " 10   1153.0   308.0    979.0    923.0   316.0    877.0   1791.0   271.0   \n",
      " 11    450.0   139.0    418.0    337.0   121.0    328.0    714.0   121.0   \n",
      " 12    264.0   177.0    161.0    159.0    59.0    171.0    354.0   108.0   \n",
      " 13     22.0   219.0     77.0     56.0    39.0     79.0    105.0    74.0   \n",
      " 14      NaN   114.0     24.0     21.0    19.0     31.0     79.0    51.0   \n",
      " 15      NaN    28.0     14.0     12.0     9.0     14.0      9.0    14.0   \n",
      " 16      NaN     8.0     11.0     11.0    12.0      7.0      NaN     2.0   \n",
      " 17      NaN     1.0      1.0      5.0     5.0      7.0      NaN     4.0   \n",
      " 18      NaN     2.0      2.0      1.0     2.0      1.0      NaN     2.0   \n",
      " 19      NaN     1.0      1.0      2.0     2.0      NaN      NaN     2.0   \n",
      " 20      NaN     NaN      1.0      1.0     1.0      1.0      NaN     NaN   \n",
      " 21      NaN     NaN      NaN      NaN     3.0      NaN      NaN     NaN   \n",
      " 22      NaN     NaN      NaN      NaN     NaN      NaN      NaN     NaN   \n",
      " 23      NaN     NaN      NaN      NaN     NaN      NaN      NaN     NaN   \n",
      " 99      NaN     NaN   6246.0   2730.0     NaN   7901.0      NaN     NaN   \n",
      "\n",
      "        1989  \n",
      "-9    2689.0  \n",
      "-6       NaN  \n",
      " 1     716.0  \n",
      " 2    1148.0  \n",
      " 3    7991.0  \n",
      " 4   12367.0  \n",
      " 5   12472.0  \n",
      " 6   11185.0  \n",
      " 7    7013.0  \n",
      " 8    4243.0  \n",
      " 9    2053.0  \n",
      " 10    793.0  \n",
      " 11    308.0  \n",
      " 12    111.0  \n",
      " 13     76.0  \n",
      " 14     33.0  \n",
      " 15     12.0  \n",
      " 16      4.0  \n",
      " 17      2.0  \n",
      " 18      1.0  \n",
      " 19      NaN  \n",
      " 20      NaN  \n",
      " 21      NaN  \n",
      " 22      1.0  \n",
      " 23      NaN  \n",
      " 99   7911.0  \n"
     ]
    }
   ],
   "source": [
    "    rooms = c.get_distribution(all_data, 'ROOMS','ROOMS',1, title = 'All Data' + 'ROOMS')\n",
    "    print(rooms)"
   ]
  },
  {
   "cell_type": "markdown",
   "metadata": {},
   "source": [
    "For the years 1985-1995 a response code of -9 represents not applicable. For the years 1997-2013 a response code of -6 represents not applicable. For this time frame it is top coded for 21 rooms or more. The years 2015 and 2017 do not have response codes for not applicable. For this time frame it is top coded for 27 rooms or more. For the years 1985-1993 it is top coded for 21."
   ]
  },
  {
   "cell_type": "markdown",
   "metadata": {},
   "source": [
    " hedonic_model_data = c.clean_rooms(hedonic_model_data)\n",
    " rooms = c.get_distribution(hedonic_model_data, 'ROOMS','ROOMS',1, title = 'All Data' + 'ROOMS')\n",
    " print(rooms)"
   ]
  },
  {
   "cell_type": "markdown",
   "metadata": {},
   "source": [
    "<b>cleaned data output<b>"
   ]
  },
  {
   "cell_type": "code",
   "execution_count": 50,
   "metadata": {
    "scrolled": true
   },
   "outputs": [
    {
     "name": "stdout",
     "output_type": "stream",
     "text": [
      "      2003    2009     1985     1987     2017    2007    1999     2013  \\\n",
      "1    169.0   186.0    947.0    614.0    319.0   216.0   206.0    361.0   \n",
      "2    506.0   487.0   1612.0   1033.0    669.0   478.0   500.0   1253.0   \n",
      "3   3523.0  3777.0  10482.0   7617.0   5887.0  4126.0  3493.0  11104.0   \n",
      "4   5359.0  5739.0  14917.0  12123.0  10139.0  6601.0  5446.0  17668.0   \n",
      "5   5769.0  6366.0  14723.0  11482.0  12307.0  6982.0  5467.0  20514.0   \n",
      "6   5303.0  6007.0  12847.0  10021.0  12276.0  6752.0  5190.0  20250.0   \n",
      "7   3069.0  4016.0   8189.0   6348.0   8375.0  4711.0  3043.0  13507.0   \n",
      "8   1794.0  2435.0   4847.0   4066.0   5668.0  3038.0  1857.0   8769.0   \n",
      "9    841.0  1084.0   2481.0   1917.0   2705.0  1375.0   885.0   4144.0   \n",
      "10   340.0   416.0    983.0    756.0    934.0   591.0   341.0   1755.0   \n",
      "11   164.0   174.0    412.0    313.0    349.0   281.0   133.0    799.0   \n",
      "12   177.0    65.0    150.0    132.0    186.0   103.0    69.0    288.0   \n",
      "13   200.0    35.0     80.0     80.0     26.0    52.0    41.0    210.0   \n",
      "14   125.0    12.0     22.0     25.0      2.0    18.0    19.0     49.0   \n",
      "15    27.0     4.0     22.0     13.0      NaN     7.0     8.0     10.0   \n",
      "16     9.0     5.0      8.0      8.0      NaN     8.0     3.0      NaN   \n",
      "17     NaN     2.0      4.0      2.0      NaN     1.0     3.0      NaN   \n",
      "18     3.0     3.0      1.0      2.0      NaN     1.0     5.0      NaN   \n",
      "19     NaN     NaN      2.0      NaN      NaN     NaN     1.0      NaN   \n",
      "20     2.0     NaN      NaN      1.0      NaN     NaN     NaN      NaN   \n",
      "22     NaN     NaN      NaN      1.0      NaN     NaN     NaN      NaN   \n",
      "23     NaN     NaN      NaN      1.0      NaN     NaN     NaN      NaN   \n",
      "\n",
      "       2015    2005     1993     1995    1997     1991     2011    2001  \\\n",
      "1     304.0   173.0    729.0    490.0   116.0    637.0    549.0   151.0   \n",
      "2     738.0   401.0   1034.0    833.0   347.0   1052.0   1365.0   375.0   \n",
      "3    6202.0  2727.0   7336.0   6220.0  3018.0   7780.0  12219.0  2694.0   \n",
      "4   10661.0  4213.0  11415.0  10350.0  4527.0  12568.0  19799.0  4237.0   \n",
      "5   13030.0  4520.0  11645.0  11232.0  4012.0  12819.0  23172.0  4575.0   \n",
      "6   12478.0  4130.0  10491.0  10721.0  3763.0  11208.0  21204.0  4121.0   \n",
      "7    8627.0  2397.0   6957.0   7132.0  2503.0   7289.0  14259.0  2439.0   \n",
      "8    5800.0  1450.0   4562.0   4460.0  1545.0   4767.0   9164.0  1499.0   \n",
      "9    3004.0   677.0   2348.0   2134.0   789.0   2151.0   4339.0   677.0   \n",
      "10   1153.0   308.0    979.0    923.0   316.0    877.0   1791.0   271.0   \n",
      "11    450.0   139.0    418.0    337.0   121.0    328.0    714.0   121.0   \n",
      "12    264.0   177.0    161.0    159.0    59.0    171.0    354.0   108.0   \n",
      "13     22.0   219.0     77.0     56.0    39.0     79.0    105.0    74.0   \n",
      "14      NaN   114.0     24.0     21.0    19.0     31.0     79.0    51.0   \n",
      "15      NaN    28.0     14.0     12.0     9.0     14.0      9.0    14.0   \n",
      "16      NaN     8.0     11.0     11.0    12.0      7.0      NaN     2.0   \n",
      "17      NaN     1.0      1.0      5.0     5.0      7.0      NaN     4.0   \n",
      "18      NaN     2.0      2.0      1.0     2.0      1.0      NaN     2.0   \n",
      "19      NaN     1.0      1.0      2.0     2.0      NaN      NaN     2.0   \n",
      "20      NaN     NaN      1.0      1.0     1.0      1.0      NaN     NaN   \n",
      "22      NaN     NaN      NaN      NaN     NaN      NaN      NaN     NaN   \n",
      "23      NaN     NaN      NaN      NaN     NaN      NaN      NaN     NaN   \n",
      "\n",
      "       1989  \n",
      "1     716.0  \n",
      "2    1148.0  \n",
      "3    7991.0  \n",
      "4   12367.0  \n",
      "5   12472.0  \n",
      "6   11185.0  \n",
      "7    7013.0  \n",
      "8    4243.0  \n",
      "9    2053.0  \n",
      "10    793.0  \n",
      "11    308.0  \n",
      "12    111.0  \n",
      "13     76.0  \n",
      "14     33.0  \n",
      "15     12.0  \n",
      "16      4.0  \n",
      "17      2.0  \n",
      "18      1.0  \n",
      "19      NaN  \n",
      "20      NaN  \n",
      "22      1.0  \n",
      "23      NaN  \n"
     ]
    }
   ],
   "source": [
    "rooms = c.clean_rooms(all_data)\n",
    "rooms = c.get_distribution(rooms, 'ROOMS','ROOMS',1, title = 'All Data' + 'ROOMS')\n",
    "print(rooms)\n"
   ]
  },
  {
   "cell_type": "markdown",
   "metadata": {},
   "source": [
    "### clean the data for bedrms"
   ]
  },
  {
   "cell_type": "code",
   "execution_count": 51,
   "metadata": {},
   "outputs": [
    {
     "name": "stdout",
     "output_type": "stream",
     "text": [
      "       2003     2009     1985     1987     2017     2007    1999     2013  \\\n",
      "-9      NaN      NaN   2261.0   1789.0      NaN      NaN     NaN      NaN   \n",
      "-6   7082.0  13622.0      NaN      NaN      NaN  11034.0  6977.0  20088.0   \n",
      " 0    444.0    453.0   2035.0   1214.0    641.0    475.0   469.0   1147.0   \n",
      " 1   4716.0   4986.0  13997.0  10418.0   8341.0   5581.0  4674.0  15360.0   \n",
      " 2   8011.0   8432.0  23276.0  18335.0  15153.0   9950.0  7985.0  26377.0   \n",
      " 3   9559.0  11116.0  23677.0  18792.0  21717.0  12249.0  9368.0  37218.0   \n",
      " 4   3742.0   4663.0   7983.0   6382.0  11065.0   5590.0  3374.0  16549.0   \n",
      " 5    723.0    940.0   1388.0   1101.0   2925.0   1229.0   680.0   3486.0   \n",
      " 6    144.0    172.0    278.0    203.0      NaN    202.0   113.0    442.0   \n",
      " 7     26.0     29.0     57.0     44.0      NaN     42.0    24.0    102.0   \n",
      " 8     12.0     11.0     12.0     30.0      NaN     15.0    16.0      NaN   \n",
      " 9      2.0      5.0      2.0      2.0      NaN      3.0     7.0      NaN   \n",
      " 10     2.0      6.0     25.0     32.0      NaN      7.0     2.0      NaN   \n",
      " 99     NaN      NaN   6368.0   4167.0      NaN      NaN     NaN      NaN   \n",
      "\n",
      "        2015    2005     1993     1995    1997     1991     2011    2001  \\\n",
      "-9       NaN     NaN   2908.0   4459.0     NaN   2468.0      NaN     NaN   \n",
      "-6       NaN  7004.0      NaN      NaN  5383.0      NaN  22100.0  5954.0   \n",
      " 0     633.0   367.0   1402.0    936.0   159.0   1268.0   1394.0   334.0   \n",
      " 1    8724.0  3733.0  10227.0   8893.0  3937.0  11186.0  15932.0  3691.0   \n",
      " 2   16156.0  6280.0  18403.0  16595.0  6574.0  19681.0  29599.0  6297.0   \n",
      " 3   22753.0  7520.0  19133.0  20023.0  7187.0  20718.0  39699.0  7554.0   \n",
      " 4   11330.0  3000.0   7445.0   7164.0  2679.0   7335.0  18016.0  2828.0   \n",
      " 5    3137.0   644.0   1299.0   1207.0   484.0   1284.0   3851.0   577.0   \n",
      " 6       NaN   102.0    218.0    197.0   144.0    211.0    541.0    96.0   \n",
      " 7       NaN    24.0     49.0     40.0    16.0     45.0     78.0    25.0   \n",
      " 8       NaN    12.0     11.0     14.0    23.0      9.0     12.0     8.0   \n",
      " 9       NaN     1.0      5.0      7.0     3.0      4.0      NaN     4.0   \n",
      " 10      NaN     2.0     14.0     24.0     2.0     46.0      NaN     3.0   \n",
      " 99      NaN     NaN   6246.0   2730.0     NaN   7901.0      NaN     NaN   \n",
      "\n",
      "        1989  \n",
      "-9    2689.0  \n",
      "-6       NaN  \n",
      " 0    1501.0  \n",
      " 1   11341.0  \n",
      " 2   19421.0  \n",
      " 3   20106.0  \n",
      " 4    6771.0  \n",
      " 5    1109.0  \n",
      " 6     200.0  \n",
      " 7      42.0  \n",
      " 8      12.0  \n",
      " 9       1.0  \n",
      " 10     25.0  \n",
      " 99   7911.0  \n"
     ]
    }
   ],
   "source": [
    "bedrms = c.get_distribution(all_data, 'BEDRMS','BEDRMS',1, title = 'All Data' + 'BEDRMS')\n",
    "print(bedrms)"
   ]
  },
  {
   "cell_type": "markdown",
   "metadata": {},
   "source": [
    "For the years 1985-1999 a response code of -9 represents not applicable. For the years 1997-2013 a response code of -6 represents not applicable. The values are top coded at 10. Remove response code of 99 for 1985-19995."
   ]
  },
  {
   "cell_type": "markdown",
   "metadata": {},
   "source": [
    "<b>cleaned data output<b>"
   ]
  },
  {
   "cell_type": "code",
   "execution_count": 52,
   "metadata": {},
   "outputs": [
    {
     "name": "stdout",
     "output_type": "stream",
     "text": [
      "   2003   2009   1985   1987     2017   2007  1999     2013     2015  2005  \\\n",
      "0   444    453   2035   1214    641.0    475   469   1147.0    633.0   367   \n",
      "1  4716   4986  13997  10418   8341.0   5581  4674  15360.0   8724.0  3733   \n",
      "2  8011   8432  23276  18335  15153.0   9950  7985  26377.0  16156.0  6280   \n",
      "3  9559  11116  23677  18792  21717.0  12249  9368  37218.0  22753.0  7520   \n",
      "4  3742   4663   7983   6382  11065.0   5590  3374  16549.0  11330.0  3000   \n",
      "5   723    940   1388   1101   2925.0   1229   680   3486.0   3137.0   644   \n",
      "6   144    172    278    203      NaN    202   113    442.0      NaN   102   \n",
      "7    26     29     57     44      NaN     42    24    102.0      NaN    24   \n",
      "8    12     11     12     30      NaN     15    16      NaN      NaN    12   \n",
      "9     2      5      2      2      NaN      3     7      NaN      NaN     1   \n",
      "\n",
      "    1993   1995  1997   1991     2011  2001   1989  \n",
      "0   1402    936   159   1268   1394.0   334   1501  \n",
      "1  10227   8893  3937  11186  15932.0  3691  11341  \n",
      "2  18403  16595  6574  19681  29599.0  6297  19421  \n",
      "3  19133  20023  7187  20718  39699.0  7554  20106  \n",
      "4   7445   7164  2679   7335  18016.0  2828   6771  \n",
      "5   1299   1207   484   1284   3851.0   577   1109  \n",
      "6    218    197   144    211    541.0    96    200  \n",
      "7     49     40    16     45     78.0    25     42  \n",
      "8     11     14    23      9     12.0     8     12  \n",
      "9      5      7     3      4      NaN     4      1  \n"
     ]
    }
   ],
   "source": [
    "bedrms = c.clean_bdrms(all_data)\n",
    "bedrms = c.get_distribution(bedrms, 'BEDRMS','BEDRMS',1, title = 'All Data' + 'BEDRMS')\n",
    "print(bedrms)\n"
   ]
  },
  {
   "cell_type": "markdown",
   "metadata": {},
   "source": [
    "### clean the data for rent control"
   ]
  },
  {
   "cell_type": "code",
   "execution_count": 53,
   "metadata": {
    "scrolled": true
   },
   "outputs": [
    {
     "name": "stdout",
     "output_type": "stream",
     "text": [
      "         2003     2009     1985     1987     2017     2007     1999     2013  \\\n",
      "-9.0   3314.0    873.0  17528.0  15076.0    279.0   1153.0   2515.0    644.0   \n",
      "-8.0     73.0     15.0      NaN      NaN      NaN     17.0      5.0     32.0   \n",
      "-7.0    251.0      8.0      NaN      NaN      NaN     16.0    163.0     85.0   \n",
      "-6.0  20874.0  32122.0      NaN      NaN  55372.0  33436.0  21475.0  82938.0   \n",
      " 1.0    638.0    349.0   3162.0   1196.0    729.0    364.0    528.0    996.0   \n",
      " 2.0   9313.0  11068.0  25250.0  20905.0   3462.0  11391.0   9003.0  36074.0   \n",
      " 8.0      NaN      NaN     42.0     26.0      NaN      NaN      NaN      NaN   \n",
      " 9.0      NaN      NaN  35377.0  25306.0      NaN      NaN      NaN      NaN   \n",
      "\n",
      "         2015     2005     1993     1995     1997     1991     2011     2001  \\\n",
      "-9.0    237.0   3236.0  20554.0  21989.0   1885.0  15926.0    831.0   2484.0   \n",
      "-8.0      NaN     44.0      NaN      NaN      3.0      NaN     29.0     38.0   \n",
      "-7.0      NaN    190.0      NaN      NaN     78.0      NaN     51.0    165.0   \n",
      "-6.0  59002.0  17407.0      NaN      NaN  16747.0      NaN  88809.0  16715.0   \n",
      " 1.0    670.0    415.0   1319.0    646.0    452.0   1193.0   1707.0    515.0   \n",
      " 2.0   2824.0   7397.0  19970.0  18084.0   7426.0  22789.0  39795.0   7454.0   \n",
      " 8.0      NaN      NaN     23.0     76.0      NaN     39.0      NaN      NaN   \n",
      " 9.0      NaN      NaN  25494.0  21494.0      NaN  32209.0      NaN      NaN   \n",
      "\n",
      "         1989  \n",
      "-9.0  19066.0  \n",
      "-8.0      NaN  \n",
      "-7.0      NaN  \n",
      "-6.0      NaN  \n",
      " 1.0   1627.0  \n",
      " 2.0  21250.0  \n",
      " 8.0     37.0  \n",
      " 9.0  29149.0  \n"
     ]
    }
   ],
   "source": [
    "rcntrl = c.get_distribution(all_data, 'RCNTRL','RCNTRL',1, title = 'All Data' + 'RCNTRL')\n",
    "print(rcntrl)"
   ]
  },
  {
   "cell_type": "markdown",
   "metadata": {},
   "source": [
    "For 1997-2013 RCNTRL\n",
    "1: Yes\n",
    "2: No\n",
    "B or -6: Not applicable\n",
    "Blank or -9: Not reported\n",
    "D or -7: Don't know\n",
    "R or -8: Refused\n",
    "\n",
    "For 2015-2017 RENTCNTRL\n",
    "1: Yes\n",
    "2: No\n",
    "M or -9: Not reported\n",
    "N or -6: Not applicable\n",
    "For 1985-1995 RCNTRL\n",
    "1: Yes\n",
    "2: NO\n",
    "8: Not Answered\n",
    "9: Not Applicable\n",
    "\n",
    "For now we just removed homes which answered yes to rent stabilization to not get rid of most of the observations.\n",
    "\n",
    "Question: Should we remove others such as not reported? Not sure what -9 is for pre-1997. Assumed it was not reported as well\n",
    "ANSWER_JH: No don't remove others. I'm not entirely sure what the -9 is for either. Many might be owner-occupied, though I don't know (cross tab-ing rcntrl with a tenure variable might help). In theory those should be captured by \"9\". \n",
    "Also AHS doesn't allow \"yes\" for houses in certain US states. But not sure that explains -9's."
   ]
  },
  {
   "cell_type": "markdown",
   "metadata": {},
   "source": [
    "<b>cleaned data output<b>"
   ]
  },
  {
   "cell_type": "code",
   "execution_count": 54,
   "metadata": {},
   "outputs": [
    {
     "name": "stdout",
     "output_type": "stream",
     "text": [
      "         2003     2009     1985     1987     2017     2007     1999     2013  \\\n",
      "-9.0   3314.0    873.0  17528.0  15076.0    279.0   1153.0   2515.0    644.0   \n",
      "-8.0     73.0     15.0      NaN      NaN      NaN     17.0      5.0     32.0   \n",
      "-7.0    251.0      8.0      NaN      NaN      NaN     16.0    163.0     85.0   \n",
      "-6.0  20874.0  32122.0      NaN      NaN  55372.0  33436.0  21475.0  82938.0   \n",
      " 2.0   9313.0  11068.0  25250.0  20905.0   3462.0  11391.0   9003.0  36074.0   \n",
      " 8.0      NaN      NaN     42.0     26.0      NaN      NaN      NaN      NaN   \n",
      " 9.0      NaN      NaN  35377.0  25306.0      NaN      NaN      NaN      NaN   \n",
      "\n",
      "         2015     2005     1993     1995     1997     1991     2011     2001  \\\n",
      "-9.0    237.0   3236.0  20554.0  21989.0   1885.0  15926.0    831.0   2484.0   \n",
      "-8.0      NaN     44.0      NaN      NaN      3.0      NaN     29.0     38.0   \n",
      "-7.0      NaN    190.0      NaN      NaN     78.0      NaN     51.0    165.0   \n",
      "-6.0  59002.0  17407.0      NaN      NaN  16747.0      NaN  88809.0  16715.0   \n",
      " 2.0   2824.0   7397.0  19970.0  18084.0   7426.0  22789.0  39795.0   7454.0   \n",
      " 8.0      NaN      NaN     23.0     76.0      NaN     39.0      NaN      NaN   \n",
      " 9.0      NaN      NaN  25494.0  21494.0      NaN  32209.0      NaN      NaN   \n",
      "\n",
      "         1989  \n",
      "-9.0  19066.0  \n",
      "-8.0      NaN  \n",
      "-7.0      NaN  \n",
      "-6.0      NaN  \n",
      " 2.0  21250.0  \n",
      " 8.0     37.0  \n",
      " 9.0  29149.0  \n"
     ]
    }
   ],
   "source": [
    "rcntrl = c.clean_rcntrl(all_data)\n",
    "rcntrl = c.get_distribution(rcntrl, 'RCNTRL','RCNTRL',1, title = 'All Data' + 'RCNTRL')\n",
    "print(rcntrl)"
   ]
  },
  {
   "cell_type": "markdown",
   "metadata": {},
   "source": [
    "### clean the data for tenure"
   ]
  },
  {
   "cell_type": "code",
   "execution_count": 55,
   "metadata": {},
   "outputs": [
    {
     "name": "stdout",
     "output_type": "stream",
     "text": [
      "         2003     2009     1985     1987     2017     2007     1999     2013  \\\n",
      "-9.0      NaN      NaN   2980.0   2674.0      NaN      NaN      NaN      NaN   \n",
      "-6.0   6766.0  13613.0      NaN      NaN   6860.0  10341.0   5844.0  17206.0   \n",
      " 1.0  16880.0  19244.0  38641.0  29969.0  32180.0  23253.0  16581.0  62932.0   \n",
      " 2.0  10520.0  11247.0  30804.0  23510.0  20249.0  12393.0  10965.0  39502.0   \n",
      " 3.0    297.0    331.0    957.0    718.0    553.0    390.0    299.0   1129.0   \n",
      " 9.0      NaN      NaN   7977.0   5638.0      NaN      NaN      NaN      NaN   \n",
      "\n",
      "         2015     2005     1993     1995     1997     1991     2011     2001  \\\n",
      "-9.0      NaN      NaN   4073.0   4558.0      NaN   3026.0      NaN      NaN   \n",
      "-6.0   6899.0   6453.0      NaN      NaN   4832.0      NaN  19270.0   5067.0   \n",
      " 1.0  33608.0  13697.0  32415.0  33200.0  12748.0  33344.0  67689.0  13408.0   \n",
      " 2.0  21491.0   8312.0  23029.0  19844.0   8750.0  25405.0  42985.0   8655.0   \n",
      " 3.0    735.0    227.0    755.0    768.0    261.0    881.0   1278.0    241.0   \n",
      " 9.0      NaN      NaN   7088.0   3919.0      NaN   9500.0      NaN      NaN   \n",
      "\n",
      "         1989  \n",
      "-9.0   3492.0  \n",
      "-6.0      NaN  \n",
      " 1.0  32951.0  \n",
      " 2.0  24265.0  \n",
      " 3.0    745.0  \n",
      " 9.0   9676.0  \n"
     ]
    }
   ],
   "source": [
    "tenure = c.get_distribution(all_data, 'TENURE','TENURE',1, title = 'All Data' + 'TENURE')\n",
    "print(tenure)"
   ]
  },
  {
   "cell_type": "markdown",
   "metadata": {},
   "source": [
    "For 1985-2017\n",
    "1: Owned or being bought by someone in your household\n",
    "2: Rented\n",
    "3: Occupied without payment of rent\n",
    "N or -6 (2015 and later) | B or -6 (2013 and earlier): Not applicable\n",
    "9 not applicable for 1995 and earlier\n",
    "\n",
    "We removed only response code 3 for all years\n",
    "\n",
    "JH: eyeballing the counts, it seems very likely that there is quite a bit of overlap in peculiar answers. For instance: 1995 has 4558 \"-9\" for tenure and 4559 \"-9\" for bedrooms and rooms. (Note this is why it is good to look first always at the raw data and not iteratively delete parts of the sample.) So I think we can feel safer in deleting those answers... But let's keep an eye on things. Still would like to figure out what they are. \n",
    "One possibility is that - the AHS had back then a mixed sampling strategy; repeatedly sampling a nation-wide sample of houses each period but then mixing in a few select metro areas on a rotating basis (one year SF, the next LA, etc...) - maybe they didn't ask certain questions for this select sample. But it seems crazy that they wouldn't ask these basic questions. \n",
    "One way to do this is to keep only data with the -9 for tenure and then eyeball what they are. What responses are available for these properties?"
   ]
  },
  {
   "cell_type": "markdown",
   "metadata": {},
   "source": [
    "<b>cleaned data output<b>"
   ]
  },
  {
   "cell_type": "code",
   "execution_count": 56,
   "metadata": {},
   "outputs": [
    {
     "name": "stdout",
     "output_type": "stream",
     "text": [
      "         2003     2009     1985     1987     2017     2007     1999     2013  \\\n",
      "-9.0      NaN      NaN   2980.0   2674.0      NaN      NaN      NaN      NaN   \n",
      "-6.0   6766.0  13613.0      NaN      NaN   6860.0  10341.0   5844.0  17206.0   \n",
      " 1.0  16880.0  19244.0  38641.0  29969.0  32180.0  23253.0  16581.0  62932.0   \n",
      " 2.0  10520.0  11247.0  30804.0  23510.0  20249.0  12393.0  10965.0  39502.0   \n",
      " 9.0      NaN      NaN   7977.0   5638.0      NaN      NaN      NaN      NaN   \n",
      "\n",
      "         2015     2005     1993     1995     1997     1991     2011     2001  \\\n",
      "-9.0      NaN      NaN   4073.0   4558.0      NaN   3026.0      NaN      NaN   \n",
      "-6.0   6899.0   6453.0      NaN      NaN   4832.0      NaN  19270.0   5067.0   \n",
      " 1.0  33608.0  13697.0  32415.0  33200.0  12748.0  33344.0  67689.0  13408.0   \n",
      " 2.0  21491.0   8312.0  23029.0  19844.0   8750.0  25405.0  42985.0   8655.0   \n",
      " 9.0      NaN      NaN   7088.0   3919.0      NaN   9500.0      NaN      NaN   \n",
      "\n",
      "         1989  \n",
      "-9.0   3492.0  \n",
      "-6.0      NaN  \n",
      " 1.0  32951.0  \n",
      " 2.0  24265.0  \n",
      " 9.0   9676.0  \n"
     ]
    }
   ],
   "source": [
    "tenure = c.clean_tenure(all_data)\n",
    "tenure = c.get_distribution(tenure, 'TENURE','TENURE',1, title = 'All Data' + 'TENURE')\n",
    "print(tenure)"
   ]
  },
  {
   "cell_type": "markdown",
   "metadata": {},
   "source": [
    "### clean the rent variable and calculate log rents"
   ]
  },
  {
   "cell_type": "markdown",
   "metadata": {},
   "source": [
    "For 1997-2017:\n",
    "0: Vacant or URE unit where rent will depend on the occupant's income\n",
    "1 : 99998: $1 to $99,998\n",
    "99999: $99,999 or more\n",
    "N or -6 (2015 and later) | B or -6 (2013 and earlier): Not applicable\n",
    "\n",
    "We remove -6,0 and 99999 response codes\n",
    "\n",
    "p. 147 codebook\n",
    "For 1985-1995:\n",
    "9999: not applicable\n",
    "0, 999: No cash rent \n",
    "1: Vacant and rent depends on income of oc\n",
    "\n",
    "We remove 1,0 and 9999, -6, 99999 response codes\n",
    "\n",
    "\n",
    "\n",
    "There were many values below zero even though it was noted in the codebook. I choose to remove negative rents."
   ]
  },
  {
   "cell_type": "markdown",
   "metadata": {},
   "source": [
    "<b>cleaned data output<b>"
   ]
  },
  {
   "cell_type": "code",
   "execution_count": 57,
   "metadata": {},
   "outputs": [
    {
     "data": {
      "text/plain": [
       "<matplotlib.axes._subplots.AxesSubplot at 0x7f8b88fdd990>"
      ]
     },
     "execution_count": 57,
     "metadata": {},
     "output_type": "execute_result"
    },
    {
     "data": {
      "image/png": "[encoded data removed]",
      "text/plain": [
       "<Figure size 432x288 with 1 Axes>"
      ]
     },
     "metadata": {
      "needs_background": "light"
     },
     "output_type": "display_data"
    }
   ],
   "source": [
    "rent = c.clean_rent(all_data)\n",
    "rent.loc[rent['year'] >= 1997]['RENT'].hist(bins = 50)"
   ]
  },
  {
   "cell_type": "code",
   "execution_count": 58,
   "metadata": {},
   "outputs": [
    {
     "data": {
      "text/plain": [
       "<matplotlib.axes._subplots.AxesSubplot at 0x7f8b88fc7e10>"
      ]
     },
     "execution_count": 58,
     "metadata": {},
     "output_type": "execute_result"
    },
    {
     "data": {
      "image/png": "[encoded data removed]",
      "text/plain": [
       "<Figure size 432x288 with 1 Axes>"
      ]
     },
     "metadata": {
      "needs_background": "light"
     },
     "output_type": "display_data"
    }
   ],
   "source": [
    "rent.loc[rent['year'] < 1997]['RENT'].hist(bins = 50)"
   ]
  },
  {
   "cell_type": "markdown",
   "metadata": {},
   "source": [
    "If the rent field is top coded at 99,998 for years greater than 1997, why do we see data greater than that? Should we top code the data before that for that. "
   ]
  },
  {
   "cell_type": "markdown",
   "metadata": {},
   "source": [
    "### clean the data for ratios"
   ]
  },
  {
   "cell_type": "markdown",
   "metadata": {},
   "source": [
    "Delete if the ratio of household income to house value is greater than 2 (This identifiesdata errors in the house value field)\n",
    "\n",
    "Delete if the ratio of household income to annual rent is greater than 100 (This identifiesdata errors in the annual rent field)\n",
    "\n",
    "Output the dataframe after cleaning to show that the proper datapoints were filtered out"
   ]
  },
  {
   "cell_type": "markdown",
   "metadata": {},
   "source": [
    "<b> cleaned data output<b>"
   ]
  },
  {
   "cell_type": "code",
   "execution_count": 59,
   "metadata": {},
   "outputs": [
    {
     "name": "stdout",
     "output_type": "stream",
     "text": [
      "Empty DataFrame\n",
      "Columns: [year, VACANCY, RENT, ZINC2, EBAR, RCNTRL, VALUE, NUNIT2, CONDO, TENURE, SMSA, ROOMS, BATHS, AIRSYS, TYPE, BUILT, BEDRMS, Income to Value Ratio, Income to Rent Ratio]\n",
      "Index: []\n",
      "Empty DataFrame\n",
      "Columns: [year, VACANCY, RENT, ZINC2, EBAR, RCNTRL, VALUE, NUNIT2, CONDO, TENURE, SMSA, ROOMS, BATHS, AIRSYS, TYPE, BUILT, BEDRMS, Income to Value Ratio, Income to Rent Ratio]\n",
      "Index: []\n"
     ]
    }
   ],
   "source": [
    "ratios = c.clean_ratios(all_data)\n",
    "print(ratios.loc[ratios['Income to Rent Ratio']>100.])\n",
    "print(ratios.loc[ratios['Income to Value Ratio']>2.])"
   ]
  },
  {
   "cell_type": "markdown",
   "metadata": {},
   "source": [
    "### clean data for type and create binary variable for attached or detached"
   ]
  },
  {
   "cell_type": "code",
   "execution_count": 60,
   "metadata": {},
   "outputs": [
    {
     "name": "stdout",
     "output_type": "stream",
     "text": [
      "          2003     2009     1985     1987     2017     2007     1999  \\\n",
      "-9.0       NaN      NaN    371.0    255.0      NaN      NaN      NaN   \n",
      "-6.0    3242.0   8106.0      NaN      NaN      NaN   4671.0   2669.0   \n",
      " 1.0   30297.0  35244.0  75726.0  58882.0   2058.0  40307.0  29994.0   \n",
      " 2.0     373.0    485.0   1287.0    921.0  33989.0    628.0    375.0   \n",
      " 3.0      62.0     75.0    275.0    126.0   5446.0    164.0     73.0   \n",
      " 4.0      18.0     17.0     94.0     49.0   1388.0     14.0     19.0   \n",
      " 5.0      19.0     16.0     58.0     41.0   2544.0     19.0     18.0   \n",
      " 6.0      25.0     28.0     87.0     97.0   3476.0     29.0     41.0   \n",
      " 7.0       2.0     11.0     22.0      7.0   3671.0      5.0      7.0   \n",
      " 8.0       NaN      NaN      1.0      1.0   2775.0      NaN      NaN   \n",
      " 9.0     181.0    183.0     28.0     27.0   4467.0    240.0    215.0   \n",
      " 10.0     30.0     80.0      6.0     11.0     28.0     63.0     29.0   \n",
      " 11.0    214.0    190.0     20.0     38.0      NaN    237.0    249.0   \n",
      " 12.0      NaN      NaN     92.0     67.0      NaN      NaN      NaN   \n",
      " 13.0      NaN      NaN     12.0     11.0      NaN      NaN      NaN   \n",
      " 14.0      NaN      NaN   1924.0   1190.0      NaN      NaN      NaN   \n",
      " 99.0      NaN      NaN   1356.0    786.0      NaN      NaN      NaN   \n",
      "\n",
      "           2013     2015     2005     1993     1995     1997     1991  \\\n",
      "-9.0        NaN      NaN      NaN    710.0    950.0      NaN    507.0   \n",
      "-6.0     2729.0      NaN   3371.0      NaN      NaN   2029.0      NaN   \n",
      " 1.0   113052.0   1839.0  24587.0  60793.0  58783.0  23717.0  64976.0   \n",
      " 2.0     2816.0  36789.0    249.0    998.0   1009.0    353.0    854.0   \n",
      " 3.0      578.0   5842.0     41.0    261.0    183.0     66.0    134.0   \n",
      " 4.0       45.0   2066.0     11.0     82.0     35.0     20.0     58.0   \n",
      " 5.0       65.0   2716.0     17.0     63.0     26.0     16.0     38.0   \n",
      " 6.0       61.0   3128.0     25.0     85.0     54.0     44.0     98.0   \n",
      " 7.0       53.0   3346.0      1.0      4.0     11.0      2.0      4.0   \n",
      " 8.0        2.0   2730.0      NaN      NaN      2.0      NaN      NaN   \n",
      " 9.0      644.0   4256.0    176.0     28.0     24.0    111.0     32.0   \n",
      " 10.0     206.0     21.0     35.0     52.0     50.0     23.0     56.0   \n",
      " 11.0     518.0      NaN    176.0    376.0    104.0    210.0    319.0   \n",
      " 12.0       NaN      NaN      NaN     88.0    115.0      NaN     95.0   \n",
      " 13.0       NaN      NaN      NaN     75.0     43.0      NaN     69.0   \n",
      " 14.0       NaN      NaN      NaN    432.0    314.0      NaN    428.0   \n",
      " 99.0       NaN      NaN      NaN   3313.0    586.0      NaN   4488.0   \n",
      "\n",
      "           2011     2001     1989  \n",
      "-9.0        NaN      NaN    544.0  \n",
      "-6.0     4073.0   2499.0      NaN  \n",
      " 1.0   121973.0  23988.0  62917.0  \n",
      " 2.0     2674.0    311.0   1218.0  \n",
      " 3.0      429.0     65.0    262.0  \n",
      " 4.0       56.0     14.0     79.0  \n",
      " 5.0       65.0     18.0     56.0  \n",
      " 6.0       64.0     41.0     71.0  \n",
      " 7.0       64.0      7.0     22.0  \n",
      " 8.0        1.0      NaN      1.0  \n",
      " 9.0     1046.0    204.0     25.0  \n",
      " 10.0     279.0     32.0     15.0  \n",
      " 11.0     498.0    192.0      3.0  \n",
      " 12.0       NaN      NaN    100.0  \n",
      " 13.0       NaN      NaN      3.0  \n",
      " 14.0       NaN      NaN   1559.0  \n",
      " 99.0       NaN      NaN   4254.0  \n"
     ]
    }
   ],
   "source": [
    "unit_type = c.get_distribution(all_data, 'TYPE','TYPE',1, title = 'All Data' + 'Type')\n",
    "print(unit_type)"
   ]
  },
  {
   "cell_type": "markdown",
   "metadata": {},
   "source": [
    "For 2015-2017 the ahs code is BLD\n",
    "01: Mobile home or trailer\n",
    "02: One-family house, detached\n",
    "03: One-family house, attached\n",
    "04: 2 Apartments\n",
    "05: 3-4 Apartments\n",
    "06: 5-9 Apartments\n",
    "07: 10-19 Apartments\n",
    "08: 20-49 Apartments\n",
    "09: 50 or more apartments\n",
    "10: Boat, RV, van, etc.\n",
    "\n",
    "For 1997-2013 the ahs code is NUNIT2\n",
    "1: One-unit building, detached from any other building\n",
    "2: One-unit building, attached to one or more buildings\n",
    "3: Building with two or more apartments\n",
    "4: Manufactured (mobile) home\n",
    "B or -6: Not applicable\n",
    "\n",
    "For 1985-1995 the ahs code is NUNIT2. pg. 133 of pdf \n",
    "1: Mobile Home--No Permanent Room\n",
    "2: Detached\n",
    "3: Attached\n",
    "04: 2 Apartments\n",
    "05: 3-4 Apartments\n",
    "06: 5-9 Apartments\n",
    "07: 10-19 Apartments\n",
    "08: 20-49 Apartments\n",
    "09: 50 or more apartments\n",
    "101: 101 apartments or more\n",
    "99 or 999: not applicable\n",
    "\n",
    "top codes are 97th percentile"
   ]
  },
  {
   "cell_type": "markdown",
   "metadata": {},
   "source": [
    "<b> Question <b>. detached, attached, condo, or apartment is noted in the appendix as the unit type fixed effect. On p.11 of the paper it is just a dummy variable for attached or detached. We will follow this methodolgy.I have condo codes as well. We will keep codes 2 and 3 for 2015,2017. 1 and 3 for 1997-2013. 2 and 3 for 1985-1995. We will make it a binary variable with 1 meaning detached. I don't think this correct. I think I should add apartments to attached homes"
   ]
  },
  {
   "cell_type": "code",
   "execution_count": 61,
   "metadata": {},
   "outputs": [
    {
     "name": "stdout",
     "output_type": "stream",
     "text": [
      "      2003   2009   1985   1987   2017   2007   1999    2013   2015   2005  \\\n",
      "1.0  30297  35244  75726  58882  33989  40307  29994  113052  36789  24587   \n",
      "0.0    373    485   1287    921   5446    628    375    2816   5842    249   \n",
      "\n",
      "      1993   1995   1997   1991    2011   2001   1989  \n",
      "1.0  60793  58783  23717  64976  121973  23988  62917  \n",
      "0.0    998   1009    353    854    2674    311   1218  \n"
     ]
    }
   ],
   "source": [
    "unit_type = c.clean_type(all_data)\n",
    "unit_type = c.get_distribution(unit_type, 'Unit Type','Unit Type',1, title = 'All Data' + 'Type')\n",
    "print(unit_type)"
   ]
  },
  {
   "cell_type": "markdown",
   "metadata": {},
   "source": [
    "### clean the data for airsys"
   ]
  },
  {
   "cell_type": "code",
   "execution_count": 62,
   "metadata": {},
   "outputs": [
    {
     "name": "stdout",
     "output_type": "stream",
     "text": [
      "          2003     2009     1985     1987     2017     2007     1999     2013  \\\n",
      "-9.0       NaN      NaN   2261.0   1787.0      NaN      NaN      NaN      NaN   \n",
      "-6.0    7082.0  13622.0      NaN      NaN      NaN  11034.0   6977.0  20088.0   \n",
      " 1.0   14621.0  18146.0  27774.0  20750.0  42067.0  23797.0  13168.0  70111.0   \n",
      " 2.0   12760.0  12667.0  44956.0  35805.0   1593.0  11546.0  13544.0  30570.0   \n",
      " 3.0       NaN      NaN      NaN      NaN    101.0      NaN      NaN      NaN   \n",
      " 4.0       NaN      NaN      NaN      NaN     46.0      NaN      NaN      NaN   \n",
      " 5.0       NaN      NaN      NaN      NaN   4139.0      NaN      NaN      NaN   \n",
      " 6.0       NaN      NaN      NaN      NaN   2879.0      NaN      NaN      NaN   \n",
      " 7.0       NaN      NaN      NaN      NaN   1471.0      NaN      NaN      NaN   \n",
      " 8.0       NaN      NaN      NaN      NaN    601.0      NaN      NaN      NaN   \n",
      " 9.0       NaN      NaN   6368.0   4167.0    167.0      NaN      NaN      NaN   \n",
      " 10.0      NaN      NaN      NaN      NaN     37.0      NaN      NaN      NaN   \n",
      " 11.0      NaN      NaN      NaN      NaN     21.0      NaN      NaN      NaN   \n",
      " 12.0      NaN      NaN      NaN      NaN   6720.0      NaN      NaN      NaN   \n",
      "\n",
      "          2015     2005     1993     1995     1997     1991     2011     2001  \\\n",
      "-9.0       NaN      NaN   2908.0   4459.0      NaN   2468.0      NaN      NaN   \n",
      "-6.0       NaN   7004.0      NaN      NaN   5383.0      NaN  22100.0   5954.0   \n",
      " 1.0   41511.0  12534.0  24496.0  28524.0  10254.0  25743.0  71957.0  11425.0   \n",
      " 2.0    2046.0   9151.0  33710.0  26576.0  10954.0  36044.0  37165.0   9992.0   \n",
      " 3.0      92.0      NaN      NaN      NaN      NaN      NaN      NaN      NaN   \n",
      " 4.0     107.0      NaN      NaN      NaN      NaN      NaN      NaN      NaN   \n",
      " 5.0    4856.0      NaN      NaN      NaN      NaN      NaN      NaN      NaN   \n",
      " 6.0    3257.0      NaN      NaN      NaN      NaN      NaN      NaN      NaN   \n",
      " 7.0    1409.0      NaN      NaN      NaN      NaN      NaN      NaN      NaN   \n",
      " 8.0     528.0      NaN      NaN      NaN      NaN      NaN      NaN      NaN   \n",
      " 9.0     137.0      NaN   6246.0   2730.0      NaN   7901.0      NaN      NaN   \n",
      " 10.0     39.0      NaN      NaN      NaN      NaN      NaN      NaN      NaN   \n",
      " 11.0     21.0      NaN      NaN      NaN      NaN      NaN      NaN      NaN   \n",
      " 12.0   8730.0      NaN      NaN      NaN      NaN      NaN      NaN      NaN   \n",
      "\n",
      "          1989  \n",
      "-9.0    2689.0  \n",
      "-6.0       NaN  \n",
      " 1.0   27704.0  \n",
      " 2.0   32825.0  \n",
      " 3.0       NaN  \n",
      " 4.0       NaN  \n",
      " 5.0       NaN  \n",
      " 6.0       NaN  \n",
      " 7.0       NaN  \n",
      " 8.0       NaN  \n",
      " 9.0    7911.0  \n",
      " 10.0      NaN  \n",
      " 11.0      NaN  \n",
      " 12.0      NaN  \n"
     ]
    }
   ],
   "source": [
    "airsys = c.get_distribution(all_data, 'AIRSYS','AIRSYS',1, title = 'All Data' + 'AIRSYS')\n",
    "print(airsys)"
   ]
  },
  {
   "cell_type": "markdown",
   "metadata": {},
   "source": [
    "For 1997-2013:\n",
    "1: Yes\n",
    "2: No\n",
    "B or -6: Not applicable\n",
    "For 2015-2017:\n",
    "01: Electric powered central air conditioning system\n",
    "02: Piped gas powered central air conditioning system\n",
    "03: LP gas powered central air conditioning system\n",
    "04: Other fuel source powered air conditioning system\n",
    "05: 1 room air conditioner\n",
    "06: 2 room air conditioners\n",
    "07: 3 room air conditioners\n",
    "08: 4 room air conditioners\n",
    "09: 5 room air conditioners\n",
    "10: 6 room air conditioners\n",
    "11: 7 or more room air conditioners\n",
    "12: No air conditioning\n",
    "\n",
    "\n",
    "For 1985-1995:\n",
    "1: Yes\n",
    "2: No\n",
    "\n",
    "\n",
    "We will create a binary variable for whether the data has airconditioning or not. 1 for, 0 for not\n",
    "We will remove -6 not applicable for 1997-2013\n",
    "We will remove -9,9 not applicable for 1985-1995"
   ]
  },
  {
   "cell_type": "markdown",
   "metadata": {},
   "source": [
    "<b> cleaned data output<b>"
   ]
  },
  {
   "cell_type": "code",
   "execution_count": 63,
   "metadata": {},
   "outputs": [
    {
     "name": "stdout",
     "output_type": "stream",
     "text": [
      "      2003   2009   1985   1987   2017   2007   1999   2013   2015   2005  \\\n",
      "0.0  12760  12667  44956  35805   6720  11546  13544  30570   8730   9151   \n",
      "1.0  14621  18146  27774  20750  53122  23797  13168  70111  54003  12534   \n",
      "\n",
      "      1993   1995   1997   1991   2011   2001   1989  \n",
      "0.0  33710  26576  10954  36044  37165   9992  32825  \n",
      "1.0  24496  28524  10254  25743  71957  11425  27704  \n"
     ]
    }
   ],
   "source": [
    "AIRSYS = c.clean_airsys(all_data)\n",
    "AIRSYS = c.get_distribution(AIRSYS, 'AIRSYS','AIRSYS',1, title = 'All Data' + 'AIRSYS')\n",
    "print(AIRSYS)"
   ]
  },
  {
   "cell_type": "markdown",
   "metadata": {},
   "source": [
    "## Actually clean the data sequentially for hedonic model"
   ]
  },
  {
   "cell_type": "code",
   "execution_count": 64,
   "metadata": {},
   "outputs": [
    {
     "name": "stdout",
     "output_type": "stream",
     "text": [
      "     year  VACANCY     RENT  ZINC2  EBAR  RCNTRL  VALUE NUNIT2  CONDO  TENURE  \\\n",
      "28   2003      1.0   9900.0     -6   2.0     2.0     -6      3    3.0    -6.0   \n",
      "60   2003     -6.0   4380.0  11500  -9.0    -8.0     -6      3    3.0     2.0   \n",
      "100  2003     -6.0   6000.0  27000   2.0     2.0     -6      3    3.0     2.0   \n",
      "105  2003     -6.0  12660.0  29800   2.0     2.0     -6      3    3.0     2.0   \n",
      "120  2003     -6.0   6588.0  40000   2.0     2.0     -6      3    3.0     2.0   \n",
      "124  2003     -6.0  27888.0  29000   2.0     2.0     -6      3    3.0     2.0   \n",
      "129  2003     -6.0   1020.0   3800   1.0     2.0     -6      1    3.0     2.0   \n",
      "130  2003     -6.0   7980.0  37000   2.0     2.0     -6      3    3.0     2.0   \n",
      "135  2003     -6.0  10320.0  47000   2.0     2.0     -6      3    3.0     2.0   \n",
      "137  2003     -6.0   7140.0  33000   2.0     2.0     -6      3    3.0     2.0   \n",
      "\n",
      "     ...  ROOMS  BATHS  AIRSYS  TYPE  BUILT  BEDRMS  Income to Value Ratio  \\\n",
      "28   ...      2    1.0     1.0   1.0   1985       1               1.000000   \n",
      "60   ...      3    1.0     2.0   1.0   1980       1           -1916.666667   \n",
      "100  ...      4    1.0     2.0   1.0   1975       2           -4500.000000   \n",
      "105  ...      4    2.0     1.0   1.0   1985       2           -4966.666667   \n",
      "120  ...      3    1.0     1.0   1.0   1985       1           -6666.666667   \n",
      "124  ...      6    1.0     2.0   1.0   1980       1           -4833.333333   \n",
      "129  ...      6    2.0     2.0   1.0   1980       3            -633.333333   \n",
      "130  ...      4    2.0     1.0   1.0   1980       2           -6166.666667   \n",
      "135  ...      6    2.0     1.0   1.0   1980       2           -7833.333333   \n",
      "137  ...      4    1.0     1.0   1.0   1985       1           -5500.000000   \n",
      "\n",
      "     Income to Rent Ratio   log rent  Unit Type  \n",
      "28              -0.007273   9.200290        1.0  \n",
      "60              31.506849   8.384804        1.0  \n",
      "100             54.000000   8.699515        1.0  \n",
      "105             28.246445   9.446203        1.0  \n",
      "120             72.859745   8.793005        1.0  \n",
      "124             12.478485  10.235952        1.0  \n",
      "129             44.705882   6.927558        1.0  \n",
      "130             55.639098   8.984694        1.0  \n",
      "135             54.651163   9.241839        1.0  \n",
      "137             55.462185   8.873468        1.0  \n",
      "\n",
      "[10 rows x 21 columns]\n"
     ]
    }
   ],
   "source": [
    "hedonic_model_data = c.clean_bdrms(hedonic_model_data)\n",
    "hedonic_model_data = c.clean_rooms(hedonic_model_data)\n",
    "hedonic_model_data = c.clean_rcntrl(hedonic_model_data)\n",
    "hedonic_model_data = c.clean_tenure(hedonic_model_data)\n",
    "hedonic_model_data = c.clean_cities(hedonic_model_data)\n",
    "hedonic_model_data = c.clean_rent(hedonic_model_data)\n",
    "hedonic_model_data = c.clean_ratios(hedonic_model_data)\n",
    "hedonic_model_data = c.clean_type(hedonic_model_data)\n",
    "print(hedonic_model_data.head(10))\n"
   ]
  },
  {
   "cell_type": "markdown",
   "metadata": {},
   "source": [
    "## Histogram Analysis"
   ]
  },
  {
   "cell_type": "code",
   "execution_count": null,
   "metadata": {},
   "outputs": [],
   "source": []
  },
  {
   "cell_type": "markdown",
   "metadata": {},
   "source": [
    "##  Imputing rents with a hedonic model"
   ]
  },
  {
   "cell_type": "code",
   "execution_count": null,
   "metadata": {},
   "outputs": [],
   "source": []
  },
  {
   "cell_type": "markdown",
   "metadata": {},
   "source": [
    "## Aggregating rent-to-price ratios with nonparametric weights"
   ]
  },
  {
   "cell_type": "markdown",
   "metadata": {},
   "source": [
    "We wish to find the median rent-to-price ofrentalhomes, but our dataset has rent-to-priceratios computed onownedhomes.  To account for sample selection in our dataset of rent-to-price  ratios,  we  weight  the  owned  homes  in  a  city  to  the  distribution  of  rental  homes.(We do not use the alternate methodology – to estimate the hedonic coefficients on ownedhomes, and then compute rent-to-price ratios on rental homes directly – because there arenot enough rental homes for a meaningful sample in some city-year bins.  Indeed, the verysame  cities  that  are  less  populated  are  the  ones  with  a  low  ratio  of  rental  homes.)   Thisprocedure is similar to the nonparametric approach used in Barsky et al (2002.\n",
    "\n",
    "Sample selection is an issue because rent-to-price ratios are decreasing in house prices(and in house rents), as discussed in the section on house level data in the main text.\n",
    "\n",
    "For  each  city  in  each  year,  we  re-weight  the  owner-occupied  houses  as  follows.   First,line  up  all  the  houses  by  predicted  rent.   Then  bin  by  percentile  of  predicted  rent.   Next determine the density of renter-occupied in the predicted rent space.  Finally, compute the median  rent-to-price  ratio  among  owner-occupied,  using  the  density  of  renter-occupied  totake a weighted median.\n",
    "\n",
    "Note that relative to an unweighted median, this nonparametric procedure reduces theweight  on  expensive  homes,  which  are  the  same  homes  for  which  the  hedonic  model  hasthe largest errors (because it is estimated upon rental homes, which are likely to be smaller homes."
   ]
  },
  {
   "cell_type": "markdown",
   "metadata": {},
   "source": [
    "## Vacancy data"
   ]
  },
  {
   "cell_type": "markdown",
   "metadata": {},
   "source": [
    "To compute net yields from gross yields, we need to know the percentage of rental homesthat sit vacant.  We can get this information from the AHS as well.  We use the same dataset(including removing units in housing projects, those with bars on the windows, those thatare rent stabilized, and those missing data).  We label a home as a vacant rental if the surveyidentifies it as for rent only, for rent or for sale, or rented but not yet occupied.  The vacancyrate is the ratio of this number to this number plus the number of renter-occupied homes.For those city-year cells without enough datapoints, we use a projection from the rest of thedataset."
   ]
  },
  {
   "cell_type": "markdown",
   "metadata": {},
   "source": [
    "## Tax Rates"
   ]
  },
  {
   "cell_type": "markdown",
   "metadata": {},
   "source": [
    "We also need a panel of tax rates to compute net yields.  Our sources are Emrath (2002) for1990 and 2000 tax rates from Census data, and the National Association of Home Builders(NAHB) for 2005 to 2012 tax rates from ACS data.  The tax rate data are available by state."
   ]
  },
  {
   "cell_type": "markdown",
   "metadata": {},
   "source": [
    "##  Interpolating missing years"
   ]
  },
  {
   "cell_type": "markdown",
   "metadata": {},
   "source": [
    "As  the  survey  is  biannual  and  the  tax  rates  are  from  Census,  we  linearly  interpolate  therent-to-price ratios, vacancy rates, and tax rates to even-numbered years and other missingyears (in the case of the tax data)"
   ]
  },
  {
   "cell_type": "markdown",
   "metadata": {},
   "source": [
    "## Net Yields"
   ]
  },
  {
   "cell_type": "markdown",
   "metadata": {},
   "source": [
    "Starting from gross yields, we compute net yields using the follow costs, some of which areexpressed as a percentage of rent and some of which are a percentage of home value.  Weuse expense ratios from Morgan Stanley,  “The New Age of Buy-To-Rent,”  July 31,  2013.Similar, but less comprehensive, assumptions appear in Bernanke (2012) “The US HousingMarket:  Current conditions and policy considerations.”  The assumptions underlying CoreLogic’s Rental Trends, discussed below, are also broadly consistent with ours, however someof  their  cost  estimates  rely  on  direct  proprietary  data  rather  than  ratios  of  rent  or  houseprice.\n",
    "\n",
    "- Insurance:  0.375% of price\n",
    "- Repairs:  0.6% of price\n",
    "- Capex:  1.15% of price\n",
    "- Property manager:  5.9% of rent\n",
    "- Credit loss:  0.73% of ren\n",
    "- Tax: on price\n",
    "- Vacancy:  on rent"
   ]
  }
 ],
 "metadata": {
  "kernelspec": {
   "display_name": "Python 3",
   "language": "python",
   "name": "python3"
  },
  "language_info": {
   "codemirror_mode": {
    "name": "ipython",
    "version": 3
   },
   "file_extension": ".py",
   "mimetype": "text/x-python",
   "name": "python",
   "nbconvert_exporter": "python",
   "pygments_lexer": "ipython3",
   "version": "3.7.6"
  }
 },
 "nbformat": 4,
 "nbformat_minor": 2
}
