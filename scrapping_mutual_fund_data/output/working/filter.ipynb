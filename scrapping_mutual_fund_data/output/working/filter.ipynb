{
 "cells": [
  {
   "cell_type": "code",
   "execution_count": 1,
   "metadata": {},
   "outputs": [],
   "source": [
    "import os\n",
    "import pandas as pd\n",
    "import re\n",
    "from os import listdir\n",
    "from os.path import isfile, join"
   ]
  },
  {
   "cell_type": "code",
   "execution_count": 3,
   "metadata": {},
   "outputs": [
    {
     "data": {
      "text/plain": [
       "'/home/tang/wei_mutual_fund_project/output/restricted/john-hancock'"
      ]
     },
     "execution_count": 3,
     "metadata": {},
     "output_type": "execute_result"
    }
   ],
   "source": [
    "cur_wd = os.getcwd()\n",
    "# cur_wd\n",
    "mypath = os.path.join(cur_wd,'john-hancock')\n",
    "mypath"
   ]
  },
  {
   "cell_type": "code",
   "execution_count": 4,
   "metadata": {},
   "outputs": [
    {
     "name": "stdout",
     "output_type": "stream",
     "text": [
      "john_hancock_panel1_restricted_chunk_56.csv\n",
      "john_hancock_panel1_restricted_chunk_14.csv\n",
      "john_hancock_panel1_restricted_chunk_55.csv\n",
      "john_hancock_panel1_restricted_chunk_43.csv\n",
      "john_hancock_panel1_restricted_chunk_66.csv\n",
      "john_hancock_panel1_restricted_chunk_38.csv\n",
      "john_hancock_panel1_restricted_chunk_51.csv\n",
      "john_hancock_panel1_restricted_chunk_80.csv\n",
      "john_hancock_panel1_restricted_chunk_30.csv\n",
      "john_hancock_panel1_restricted_chunk_45.csv\n",
      "john_hancock_panel1_restricted_chunk_25.csv\n",
      "john_hancock_panel1_restricted_chunk_5.csv\n",
      "john_hancock_panel1_restricted_chunk_46.csv\n",
      "john_hancock_panel1_restricted_chunk_62.csv\n",
      "john_hancock_panel1_restricted_chunk_54.csv\n",
      "john_hancock_panel1_restricted_chunk_78.csv\n",
      "john_hancock_panel1_restricted_chunk_35.csv\n",
      "john_hancock_panel1_restricted_chunk_64.csv\n",
      "john_hancock_panel1_restricted_chunk_72.csv\n",
      "john_hancock_panel1_restricted_chunk_24.csv\n",
      "john_hancock_panel1_restricted_chunk_13.csv\n",
      "john_hancock_panel1_restricted_chunk_39.csv\n",
      "john_hancock_panel1_restricted_chunk_9.csv\n",
      "john_hancock_panel1_restricted_chunk_27.csv\n",
      "john_hancock_panel1_restricted_chunk_29.csv\n",
      "john_hancock_panel1_restricted_chunk_8.csv\n",
      "john_hancock_panel1_restricted_chunk_36.csv\n",
      "john_hancock_panel1_restricted_chunk_16.csv\n",
      "john_hancock_panel1_restricted_chunk_71.csv\n",
      "john_hancock_panel1_restricted_chunk_73.csv\n",
      "john_hancock_panel1_restricted_chunk_34.csv\n",
      "john_hancock_panel1_restricted_chunk_42.csv\n",
      "john_hancock_panel1_restricted_chunk_17.csv\n",
      "john_hancock_panel1_restricted_chunk_0.csv\n",
      "john_hancock_panel1_restricted_chunk_49.csv\n",
      "john_hancock_panel1_restricted_chunk_12.csv\n",
      "john_hancock_panel1_restricted_chunk_79.csv\n",
      "john_hancock_panel1_restricted_chunk_32.csv\n",
      "john_hancock_panel1_restricted_chunk_37.csv\n",
      "john_hancock_panel1_restricted_chunk_67.csv\n",
      "john_hancock_panel1_restricted_chunk_33.csv\n",
      "john_hancock_panel1_restricted_chunk_50.csv\n",
      "john_hancock_panel1_restricted_chunk_76.csv\n",
      "john_hancock_panel1_restricted_chunk_4.csv\n",
      "john_hancock_panel1_restricted_chunk_11.csv\n",
      "john_hancock_panel1_restricted_chunk_28.csv\n",
      "john_hancock_panel1_restricted_chunk_61.csv\n",
      "john_hancock_panel1_restricted_chunk_60.csv\n",
      "john_hancock_panel1_restricted_chunk_19.csv\n",
      "john_hancock_panel1_restricted_chunk_2.csv\n",
      "john_hancock_panel1_restricted_chunk_26.csv\n",
      "john_hancock_panel1_restricted_chunk_3.csv\n",
      "john_hancock_panel1_restricted_chunk_31.csv\n",
      "john_hancock_panel1_restricted_chunk_59.csv\n",
      "john_hancock_panel1_restricted_chunk_65.csv\n",
      "john_hancock_panel1_restricted_chunk_48.csv\n",
      "john_hancock_panel1_restricted_chunk_75.csv\n",
      "john_hancock_panel1_restricted_chunk_18.csv\n",
      "john_hancock_panel1_restricted_chunk_15.csv\n",
      "john_hancock_panel1_restricted_chunk_57.csv\n",
      "john_hancock_panel1_restricted_chunk_74.csv\n",
      "john_hancock_panel1_restricted_chunk_63.csv\n",
      "john_hancock_panel1_restricted_chunk_41.csv\n",
      "john_hancock_panel1_restricted_chunk_70.csv\n",
      "john_hancock_panel1_restricted_chunk_10.csv\n",
      "john_hancock_panel1_restricted_chunk_58.csv\n",
      "john_hancock_panel1_restricted_chunk_21.csv\n",
      "john_hancock_panel1_restricted_chunk_52.csv\n",
      "john_hancock_panel1_restricted_chunk_6.csv\n",
      "john_hancock_panel1_restricted_chunk_47.csv\n",
      "john_hancock_panel1_restricted_chunk_20.csv\n",
      "john_hancock_panel1_restricted_chunk_40.csv\n",
      "john_hancock_panel1_restricted_chunk_68.csv\n",
      "john_hancock_panel1_restricted_chunk_53.csv\n",
      "john_hancock_panel1_restricted_chunk_1.csv\n",
      "john_hancock_panel1_restricted_chunk_23.csv\n",
      "john_hancock_panel1_restricted_chunk_44.csv\n",
      "john_hancock_panel1_restricted_chunk_22.csv\n",
      "john_hancock_panel1_restricted_chunk_77.csv\n",
      "john_hancock_panel1_restricted_chunk_69.csv\n",
      "john_hancock_panel1_restricted_chunk_7.csv\n"
     ]
    }
   ],
   "source": [
    "for f in listdir(mypath):\n",
    "    print(f)"
   ]
  },
  {
   "cell_type": "code",
   "execution_count": 69,
   "metadata": {},
   "outputs": [
    {
     "name": "stdout",
     "output_type": "stream",
     "text": [
      "/home/tang/wei_mutual_fund_project/output/restricted/john-hancock/john_hancock_panel1_restricted_chunk_0\n",
      "/home/tang/wei_mutual_fund_project/output/restricted/john-hancock/filter/john_hancock_panel1_restricted_chunk_0\n"
     ]
    }
   ],
   "source": [
    "# test on one file:\n",
    "file = \"john_hancock_panel1_restricted_chunk_0\"\n",
    "filename = mypath + \"/\" + file\n",
    "outputfile = mypath + \"/filter/\" + file\n",
    "print(filename)\n",
    "print(outputfile)"
   ]
  },
  {
   "cell_type": "code",
   "execution_count": 124,
   "metadata": {},
   "outputs": [],
   "source": [
    "def filter(filename,outputfile):\n",
    "    try:\n",
    "        table = pd.read_csv(filename + \".csv\", index_col=0)\n",
    "    except:\n",
    "        return\n",
    "    # filter nan value on \"holding name\" col:\n",
    "    filterF = table[\"holdings name\"].str.strip() == \"\"\n",
    "    table = table[~filterF]\n",
    "    # filter out rows with key words in filter list\n",
    "    filter2F = table[\"holdings name\"].str.contains('[a-zA-Z]',regex=True,na=False)\n",
    "    table = table[filter2F]\n",
    "    # filter our start words:\n",
    "    start_list = [\"Class\",\"Series\"]\n",
    "    for i in start_list:\n",
    "        filter3F = table['holdings name'].str.startswith(i, na=False)\n",
    "        table = table[~filter3F]\n",
    "    # filter out keywords\n",
    "    filter_list = [\"Vale SA\", \"UBS AG\",\"Option\"]\n",
    "    for i in filter_list:\n",
    "        filter4F = table['holdings name'].str.contains(i, na=False)\n",
    "        table = table[~filter4F]\n",
    "    \n",
    "    \n",
    "#     return table\n",
    "    table.to_csv(outputfile + \"_filter.csv\")\n",
    "    "
   ]
  },
  {
   "cell_type": "code",
   "execution_count": 125,
   "metadata": {},
   "outputs": [],
   "source": [
    "for f in listdir(mypath):\n",
    "    filename = mypath + \"/\" + f[:-4]\n",
    "    outputfile = mypath + \"/filter/\" + f[:-4]\n",
    "    filter(filename, outputfile)"
   ]
  },
  {
   "cell_type": "code",
   "execution_count": 73,
   "metadata": {},
   "outputs": [],
   "source": []
  }
 ],
 "metadata": {
  "kernelspec": {
   "display_name": "Python 3",
   "language": "python",
   "name": "python3"
  },
  "language_info": {
   "codemirror_mode": {
    "name": "ipython",
    "version": 3
   },
   "file_extension": ".py",
   "mimetype": "text/x-python",
   "name": "python",
   "nbconvert_exporter": "python",
   "pygments_lexer": "ipython3",
   "version": "3.7.3"
  }
 },
 "nbformat": 4,
 "nbformat_minor": 2
}
