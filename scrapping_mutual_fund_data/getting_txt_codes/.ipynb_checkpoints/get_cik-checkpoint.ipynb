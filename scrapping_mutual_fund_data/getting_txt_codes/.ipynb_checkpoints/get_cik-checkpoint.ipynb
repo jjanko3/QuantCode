{
 "cells": [
  {
   "cell_type": "code",
   "execution_count": 3,
   "metadata": {},
   "outputs": [],
   "source": [
    "import os\n",
    "import pandas as pd\n",
    "import re\n",
    "from os import listdir\n",
    "from os.path import isfile, join"
   ]
  },
  {
   "cell_type": "markdown",
   "metadata": {},
   "source": [
    "# Single Mode"
   ]
  },
  {
   "cell_type": "code",
   "execution_count": 7,
   "metadata": {},
   "outputs": [],
   "source": [
    "file = 'allianz.xlsx'\n",
    "\n",
    "\n",
    "CIK = []\n",
    "\n",
    "    \n",
    "try:\n",
    "    fidelity = pd.read_csv(os.path.join(mypath,file), header = None)\n",
    "except: \n",
    "    fidelity = pd.read_excel(os.path.join(mypath,file), header = None)\n",
    "\n",
    "\n",
    "for index, row in fidelity.iterrows():\n",
    "    mystr = str(row[0])\n",
    "    cik_add = re.findall(r'\\((.*?)\\)',mystr)\n",
    "    if len(cik_add) == 0:\n",
    "        print(row[0])\n",
    "    for i in cik_add:\n",
    "        if 'CIK ' in i:\n",
    "            if int(float(i.replace('CIK ', \"\"))) not in CIK:\n",
    "                CIK.append(str(int(float(i.replace('CIK ', \"\")))))"
   ]
  },
  {
   "cell_type": "code",
   "execution_count": 8,
   "metadata": {},
   "outputs": [
    {
     "name": "stdout",
     "output_type": "stream",
     "text": [
      "['867297', '1091439', '1301708', '1423227', '1098605', '1378240']\n"
     ]
    }
   ],
   "source": [
    "print(CIK)"
   ]
  },
  {
   "cell_type": "markdown",
   "metadata": {},
   "source": [
    "# Directory Mode"
   ]
  },
  {
   "cell_type": "code",
   "execution_count": 2,
   "metadata": {},
   "outputs": [
    {
     "name": "stdout",
     "output_type": "stream",
     "text": [
      "['867297', '1091439', '1301708', '1423227', '1098605', '1378240', '726735', '844779', '1398078', '774013', '1062806', '1026144', '1062805', '276463', '1097077', '1137391', '1160864', '1181249', '1159038', '353281', '834237', '97098', '216557', '765199', '814507', '790525', '110055', '1159040', '1137393', '1176194', '877151', '1169029', '1167467', '319108', '1051003', '1137440', '1167470', '35315', '722574', '225322', '795422', '35315', '803013', '729218', '205323', '1303459', '751199', '81205', '320351', '354046', '1401097', '35341', '754510', '35348', '275309', '819118', '880195', '1364924', '1061130', '744822', '278001', '719451', '225323', '880709', '708191', '917286', '61397', '356476', '43498', '1331971', '1329954', '1176199', '743861', '1189740', '1260041', '1215913', '22370', '1396502', '315554', '45291', '26262', '759866', '791271', '759828', '855886', '756913', '856671', '857769', '45288', '792858', '315554', '45288', '792858', '1496749', '22370', '925683', '45291', '759866', '791271', '741375', '1227155', '315812', '356409', '832705', '1161973', '836487', '730044', '716716', '860720', '93284', '806564', '916618', '93285', '924394', '1388141', '878929', '1368493', '904112', '859037', '919808', '876162', '1072552', '1132218', '1002427', '882381', '314366', '882381', '1074111', '889128', '100786', '881466', '316411', '817841', '750679', '726291', '750756', '1031594', '709146', '100802', '14358', '752372', '100852', '1238182', '813240', '793701', '857694', '1332239', '1109076', '1092633', '1142702', '862813', '1142702', '1086890', '1392577', '1238182', '1092633', '1086890', '1471420', '858744', '892538', '799084', '795307', '724129', '1059040', '1020861', '1274768', '1020861', '1327129', '1338170', '313212', '852254', '902259', '1177017', '1034386', '918294', '920467', '754915', '1120925', '1533490', '923084', '202927', '853437', '927845', '871839', '931151', '949820', '894024', '1019286', '1002624', '858581', '1181628', '1169187', '918292', '887147', '80248', '80249', '731890', '75170', '834798', '106444', '36405', '752177', '225997', '734383', '932471', '794105', '826473', '1273878', '857489', '1004655', '836906', '857490', '821404', '788599', '862341', '788606', '891190', '791107', '34066', '1070414', '105544', '105563', '68138', '52848', '799127', '736054', '106830', '313850', '107606', '806633', '806633']\n"
     ]
    }
   ],
   "source": [
    "cur_wd = os.getcwd()\n",
    "\n",
    "mypath = os.path.join(cur_wd,'cik')\n",
    "\n",
    "cik_list = [f for f in listdir(mypath) if isfile(join(mypath, f))]\n",
    "CIK = []\n",
    "\n",
    "for i in cik_list:\n",
    "    \n",
    "    try:\n",
    "        fidelity = pd.read_csv(os.path.join(mypath,i), header = None)\n",
    "    except: \n",
    "        fidelity = pd.read_excel(os.path.join(mypath,i), header = None)\n",
    "\n",
    "\n",
    "    for index, row in fidelity.iterrows():\n",
    "        mystr = str(row[0])\n",
    "        cik_add = re.findall(r'\\((.*?)\\)',mystr)\n",
    "        if len(cik_add) == 0:\n",
    "            print(row[0])\n",
    "        for i in cik_add:\n",
    "            if 'CIK ' in i:\n",
    "                if int(float(i.replace('CIK ', \"\"))) not in CIK:\n",
    "                    CIK.append(str(int(float(i.replace('CIK ', \"\")))))\n",
    "            \n",
    "print(CIK)"
   ]
  },
  {
   "cell_type": "code",
   "execution_count": null,
   "metadata": {},
   "outputs": [],
   "source": []
  }
 ],
 "metadata": {
  "kernelspec": {
   "display_name": "Python 3",
   "language": "python",
   "name": "python3"
  },
  "language_info": {
   "codemirror_mode": {
    "name": "ipython",
    "version": 3
   },
   "file_extension": ".py",
   "mimetype": "text/x-python",
   "name": "python",
   "nbconvert_exporter": "python",
   "pygments_lexer": "ipython3",
   "version": "3.7.3"
  }
 },
 "nbformat": 4,
 "nbformat_minor": 4
}
