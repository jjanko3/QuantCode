{
 "cells": [
  {
   "cell_type": "code",
   "execution_count": 4,
   "metadata": {},
   "outputs": [],
   "source": [
    "import os\n",
    "import pandas as pd\n",
    "from lxml import html\n",
    "import requests\n",
    "import re\n",
    "import sys\n",
    "from datetime import datetime\n",
    "\n",
    "from bs4 import BeautifulSoup\n",
    "from urllib.request import Request, urlopen\n",
    "import time"
   ]
  },
  {
   "cell_type": "code",
   "execution_count": 5,
   "metadata": {},
   "outputs": [
    {
     "name": "stdout",
     "output_type": "stream",
     "text": [
      "C:\\Users\\jjanko\\Desktop\\wei_mutual_fund_project\\data\n"
     ]
    }
   ],
   "source": [
    "cur_wd = str(os.getcwd())\n",
    "cur_wd = os.path.join(\"\\\\\".join(cur_wd.split('\\\\')[0:-1]),'data')\n",
    "print(cur_wd)                                 "
   ]
  },
  {
   "cell_type": "code",
   "execution_count": 6,
   "metadata": {},
   "outputs": [],
   "source": [
    "def find(s, ch):\n",
    "    return [i for i, ltr in enumerate(s) if ltr == ch]\n"
   ]
  },
  {
   "cell_type": "code",
   "execution_count": 7,
   "metadata": {},
   "outputs": [
    {
     "data": {
      "text/plain": [
       "'C:\\\\Users\\\\jjanko\\\\Desktop\\\\wei_mutual_fund_project/getting_txt_codes/N-30D'"
      ]
     },
     "execution_count": 7,
     "metadata": {},
     "output_type": "execute_result"
    }
   ],
   "source": [
    "# cur_wd\n",
    "parent_path = os.path.dirname(os.getcwd())\n",
    "mypath = os.path.join((parent_path)+\"/\"+ \"getting_txt_codes\"+\"/\"+\"N-30D\")\n",
    "mypath"
   ]
  },
  {
   "cell_type": "markdown",
   "metadata": {},
   "source": [
    "Find all ciks in the directory"
   ]
  },
  {
   "cell_type": "code",
   "execution_count": 8,
   "metadata": {},
   "outputs": [
    {
     "name": "stdout",
     "output_type": "stream",
     "text": [
      "['5007', '1029446', '726352', '1220781', '797461', '795422', '729218', '754510', '859766', '719451', '722574', '35341', '35315', '311884', '718891', '878662', '819118', '24238', '744822', '35373', '28540', '320351', '35330', '1061130', '880195', '315700', '823535', '275309', '354046', '23355', '740858', '355316', '929964', '763859', '43498', '1003457', '932683', '856671', '45291', '26262', '759866', '22370', '791271', '759828', '888154', '868549', '863328', '792858', '811921', '857769', '785303', '743861', '925683', '315554', '750741', '899581', '855886', '357238', '45288', '807639', '314721', '852954', '1176199', '1189740', '894088', '894089', '1016937', '912035', '916118', '814078', '1122692', '1023771', '916687', '919808', '918686', '904112', '878929', '921187', '912734', '916618', '741375', '809584', '1072377', '837529', '314367', '1116473', '1081658', '1096006', '1048710', '1125801', '314366', '932843', '932842', '745992', '752372', '1031594', '1109076', '726291', '817841', '100786', '100802', '14358', '709146', '750679', '316411', '750756', '813240', '1086890', '793701', '862813', '857694', '1092633', '881466', '100852', '1142702', '1134073', '858744', '313212', '795384', '918294', '858581', '923084', '1038490', '775688', '920467', '902259', '1012968', '758003', '887147', '819930', '706211', '75170', '834798', '927845', '894024', '779785', '754915', '1012678', '80249', '808303', '315748', '202927', '871839', '798086', '793347', '931151', '949820', '862084', '736054', '888451', '1021882', '857490', '101868', '799127', '52848', '891190', '891190', '791107', '1070414', '106830', '106830', '68138', '788599', '862341', '788606', '105563', '752177', '836906', '889519', '889519', '794105', '794105', '783401', '783401', '791107', '826473', '826473']\n"
     ]
    }
   ],
   "source": [
    "from os.path import isfile, join\n",
    "from os import listdir\n",
    "cik_list = [f for f in listdir(mypath) if isfile(join(mypath, f))]\n",
    "cik_list\n",
    "CIK = []\n",
    "\n",
    "for i in cik_list:\n",
    "    \n",
    "    try:\n",
    "        files = pd.read_excel(os.path.join(mypath,i), header = None)\n",
    "    except: \n",
    "        continue\n",
    "\n",
    "\n",
    "    for index, row in files.iterrows():\n",
    "        mystr = str(row[0])\n",
    "        cik_add = re.findall(r'\\((.*?)\\)',mystr)\n",
    "        if len(cik_add) == 0:\n",
    "            print(row[0])\n",
    "        for i in cik_add:\n",
    "            if 'CIK ' in i:\n",
    "                if int(float(i.replace('CIK ', \"\"))) not in CIK:\n",
    "                    CIK.append(str(int(float(i.replace('CIK ', \"\")))))\n",
    "            \n",
    "print(CIK)"
   ]
  },
  {
   "cell_type": "code",
   "execution_count": null,
   "metadata": {},
   "outputs": [],
   "source": []
  },
  {
   "cell_type": "code",
   "execution_count": 9,
   "metadata": {
    "scrolled": true
   },
   "outputs": [],
   "source": [
    "weblink = {}\n",
    "\n",
    "# Comment cout CIK_LIST when in production\n",
    "\n",
    "CIK_LIST = CIK\n",
    "\n",
    "error = []\n",
    "txts = []\n",
    "for CIK in CIK_LIST:\n",
    "    weblink[CIK] = []\n",
    "    direc = os.path.join(cur_wd, CIK, 'nd-30')\n",
    "    if not os.path.exists(direc):\n",
    "        os.makedirs(direc)\n",
    "        \n",
    "        req = Request(r\"https://www.sec.gov/Archives/edgar/data/\" + str(CIK))\n",
    "        html_page = urlopen(req, timeout=10)\n",
    "\n",
    "        soup = BeautifulSoup(html_page, \"lxml\")\n",
    "\n",
    "        for link in soup.findAll('a'):\n",
    "            archive = link.get('href')\n",
    "            if str('/Archives/edgar/data/') + CIK in archive:\n",
    "                try:\n",
    "                    req_archive = Request(r\"https://www.sec.gov\" + archive)\n",
    "\n",
    "                    html_page_archive = urlopen(req_archive, timeout=10)\n",
    "                    soup_archive = BeautifulSoup(html_page_archive, \"lxml\")\n",
    "\n",
    "                    for link_archive in soup_archive.findAll('a'):\n",
    "                        txt_name = link_archive.get('href')\n",
    "                        if \".txt\" in txt_name:\n",
    "                            ixs = find(txt_name, r'/')\n",
    "                            file_name = txt_name[ixs[-1]+1:]\n",
    "                            non_dig = re.findall(r'\\D+', file_name)\n",
    "                            if len(non_dig) == 3:\n",
    "                                print(r\"https://www.sec.gov\" + txt_name)\n",
    "                                try: \n",
    "                                    r = Request(r\"https://www.sec.gov\" + txt_name)\n",
    "                                    read = urlopen(r, timeout=10)\n",
    "                                    r = read.readlines()\n",
    "                                    found = False\n",
    "                                    #check to see if n-q file\n",
    "                                    for i in r:\n",
    "                                        string_row = i.decode('utf-8').lower()\n",
    "                                        if 'type' in string_row and 'n-30d'in string_row:\n",
    "                                            found = True\n",
    "                                except IncompleteRead:\n",
    "                                    found = False\n",
    "\n",
    "                                if found:\n",
    "                                    print(r\"https://www.sec.gov\" + txt_name)\n",
    "                                    weblink[CIK].append(r\"https://www.sec.gov\" + txt_name)\n",
    "                                    ixs = find(txt_name, r'/')\n",
    "                                    file_name = txt_name[ixs[-1]+1:]\n",
    "                                    f = open(os.path.join(direc, file_name), mode = 'w')\n",
    "                                    for row in r:\n",
    "                                        clean_row = row.decode('utf-8')\n",
    "                                        if clean_row != '':\n",
    "                                            f.write(clean_row)\n",
    "                                    f.close()\n",
    "                except:\n",
    "                    error.append(r\"https://www.sec.gov\" + archive)"
   ]
  },
  {
   "cell_type": "code",
   "execution_count": 11,
   "metadata": {},
   "outputs": [
    {
     "data": {
      "text/plain": [
       "[]"
      ]
     },
     "execution_count": 11,
     "metadata": {},
     "output_type": "execute_result"
    }
   ],
   "source": [
    "error"
   ]
  },
  {
   "cell_type": "code",
   "execution_count": null,
   "metadata": {},
   "outputs": [],
   "source": []
  }
 ],
 "metadata": {
  "kernelspec": {
   "display_name": "Python 3",
   "language": "python",
   "name": "python3"
  },
  "language_info": {
   "codemirror_mode": {
    "name": "ipython",
    "version": 3
   },
   "file_extension": ".py",
   "mimetype": "text/x-python",
   "name": "python",
   "nbconvert_exporter": "python",
   "pygments_lexer": "ipython3",
   "version": "3.7.3"
  }
 },
 "nbformat": 4,
 "nbformat_minor": 4
}
