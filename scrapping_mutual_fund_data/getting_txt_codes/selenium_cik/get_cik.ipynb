{
 "cells": [
  {
   "cell_type": "code",
   "execution_count": 1,
   "metadata": {},
   "outputs": [],
   "source": [
    "from selenium import webdriver\n",
    "from selenium.webdriver.chrome.options import Options\n",
    "from selenium.webdriver.common.by import By\n",
    "from selenium.webdriver.common.keys import Keys\n",
    "from selenium.webdriver.support.ui import WebDriverWait\n",
    "from selenium.webdriver.support.expected_conditions import presence_of_element_located\n",
    "\n",
    "import os\n",
    "from bs4 import BeautifulSoup\n",
    "import time\n",
    "import pandas as pd"
   ]
  },
  {
   "cell_type": "code",
   "execution_count": 5,
   "metadata": {},
   "outputs": [],
   "source": [
    "def get_info(fund_name):\n",
    "    path = os.getcwd()\n",
    "    browser = webdriver.Chrome(executable_path = path+\"/chromedriver\")\n",
    "    browser.get(\"https://www.sec.gov/edgar/search/?r=el#/dateRange=all&startdt=2000-01-01&enddt=2020-10-07&category=all&locationType=located&locationCode=all&entityName=\" + fund_name+\"&filter_forms=N-Q\")\n",
    "    time.sleep(1)\n",
    "    end = False\n",
    "    fund_list = []\n",
    "    filed_list= []\n",
    "    enddate_list = []\n",
    "    entity_list = []\n",
    "    cik_list = []\n",
    "    while(end != True):\n",
    "        cik_checkbox = browser.find_element_by_id(\"col-cik\")\n",
    "        cik_checkbox.click()\n",
    "        nextPage = browser.find_element_by_css_selector(\"a[data-value='nextPage']\")\n",
    "        fundname = browser.find_elements_by_class_name('preview-file')\n",
    "        filed = browser.find_elements_by_class_name('filed')\n",
    "        enddate = browser.find_elements_by_class_name('enddate')\n",
    "        entity = browser.find_elements_by_class_name('entity-name')\n",
    "        cik = browser.find_elements_by_class_name('cik')\n",
    "        for i in fundname:\n",
    "            fund_list.append(i.text)\n",
    "        for i in filed:\n",
    "            filed_list.append(i.text)\n",
    "        for i in enddate:\n",
    "            enddate_list.append(i.text)\n",
    "        for i in entity:\n",
    "            entity_list.append(i.text)\n",
    "        for i in cik:\n",
    "            cik_list.append(i.text[4:])\n",
    "        try:\n",
    "            nextPage.click()\n",
    "            time.sleep(0.5)\n",
    "        except:\n",
    "            end = True\n",
    "    browser.close() \n",
    "    return fund_list,filed_list,enddate_list,entity_list, cik_list"
   ]
  },
  {
   "cell_type": "code",
   "execution_count": 6,
   "metadata": {},
   "outputs": [],
   "source": [
    "def write_to_csv(fund_name):\n",
    "    fund_list,filed_list,enddate_list,entity_list,cik_list = get_info(fund_name)\n",
    "    uniqueCIK = set(cik_list)\n",
    "    data_dict = {}\n",
    "    data_dict[\"endDate\"] = enddate_list[1:]\n",
    "    data_dict[\"filedDate\"] = filed_list[1:]\n",
    "    data_dict[\"entity\"] = entity_list[1:]\n",
    "    data_dict[\"cik\"] = cik_list[1:]\n",
    "    df = pd.DataFrame(data_dict)\n",
    "    df.to_csv(\"data/\" + fund_name + \".csv\")\n",
    "    \n",
    "    cik_dic = {}\n",
    "    cik_unique_list = list(uniqueCIK)\n",
    "    cik_dic['CIK'] = cik_unique_list[1:]\n",
    "    df_cik = pd.DataFrame(cik_dic)\n",
    "    df_cik.to_csv(\"CIK/\" + fund_name + \"_CIK.csv\")"
   ]
  },
  {
   "cell_type": "markdown",
   "metadata": {},
   "source": [
    "Either input the fundname one by one:"
   ]
  },
  {
   "cell_type": "code",
   "execution_count": null,
   "metadata": {},
   "outputs": [],
   "source": [
    "fundname = 'wasatch'\n",
    "write_to_csv(fundname)"
   ]
  },
  {
   "cell_type": "markdown",
   "metadata": {},
   "source": [
    "Or put them in a list:"
   ]
  },
  {
   "cell_type": "code",
   "execution_count": 16,
   "metadata": {},
   "outputs": [],
   "source": [
    "fundlist = [\"t rowe price\",\"vanguard\",\"wasatch\"]\n",
    "for fund in fundlist:\n",
    "    write_to_csv(fund)"
   ]
  },
  {
   "cell_type": "code",
   "execution_count": null,
   "metadata": {},
   "outputs": [],
   "source": []
  },
  {
   "cell_type": "code",
   "execution_count": null,
   "metadata": {},
   "outputs": [],
   "source": []
  },
  {
   "cell_type": "code",
   "execution_count": null,
   "metadata": {},
   "outputs": [],
   "source": []
  },
  {
   "cell_type": "code",
   "execution_count": null,
   "metadata": {},
   "outputs": [],
   "source": []
  },
  {
   "cell_type": "code",
   "execution_count": null,
   "metadata": {},
   "outputs": [],
   "source": []
  },
  {
   "cell_type": "code",
   "execution_count": null,
   "metadata": {},
   "outputs": [],
   "source": []
  },
  {
   "cell_type": "code",
   "execution_count": 53,
   "metadata": {},
   "outputs": [],
   "source": []
  },
  {
   "cell_type": "code",
   "execution_count": null,
   "metadata": {},
   "outputs": [],
   "source": []
  },
  {
   "cell_type": "code",
   "execution_count": null,
   "metadata": {},
   "outputs": [],
   "source": []
  }
 ],
 "metadata": {
  "kernelspec": {
   "display_name": "Python 3",
   "language": "python",
   "name": "python3"
  },
  "language_info": {
   "codemirror_mode": {
    "name": "ipython",
    "version": 3
   },
   "file_extension": ".py",
   "mimetype": "text/x-python",
   "name": "python",
   "nbconvert_exporter": "python",
   "pygments_lexer": "ipython3",
   "version": "3.7.3"
  }
 },
 "nbformat": 4,
 "nbformat_minor": 2
}
