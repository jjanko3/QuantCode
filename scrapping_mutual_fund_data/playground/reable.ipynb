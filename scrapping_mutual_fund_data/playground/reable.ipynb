{
 "cells": [
  {
   "cell_type": "code",
   "execution_count": 20,
   "metadata": {},
   "outputs": [],
   "source": [
    "import os\n",
    "import pandas as pd\n",
    "from lxml import html\n",
    "import requests\n",
    "import re\n",
    "import sys\n",
    "from datetime import datetime\n",
    "\n",
    "from bs4 import BeautifulSoup\n",
    "from urllib.request import Request, urlopen\n",
    "import time\n",
    "\n",
    "import string"
   ]
  },
  {
   "cell_type": "code",
   "execution_count": 80,
   "metadata": {},
   "outputs": [],
   "source": [
    "def get_cik_path():\n",
    "    cur_wd = os.getcwd()\n",
    "    parent_path = os.path.dirname(cur_wd)\n",
    "    mypath = os.path.join((parent_path)+\"/\"+ \"getting_txt_codes\"+\"/\"+\"cik\")\n",
    "    return mypath"
   ]
  },
  {
   "cell_type": "code",
   "execution_count": 84,
   "metadata": {},
   "outputs": [],
   "source": [
    "from os import listdir\n",
    "def get_fmaily_list():\n",
    "    cur_wd = os.getcwd()\n",
    "    parent_path = os.path.dirname(cur_wd)\n",
    "    mypath = os.path.join((parent_path)+\"/\"+ \"getting_txt_codes\"+\"/\"+\"cik\")\n",
    "    onlyfiles = [f for f in listdir(mypath) if isfile(join(mypath, f))]\n",
    "    return onlyfiles"
   ]
  },
  {
   "cell_type": "code",
   "execution_count": 91,
   "metadata": {},
   "outputs": [],
   "source": [
    "family_name_list = get_fmaily_list()"
   ]
  },
  {
   "cell_type": "code",
   "execution_count": 102,
   "metadata": {},
   "outputs": [],
   "source": [
    "family_dict = {}\n",
    "for file in family_name_list:\n",
    "    name = file.split('.')[0]\n",
    "    CIK_list = get_ciks(file);\n",
    "    family_dict[name] = CIK_list"
   ]
  },
  {
   "cell_type": "code",
   "execution_count": 131,
   "metadata": {},
   "outputs": [
    {
     "data": {
      "text/plain": [
       "{'great-west': [356476, 43498],\n",
       " 'smallcap-world': [858744],\n",
       " 'anchor': [726735],\n",
       " 'blackrock': [844779,\n",
       "  1398078,\n",
       "  774013,\n",
       "  1062806,\n",
       "  1026144,\n",
       "  1062805,\n",
       "  276463,\n",
       "  1097077,\n",
       "  1137391,\n",
       "  1160864,\n",
       "  1181249,\n",
       "  1159038,\n",
       "  353281,\n",
       "  834237,\n",
       "  97098,\n",
       "  216557,\n",
       "  765199,\n",
       "  814507,\n",
       "  790525,\n",
       "  110055,\n",
       "  1159040,\n",
       "  1137393,\n",
       "  1176194,\n",
       "  877151,\n",
       "  1169029,\n",
       "  1167467,\n",
       "  319108,\n",
       "  1051003,\n",
       "  1137440,\n",
       "  1167470],\n",
       " 't-rowe-price': [313212,\n",
       "  852254,\n",
       "  902259,\n",
       "  1177017,\n",
       "  1034386,\n",
       "  918294,\n",
       "  920467,\n",
       "  754915,\n",
       "  1120925,\n",
       "  1533490,\n",
       "  923084,\n",
       "  202927,\n",
       "  853437,\n",
       "  927845,\n",
       "  871839,\n",
       "  931151,\n",
       "  949820,\n",
       "  894024,\n",
       "  1019286,\n",
       "  1002624,\n",
       "  858581,\n",
       "  1181628,\n",
       "  1169187,\n",
       "  918292,\n",
       "  887147,\n",
       "  80248,\n",
       "  80249,\n",
       "  731890,\n",
       "  75170,\n",
       "  834798],\n",
       " 'vanguard': [106444,\n",
       "  36405,\n",
       "  752177,\n",
       "  225997,\n",
       "  734383,\n",
       "  932471,\n",
       "  794105,\n",
       "  826473,\n",
       "  1273878,\n",
       "  857489,\n",
       "  1004655,\n",
       "  836906,\n",
       "  857490,\n",
       "  821404,\n",
       "  788599,\n",
       "  862341,\n",
       "  788606,\n",
       "  891190,\n",
       "  791107,\n",
       "  34066,\n",
       "  1070414,\n",
       "  105544,\n",
       "  105563,\n",
       "  68138,\n",
       "  52848,\n",
       "  799127,\n",
       "  736054,\n",
       "  106830,\n",
       "  313850,\n",
       "  107606],\n",
       " 'seligman': [100786,\n",
       "  881466,\n",
       "  316411,\n",
       "  817841,\n",
       "  750679,\n",
       "  726291,\n",
       "  750756,\n",
       "  1031594,\n",
       "  709146,\n",
       "  100802,\n",
       "  14358,\n",
       "  752372,\n",
       "  100852,\n",
       "  1238182,\n",
       "  813240,\n",
       "  793701,\n",
       "  857694,\n",
       "  1332239,\n",
       "  1109076,\n",
       "  1092633,\n",
       "  1142702,\n",
       "  862813,\n",
       "  1086890,\n",
       "  1392577,\n",
       "  1471420],\n",
       " 'wasatch': [806633],\n",
       " 'morgan-stanley': [741375,\n",
       "  1227155,\n",
       "  315812,\n",
       "  356409,\n",
       "  832705,\n",
       "  1161973,\n",
       "  836487,\n",
       "  730044,\n",
       "  716716,\n",
       "  860720,\n",
       "  93284,\n",
       "  806564,\n",
       "  916618,\n",
       "  93285,\n",
       "  924394,\n",
       "  1388141,\n",
       "  878929,\n",
       "  1368493,\n",
       "  904112,\n",
       "  859037,\n",
       "  919808,\n",
       "  876162,\n",
       "  1072552,\n",
       "  1132218,\n",
       "  1002427,\n",
       "  882381,\n",
       "  314366,\n",
       "  1074111,\n",
       "  889128],\n",
       " 'allianz': [867297, 1091439, 1301708, 1423227, 1098605, 1378240],\n",
       " 'john-hancock': [1331971,\n",
       "  1329954,\n",
       "  1176199,\n",
       "  743861,\n",
       "  1189740,\n",
       "  1260041,\n",
       "  1215913,\n",
       "  22370,\n",
       "  1396502,\n",
       "  315554,\n",
       "  45291,\n",
       "  26262,\n",
       "  759866,\n",
       "  791271,\n",
       "  759828,\n",
       "  855886,\n",
       "  756913,\n",
       "  856671,\n",
       "  857769,\n",
       "  45288,\n",
       "  792858,\n",
       "  1496749,\n",
       "  925683],\n",
       " 'sun-america-asset-management': [892538,\n",
       "  799084,\n",
       "  795307,\n",
       "  724129,\n",
       "  1059040,\n",
       "  1020861,\n",
       "  1274768,\n",
       "  1327129,\n",
       "  1338170],\n",
       " 'fidelity': [35315,\n",
       "  722574,\n",
       "  225322,\n",
       "  795422,\n",
       "  803013,\n",
       "  729218,\n",
       "  205323,\n",
       "  1303459,\n",
       "  751199,\n",
       "  81205,\n",
       "  320351,\n",
       "  354046,\n",
       "  1401097,\n",
       "  35341,\n",
       "  754510,\n",
       "  35348,\n",
       "  275309,\n",
       "  819118,\n",
       "  880195,\n",
       "  1364924,\n",
       "  1061130,\n",
       "  744822,\n",
       "  278001,\n",
       "  719451,\n",
       "  225323,\n",
       "  880709,\n",
       "  708191,\n",
       "  917286,\n",
       "  61397]}"
      ]
     },
     "execution_count": 131,
     "metadata": {},
     "output_type": "execute_result"
    }
   ],
   "source": [
    "family_dict"
   ]
  },
  {
   "cell_type": "code",
   "execution_count": 99,
   "metadata": {},
   "outputs": [],
   "source": [
    "# from os.path import isfile, join\n",
    "# from os import listdir\n",
    "# onlyfiles = [f for f in listdir(mypath) if isfile(join(mypath, f))]"
   ]
  },
  {
   "cell_type": "code",
   "execution_count": 100,
   "metadata": {},
   "outputs": [],
   "source": [
    "# onlyfiles"
   ]
  },
  {
   "cell_type": "code",
   "execution_count": 101,
   "metadata": {},
   "outputs": [],
   "source": [
    "# CIK_LIST = ['806633']"
   ]
  },
  {
   "cell_type": "code",
   "execution_count": 77,
   "metadata": {},
   "outputs": [],
   "source": [
    "# str1 = \"home/tang/wei_mutual_fund_project/getting_txt_codes/cik/anchor.xlsx\"\n",
    "\n",
    "# pd.read_csv(str1,header = None)"
   ]
  },
  {
   "cell_type": "code",
   "execution_count": 98,
   "metadata": {},
   "outputs": [],
   "source": [
    "def get_ciks(file):\n",
    "    CIK = []\n",
    "\n",
    "    try:\n",
    "        info = pd.read_csv(join(mypath, file), header = None)\n",
    "    except: \n",
    "        info = pd.read_excel(join(mypath, file), header = None)\n",
    "    info\n",
    "\n",
    "    for index, row in info.iterrows():\n",
    "        mystr = row[0]\n",
    "        cik_add = re.findall(r'\\((.*?)\\)',mystr)\n",
    "        if len(cik_add) == 0:\n",
    "            print(row[0])\n",
    "        for i in cik_add:\n",
    "            if 'CIK ' in i:\n",
    "                if int(float(i.replace('CIK ', \"\"))) not in CIK:\n",
    "                    CIK.append(int(float(i.replace('CIK ', \"\"))))\n",
    "    return CIK\n",
    "    "
   ]
  },
  {
   "cell_type": "code",
   "execution_count": null,
   "metadata": {},
   "outputs": [],
   "source": []
  },
  {
   "cell_type": "code",
   "execution_count": null,
   "metadata": {},
   "outputs": [],
   "source": []
  },
  {
   "cell_type": "code",
   "execution_count": 106,
   "metadata": {},
   "outputs": [
    {
     "name": "stdout",
     "output_type": "stream",
     "text": [
      "data\n"
     ]
    }
   ],
   "source": [
    "\n",
    "if 'trunk' in cur_wd:\n",
    "    output_directory = os.path.join(\"\\\\\".join(cur_wd.split('\\\\')[0:-1]),'output')\n",
    "else:\n",
    "    output_directory = os.path.join(\"\\\\\".join(cur_wd.split('\\\\')[0:-1]),'output','working')\n",
    "    \n",
    "cur_wd = os.path.join(\"\\\\\".join(cur_wd.split('\\\\')[0:-1]),'data')\n",
    "print(cur_wd)\n",
    "# print('data directory')\n",
    "# print(cur_wd)\n",
    "# print('output directory')\n",
    "# print(output_directory)"
   ]
  },
  {
   "cell_type": "code",
   "execution_count": 176,
   "metadata": {},
   "outputs": [],
   "source": [
    "def get_error(CIK_LIST):\n",
    "    total = 0\n",
    "    error = 0\n",
    "    weblink = {}\n",
    "    image = []\n",
    "    for CIK in CIK_LIST:\n",
    "        weblink[CIK]  = []\n",
    "        txt_files = os.listdir(os.path.join(cur_wd, CIK, 'n-q'))\n",
    "        for i in txt_files:\n",
    "            url = r\"https://www.sec.gov/Archives/edgar/data/\" + (CIK)+r\"/\"  + i\n",
    "            html_table = urlopen(url).read()\n",
    "            soup = BeautifulSoup(html_table, \"html.parser\")\n",
    "            tags = soup.find_all(['table'])\n",
    "            if len(tags) > 0:\n",
    "                weblink[CIK].append(r\"https://www.sec.gov/Archives/edgar/data/\" + (CIK)+r\"/\"  + i)\n",
    "                print(url)\n",
    "            else:\n",
    "                image.append(i)\n",
    "                error = error + 1\n",
    "            total = total + 1\n",
    "        good_file_ratio = 1.0 - (error / total)\n",
    "    return good_file_ratio, total, image"
   ]
  },
  {
   "cell_type": "code",
   "execution_count": 178,
   "metadata": {},
   "outputs": [
    {
     "name": "stdout",
     "output_type": "stream",
     "text": [
      "https://www.sec.gov/Archives/edgar/data/806633/0001193125-07-044499.txt\n",
      "https://www.sec.gov/Archives/edgar/data/806633/0001193125-11-235104.txt\n",
      "https://www.sec.gov/Archives/edgar/data/806633/0001193125-08-187710.txt\n",
      "https://www.sec.gov/Archives/edgar/data/806633/0001193125-18-056095.txt\n",
      "https://www.sec.gov/Archives/edgar/data/806633/0001193125-19-059674.txt\n",
      "https://www.sec.gov/Archives/edgar/data/806633/0001193125-15-064845.txt\n",
      "https://www.sec.gov/Archives/edgar/data/806633/0001193125-06-181584.txt\n",
      "https://www.sec.gov/Archives/edgar/data/806633/0000950135-06-001280.txt\n",
      "https://www.sec.gov/Archives/edgar/data/806633/0001193125-14-062284.txt\n",
      "https://www.sec.gov/Archives/edgar/data/806633/0001193125-15-306430.txt\n",
      "https://www.sec.gov/Archives/edgar/data/806633/0001193125-16-693788.txt\n",
      "https://www.sec.gov/Archives/edgar/data/806633/0001193125-13-071184.txt\n",
      "https://www.sec.gov/Archives/edgar/data/806633/0001193125-10-194753.txt\n",
      "https://www.sec.gov/Archives/edgar/data/806633/0001193125-17-272028.txt\n",
      "https://www.sec.gov/Archives/edgar/data/806633/0001193125-08-043495.txt\n",
      "https://www.sec.gov/Archives/edgar/data/806633/0001193125-18-256911.txt\n",
      "https://www.sec.gov/Archives/edgar/data/806633/0001193125-12-067017.txt\n",
      "https://www.sec.gov/Archives/edgar/data/806633/0001193125-16-484933.txt\n",
      "https://www.sec.gov/Archives/edgar/data/806633/0001193125-11-046483.txt\n",
      "https://www.sec.gov/Archives/edgar/data/806633/0001193125-14-325106.txt\n",
      "https://www.sec.gov/Archives/edgar/data/806633/0001193125-07-191700.txt\n",
      "https://www.sec.gov/Archives/edgar/data/806633/0001193125-10-036503.txt\n",
      "https://www.sec.gov/Archives/edgar/data/806633/0001193125-13-348359.txt\n",
      "https://www.sec.gov/Archives/edgar/data/806633/0000950135-05-005056.txt\n",
      "https://www.sec.gov/Archives/edgar/data/806633/0001193125-17-064216.txt\n",
      "https://www.sec.gov/Archives/edgar/data/806633/0001193125-12-373447.txt\n",
      "https://www.sec.gov/Archives/edgar/data/806633/0001193125-09-042722.txt\n",
      "https://www.sec.gov/Archives/edgar/data/806633/0000950135-05-001123.txt\n",
      "https://www.sec.gov/Archives/edgar/data/806633/0001193125-09-184685.txt\n"
     ]
    }
   ],
   "source": [
    "ratio, total,image = get_error(['806633'])"
   ]
  },
  {
   "cell_type": "code",
   "execution_count": null,
   "metadata": {},
   "outputs": [],
   "source": []
  },
  {
   "cell_type": "code",
   "execution_count": null,
   "metadata": {},
   "outputs": [],
   "source": []
  },
  {
   "cell_type": "code",
   "execution_count": null,
   "metadata": {},
   "outputs": [],
   "source": []
  },
  {
   "cell_type": "markdown",
   "metadata": {},
   "source": [
    "# This is where we write info into a dictionary and pickle to cache dir"
   ]
  },
  {
   "cell_type": "code",
   "execution_count": 130,
   "metadata": {},
   "outputs": [],
   "source": [
    "dict_f = {}\n",
    "for key in family_dict:\n",
    "    ratio, total = get_error(family_dict[key])\n",
    "    dict_f[key] = [total, ratio]\n",
    "#     print(family_dict[key])"
   ]
  },
  {
   "cell_type": "code",
   "execution_count": null,
   "metadata": {},
   "outputs": [],
   "source": [
    "df = pd.DataFrame().from_dict(dict_f, orient='index',columns=['total_file', 'error_ratio'])"
   ]
  },
  {
   "cell_type": "markdown",
   "metadata": {},
   "source": [
    "Test on wasaba, DELETE THESE THREE ROWS IN PRODUCTION"
   ]
  },
  {
   "cell_type": "code",
   "execution_count": 181,
   "metadata": {},
   "outputs": [],
   "source": [
    "dict_f = {}\n",
    "dict_f[\"wasaba\"] = [total, ratio, image]"
   ]
  },
  {
   "cell_type": "code",
   "execution_count": 185,
   "metadata": {},
   "outputs": [],
   "source": [
    "# df = pd.DataFrame()\n",
    "df = pd.DataFrame().from_dict(dict_f, orient='index',columns=['total_file', 'good_ratio','table_error_files'])"
   ]
  },
  {
   "cell_type": "code",
   "execution_count": 186,
   "metadata": {},
   "outputs": [
    {
     "data": {
      "text/html": [
       "<div>\n",
       "<style scoped>\n",
       "    .dataframe tbody tr th:only-of-type {\n",
       "        vertical-align: middle;\n",
       "    }\n",
       "\n",
       "    .dataframe tbody tr th {\n",
       "        vertical-align: top;\n",
       "    }\n",
       "\n",
       "    .dataframe thead th {\n",
       "        text-align: right;\n",
       "    }\n",
       "</style>\n",
       "<table border=\"1\" class=\"dataframe\">\n",
       "  <thead>\n",
       "    <tr style=\"text-align: right;\">\n",
       "      <th></th>\n",
       "      <th>total_file</th>\n",
       "      <th>good_ratio</th>\n",
       "      <th>table_error_files</th>\n",
       "    </tr>\n",
       "  </thead>\n",
       "  <tbody>\n",
       "    <tr>\n",
       "      <th>wasaba</th>\n",
       "      <td>29</td>\n",
       "      <td>1.0</td>\n",
       "      <td>[]</td>\n",
       "    </tr>\n",
       "  </tbody>\n",
       "</table>\n",
       "</div>"
      ],
      "text/plain": [
       "        total_file  good_ratio table_error_files\n",
       "wasaba          29         1.0                []"
      ]
     },
     "execution_count": 186,
     "metadata": {},
     "output_type": "execute_result"
    }
   ],
   "source": [
    "df"
   ]
  },
  {
   "cell_type": "markdown",
   "metadata": {},
   "source": [
    "Pickle to cache"
   ]
  },
  {
   "cell_type": "code",
   "execution_count": 133,
   "metadata": {},
   "outputs": [
    {
     "data": {
      "text/plain": [
       "'/home/tang/wei_mutual_fund_project/cache'"
      ]
     },
     "execution_count": 133,
     "metadata": {},
     "output_type": "execute_result"
    }
   ],
   "source": [
    "cache_path = join(parent_path,\"cache\")\n",
    "cache_path"
   ]
  },
  {
   "cell_type": "code",
   "execution_count": null,
   "metadata": {},
   "outputs": [],
   "source": [
    "df.to_pickle(cache_path)"
   ]
  },
  {
   "cell_type": "code",
   "execution_count": null,
   "metadata": {},
   "outputs": [],
   "source": []
  },
  {
   "cell_type": "code",
   "execution_count": null,
   "metadata": {},
   "outputs": [],
   "source": []
  },
  {
   "cell_type": "code",
   "execution_count": null,
   "metadata": {},
   "outputs": [],
   "source": []
  },
  {
   "cell_type": "code",
   "execution_count": null,
   "metadata": {},
   "outputs": [],
   "source": []
  },
  {
   "cell_type": "code",
   "execution_count": null,
   "metadata": {},
   "outputs": [],
   "source": []
  }
 ],
 "metadata": {
  "kernelspec": {
   "display_name": "Python 3",
   "language": "python",
   "name": "python3"
  },
  "language_info": {
   "codemirror_mode": {
    "name": "ipython",
    "version": 3
   },
   "file_extension": ".py",
   "mimetype": "text/x-python",
   "name": "python",
   "nbconvert_exporter": "python",
   "pygments_lexer": "ipython3",
   "version": "3.7.3"
  }
 },
 "nbformat": 4,
 "nbformat_minor": 2
}
