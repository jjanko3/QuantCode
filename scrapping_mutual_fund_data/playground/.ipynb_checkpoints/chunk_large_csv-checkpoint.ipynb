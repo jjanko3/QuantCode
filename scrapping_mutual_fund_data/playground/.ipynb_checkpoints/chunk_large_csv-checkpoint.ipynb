{
 "cells": [
  {
   "cell_type": "code",
   "execution_count": 2,
   "metadata": {},
   "outputs": [],
   "source": [
    "import pandas as pd\n",
    "import os"
   ]
  },
  {
   "cell_type": "code",
   "execution_count": 8,
   "metadata": {},
   "outputs": [
    {
     "name": "stdout",
     "output_type": "stream",
     "text": [
      "blackrock_panel1.csv\n",
      "24957.0986328125\n",
      "blackrock_panel1_legend.csv\n",
      "515.6142578125\n",
      "blackrock_panel1_restricted.csv\n",
      "2643.2294921875\n",
      "blackrock_panel1_restricted_legend.csv\n",
      "63.4375\n",
      "blackrock_panel2.csv\n",
      "2024.6123046875\n",
      "fidelity_panel1.csv\n",
      "654911.619140625\n",
      "fidelity_panel1_legend.csv\n",
      "10688.3515625\n",
      "fidelity_panel1_restricted.csv\n",
      "63894.61328125\n",
      "fidelity_panel1_restricted_legend.csv\n",
      "1528.2666015625\n",
      "fidelity_panel2.csv\n",
      "3743.96484375\n"
     ]
    }
   ],
   "source": [
    "cur_wd = os.getcwd()\n",
    "\n",
    "output_directory = os.path.join(\"\\\\\".join(cur_wd.split('\\\\')[0:-1]),'output')\n",
    "\n",
    "files = os.listdir(output_directory)\n",
    "for f in files:\n",
    "    if '.csv' in f:\n",
    "        fsize = os.path.getsize(os.path.join(output_directory, f)) / 1024.\n",
    "        print(f)\n",
    "        print(fsize)\n",
    "        if fsize > 45000.:\n",
    "            for i,chunk in enumerate(pd.read_csv(os.path.join(output_directory, f), chunksize=10000 , low_memory = False)):\n",
    "                chunk.to_csv(os.path.join(output_directory, f.replace('.csv','') + '_chunk_{}.csv'.format(i)))  \n",
    "                \n",
    "            os.remove(os.path.join(output_directory, f))\n"
   ]
  }
 ],
 "metadata": {
  "kernelspec": {
   "display_name": "Python 3",
   "language": "python",
   "name": "python3"
  },
  "language_info": {
   "codemirror_mode": {
    "name": "ipython",
    "version": 3
   },
   "file_extension": ".py",
   "mimetype": "text/x-python",
   "name": "python",
   "nbconvert_exporter": "python",
   "pygments_lexer": "ipython3",
   "version": "3.7.3"
  }
 },
 "nbformat": 4,
 "nbformat_minor": 2
}
