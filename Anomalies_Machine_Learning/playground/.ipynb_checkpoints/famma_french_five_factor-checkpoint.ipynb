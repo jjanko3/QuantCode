{
 "cells": [
  {
   "cell_type": "code",
   "execution_count": 1,
   "metadata": {},
   "outputs": [],
   "source": [
    "#import libraries for analysis\n",
    "#pandas for dataframes\n",
    "import pandas as pd\n",
    "#datetime for converting numerics to datetime format\n",
    "import datetime as dt\n",
    "#yahoo finance dividend adjusted closes for prototyping\n",
    "import yfinance as yf\n",
    "#statsmodels for ols regressions\n",
    "import statsmodels.api as sm\n",
    "#convert dataframes to numpy format because sklearn does not take dataframes well\n",
    "import numpy as np\n",
    "from finance_byu.fama_macbeth import fama_macbeth, fama_macbeth_parallel, fm_summary, fama_macbeth_numba\n",
    "\n",
    "\n",
    "#this is the list of classifiers from sklearn that are available for analysis. \"kitchen sink\" approach\n",
    "from sklearn.neural_network import MLPClassifier\n",
    "from sklearn.neighbors import KNeighborsClassifier\n",
    "from sklearn.svm import SVC\n",
    "from sklearn.gaussian_process import GaussianProcessClassifier\n",
    "from sklearn.gaussian_process.kernels import RBF\n",
    "from sklearn.tree import DecisionTreeClassifier\n",
    "from sklearn.ensemble import RandomForestClassifier, AdaBoostClassifier\n",
    "from sklearn.naive_bayes import GaussianNB\n",
    "from sklearn.discriminant_analysis import QuadraticDiscriminantAnalysis\n",
    "from sklearn.model_selection import train_test_split"
   ]
  },
  {
   "cell_type": "code",
   "execution_count": 2,
   "metadata": {},
   "outputs": [],
   "source": [
    "#this is a base class which we use put our parameters. All the other classes inherit from this\n",
    "class BacktestParameters:\n",
    "    \n",
    "    def __init__(self, stk_symbols, start, end, lookback_alpha, lev):\n",
    "        #the stock symbols\n",
    "        self.stk_symbols = stk_symbols\n",
    "        #start of the data series\n",
    "        self.start = start\n",
    "        #end of the data series\n",
    "        self.end = end\n",
    "        #index security\n",
    "        #the lookback period for calculating alpha and idiosyncratic volatility\n",
    "        self.lookback = lookback_alpha\n",
    "        #leverage to apply to the strategy\n",
    "        self.lev = lev\n",
    "\n",
    "#class for pulling the yahoo finance data and cleaning so we have monthly data\n",
    "class Data(BacktestParameters):\n",
    "    \n",
    "    def __init__(self, bp):\n",
    "        #inherit from the base class\n",
    "        self.stk_symbols = bp.stk_symbols\n",
    "        self.start = bp.start\n",
    "        self.end = bp.end\n",
    "        self.lookback = bp.lookback\n",
    "        \n",
    "    #method for get getting the adjusted closes from yahoo\n",
    "    def get_data(self):\n",
    "        close = pd.DataFrame()\n",
    "\n",
    "        for i in self.stk_symbols:\n",
    "\n",
    "            df = yf.download(i, start=self.start, end=self.end, progress=False)\n",
    "            df = pd.DataFrame(df['Adj Close'])\n",
    "            df.columns = [i]\n",
    "            if close.empty:\n",
    "                close = df.copy()\n",
    "            else:\n",
    "                close = pd.concat([close, df], axis = 1)\n",
    "\n",
    "        #get the daily returns\n",
    "        returns = close.pct_change()[1:]\n",
    "\n",
    "        print(returns.head())\n",
    "        \n",
    "        return returns\n",
    "    \n",
    "    #converts the daily returns to a geometric return for the month\n",
    "    def convert_monthly(self, returns):\n",
    "        returns = returns.resample('M').agg(lambda x: (x + 1).prod(skipna = True) - 1)\n",
    "        \n",
    "        #the geometric returns convert null values at the beginning of the time series to zeros.\n",
    "        #this converts the data back to null values so we dont allocate to data that does not exist \n",
    "        for i in returns.columns:\n",
    "            found = False\n",
    "            for date, row in returns.loc[:,i].iteritems():\n",
    "                if row == 0.0 and ~found:\n",
    "                    returns.loc[date, i] = np.nan\n",
    "                else:\n",
    "                    found = True\n",
    "        print(returns)\n",
    "        return returns\n",
    "    \n",
    "    \n",
    "    #this method takes a dataframe and converts to a binary output based off the center variable\n",
    "    def get_binary(self, df_input, center = 0.0):\n",
    "        \n",
    "        binary_alpha = df_input.astype(float)\n",
    "        #greater than the center var is a 1\n",
    "        binary_alpha[binary_alpha >= center] = 1.0\n",
    "        #less than the center var is a 0.0\n",
    "        binary_alpha[binary_alpha < center] = 0.0\n",
    "        \n",
    "        return binary_alpha\n",
    "        \n",
    "#class for the backtesting of our classification\n",
    "class Backtest():\n",
    "    #instantiate with the backtest parameters with the returns data\n",
    "    def __init__(self, bp, returns, mode):\n",
    "        #the stock symbols\n",
    "        self.stk_symbols = bp.stk_symbols\n",
    "        #start of the data series\n",
    "        self.start = bp.start\n",
    "        #end of the data series\n",
    "        self.end = bp.end\n",
    "        #index security\n",
    "        #the lookback period for calculating alpha\n",
    "        self.lookback = bp.lookback\n",
    "        self.returns = returns\n",
    "        self.mode = mode\n",
    "        \n",
    "        \n",
    "    def check_new_factor(self, backtest, factor_model, index_symbol):\n",
    "        \n",
    "        new_factor = pd.DataFrame(backtest.mean(axis = 1))\n",
    "        new_factor.columns = ['portfolio']\n",
    "\n",
    "        Y = factor_model.loc[new_factor.index, index_symbol]\n",
    "        Y = pd.DataFrame(Y)\n",
    "        X = factor_model.loc[new_factor.index]\n",
    "        X = pd.concat([new_factor, X], axis = 1)\n",
    "        X['intercept'] = 1.0\n",
    "        X = X.shift(1).dropna(axis = 0)\n",
    "        Y = Y.iloc[1:]\n",
    "        model = sm.OLS(Y,X, missing = 'drop')\n",
    "        results = model.fit()\n",
    "        print(results.summary())  \n",
    "        betas = results.params\n",
    "\n",
    "        #2nd step. regress all asset returns for a fixed time period against the estimated betas to determine the risk premium for each factor.\n",
    "\n",
    "        prems = {}\n",
    "        for count, row in X.iterrows():\n",
    "            y = Y.loc[count]\n",
    "            y = pd.DataFrame(y).T\n",
    "            x = pd.DataFrame(row).T\n",
    "            model = sm.OLS(y,x, missing = 'drop')\n",
    "            results = model.fit()\n",
    "            prems[count] = results.params\n",
    "\n",
    "        print(\"Factor Loadings\")\n",
    "        prems = pd.DataFrame(prems).T\n",
    "        print(prems.head(20))\n",
    "        expected_prems = prems.mean()\n",
    "        t_stats = expected_prems / (prems.std()/ np.sqrt(len(prems.index)))\n",
    "        print(\"expected premiums for each risk factor\")\n",
    "        print(expected_prems)\n",
    "        print(\"t-stats for each risk factor\")\n",
    "        print(t_stats)\n",
    "  \n",
    "            \n",
    "    \"\"\"\n",
    "    this method gets the equal weight portfolio of our strategy and compares to the factor model of choice. \n",
    "    Takes the backtest dataframe which is the actual returns of the strategy.\n",
    "    \"\"\"\n",
    "    \n",
    "    def factor_results(self, backtest, factor_model):\n",
    "        \n",
    "        port= pd.DataFrame(backtest.mean(axis = 1))\n",
    "        port.columns = ['portfolio']\n",
    "\n",
    "        #1st step. run the regression of factors on the portfolio\n",
    "        Y = pd.DataFrame(port)\n",
    "        X = factor_model.loc[port.index]\n",
    "        X['intercept'] = 1.0\n",
    "        model = sm.OLS(Y,X,missing = 'drop')\n",
    "        results = model.fit()\n",
    "        print(results.summary())  \n",
    "        betas = results.params\n",
    "\n",
    "        #2nd step. regress all asset returns for a fixed time period against the estimated betas to determine the risk premium for each factor.\n",
    "\n",
    "        prems = {}\n",
    "        for count, row in X.iterrows():\n",
    "            try:\n",
    "                y = Y.loc[count,:]\n",
    "                y = pd.DataFrame(y).T\n",
    "                x = pd.DataFrame(row).T\n",
    "                model = sm.OLS(y,x, missing = 'drop')\n",
    "                results = model.fit()\n",
    "                prems[count] = results.params\n",
    "            except:\n",
    "                #this is to deal nans in the y and x\n",
    "                pass\n",
    "\n",
    "        print(\"Factor Loadings\")\n",
    "        prems = pd.DataFrame(prems).T\n",
    "        print(prems.head(20))\n",
    "        expected_prems = prems.mean()\n",
    "        t_stats = expected_prems / (prems.std()/ np.sqrt(len(prems.index)))\n",
    "        print(\"expected premiums for each risk factor\")\n",
    "        print(expected_prems)\n",
    "        print(\"t-stats for each risk factor\")\n",
    "        print(t_stats)\n",
    "\n",
    " \n",
    "    \n",
    "    #this method is for actually running the backtest and getting the portfolios returns and allocations\n",
    "    def run_backtest(self, input_classifiers, lookback_backtest, inputs, outputs,  ensemble = 'no', trade_type = 'both'):\n",
    "        \n",
    "        \"\"\"\n",
    "        the input_classifiers is a string of which classifier to use. This can be an array for multiple classifiers\n",
    "        lookback_test is an integer for the time length to use for the feature set to use for the analysis\n",
    "        inputs is a dataframe of the feature set\n",
    "        output is a dataframe of the output variable to train our feature set on. This is returns across the assets\n",
    "        for analysis\n",
    "        ensemble is a yes or not string for whether to take an array of classifiers and a voting method to get \n",
    "        asset returns\n",
    "        trade_type: this determines if the portfolio is long only, short only, or both\n",
    "        \"\"\"\n",
    "        \n",
    "        #gets the lowercase sting of the ensemble input.\n",
    "        ensemble = ensemble.lower()\n",
    "        \n",
    "        #if we input multiple classifiers this converts the system to an ensemble output. You can only input one\n",
    "        #classifier at a time or an ensemble system\n",
    "        if ensemble == 'no' and len(input_classifiers) > 1:\n",
    "            print(\"For non emsemble systems the amount of input classifiers are restricted to one. The following backtest will be changed to a ensemble system\")\n",
    "            ensemble = 'yes'\n",
    "        \n",
    "        \n",
    "        #dictionary to convert the classifiers string inputs to actual sklearn classifiers\n",
    "        classifiers = {\"Nearest Neighbors\" : KNeighborsClassifier(3), \\\n",
    "                       \"Linear SVM\" : SVC(),\\\n",
    "                        \"RBF SVM\": SVC(gamma=2, C=1), \\\n",
    "                        \"Gaussian Process\" : GaussianProcessClassifier(1.0 * RBF(1.0)), \\\n",
    "                        \"Decision Tree\" : DecisionTreeClassifier(max_depth=5), \\\n",
    "                        \"Random Forest\" : RandomForestClassifier(max_depth=3, n_estimators=2, max_features=1, random_state=1), \\\n",
    "                        \"Neural Net\": MLPClassifier(solver='adam', learning_rate = 'adaptive', alpha=1e-3, hidden_layer_sizes=(5),max_iter= 10000, random_state=1), \\\n",
    "                        \"AdaBoost\": AdaBoostClassifier(), \\\n",
    "                        \"Naive Bayes\": GaussianNB(), \\\n",
    "                        \"QDA\": QuadraticDiscriminantAnalysis()}\n",
    "\n",
    "        #create a blank dataframe for our backtest data\n",
    "        ml_backtest = pd.DataFrame()\n",
    "        ml_weights = pd.DataFrame()\n",
    "\n",
    "        #iterate through each symbol and run the backtest on the symbol\n",
    "        for ticker in inputs.keys():\n",
    "\n",
    "            count = 0\n",
    "\n",
    "            #instantiate a dataframe for our backtest outputs for one ticker. we can only run the backtest on the index of \n",
    "            #the inputs. we remove the lookback period for analysis\n",
    "            \n",
    "            backtest = pd.DataFrame()\n",
    "            weights = pd.DataFrame()\n",
    "            \n",
    "            #iterate through the inputs\n",
    "            for ix, row in inputs[ticker].iterrows(): \n",
    "\n",
    "                if count >= lookback_backtest:\n",
    "                    #the analysis df does not include the current row\n",
    "                    analysis = inputs[ticker][count-lookback_backtest:count]\n",
    "\n",
    "                    #the y var is the binary returns of the ticker\n",
    "                    y = outputs[ticker].loc[analysis.index][1:].copy()\n",
    "                    #the x var is the returns for the ticker on the analysis index lagged by 1\n",
    "                    x = inputs[ticker].loc[analysis.index].shift(1)[1:].copy()\n",
    "                    #test x represents the yesterdays x value, this is for the outsample prediction on y\n",
    "                    test_x = inputs[ticker].loc[analysis.index].tail(1)\n",
    "                    #to run a single classifier\n",
    "                    if ensemble == 'no':\n",
    "                        for name in input_classifiers:\n",
    "                            #fit the classifier to the inputs\n",
    "                            clf = classifiers[name]\n",
    "                            clf.fit(x.to_numpy(), y.values.ravel())\n",
    "                            #make a prediction on the input features \n",
    "                            predict = clf.predict(x.to_numpy())\n",
    "                            predict = pd.DataFrame(data = predict, index = y.index, columns = ['predict'])\n",
    "                            #mse = np.sum((y.values - predict.values.T)**2)\n",
    "                            #predict the last observation in the feature set to predict y tomorrow\n",
    "                            outsample = clf.predict(test_x.to_numpy())[0]\n",
    "                        #if the classifier is one. we long the security times the leverage\n",
    "                        if trade_type == 'both':\n",
    "                            if outsample == 1.0:\n",
    "                                backtest.loc[ix, ticker]  = returns.loc[ix, ticker] * lev\n",
    "                                weights.loc[ix, ticker] = 1.0\n",
    "                            #if the classifier is 0 we can choose to short the security or be long only\n",
    "                            else:\n",
    "                                backtest.loc[ix, ticker]  = -returns.loc[ix, ticker] * lev\n",
    "                                weights.loc[ix, ticker] = -1.0\n",
    "                                \n",
    "                        elif trade_type == 'short':\n",
    "                            if outsample == 1.0:\n",
    "                                backtest.loc[ix, ticker]  = np.nan\n",
    "                                weights.loc[ix, ticker] = np.nan\n",
    "                            #if the classifier is 0 we can choose to short the security or be long only\n",
    "                            else:\n",
    "                                backtest.loc[ix, ticker]  = -returns.loc[ix, ticker] * lev\n",
    "                                weights.loc[ix, ticker] = -1.0\n",
    "                                \n",
    "                        elif trade_type == 'long':\n",
    "                            if outsample == 1.0:\n",
    "                                backtest.loc[ix, ticker]  = returns.loc[ix, ticker] * lev\n",
    "                                weights.loc[ix, ticker] = 1.0\n",
    "                            #if the classifier is 0 we can choose to short the security or be long only\n",
    "                            else:\n",
    "                                backtest.loc[ix, ticker]  = np.nan\n",
    "                                weights.loc[ix, ticker] = np.nan\n",
    "                        else:\n",
    "                            backtest.loc[ix, ticker]  = np.nan\n",
    "                            weights.loc[ix, ticker] = np.nan\n",
    "                            \n",
    "                    #to do the voting method on all the classifiers\n",
    "                    else:\n",
    "                        all_outsample = []\n",
    "                        for name in input_classifiers:\n",
    "                            clf = classifiers[name]\n",
    "                            clf.fit(x.to_numpy(), y.values.ravel())\n",
    "                            predict = clf.predict(x.to_numpy())\n",
    "                            predict = pd.DataFrame(data = predict, index = y.index, columns = ['predict'])\n",
    "                            #mse = np.sum((y.values - predict.values.T)**2)\n",
    "                            outsample = clf.predict(test_x.to_numpy())[0]\n",
    "                            all_outsample.append(outsample)\n",
    "                        #take the average of the classfier outputs \n",
    "                        avg = sum(all_outsample) / len(all_outsample)  \n",
    "                        #if greater than .5, then go long the security. this paramber could be optimized\n",
    "                        if avg >= 0.5:\n",
    "                            backtest.loc[ix, ticker]  = returns.loc[ix, ticker] * lev\n",
    "                            weights.loc[ix, ticker] = 1.0\n",
    "                            \n",
    "                        #if the classifier is 0 we can choose to short the security or be long only\n",
    "                        else:\n",
    "                            backtest.loc[ix, ticker]  = -returns.loc[ix, ticker] * lev\n",
    "                            weights.loc[ix, ticker] = -1.0\n",
    "                count = count + 1\n",
    "                \n",
    "            #concatentate the backtest for one ticker with the rest to give the portfolio. \n",
    "            if ml_backtest.empty:\n",
    "                ml_backtest = backtest.copy()\n",
    "                ml_weights = weights.copy()\n",
    "            else:\n",
    "                ml_backtest = pd.concat([ml_backtest, backtest], axis = 1)\n",
    "                ml_weights = pd.concat([ml_weights, weights], axis = 1)\n",
    "\n",
    "        #return a dataframe of all the backtests on input tickers\n",
    "        return ml_backtest, ml_weights\n",
    "        \n",
    "        \n",
    "        "
   ]
  },
  {
   "cell_type": "code",
   "execution_count": 3,
   "metadata": {},
   "outputs": [
    {
     "name": "stdout",
     "output_type": "stream",
     "text": [
      "            Mkt-RF     SMB     HML     RMW     CMA      RF\n",
      "1963-07-01 -0.0039 -0.0047 -0.0083  0.0066 -0.0115  0.0027\n",
      "1963-08-01  0.0507 -0.0079  0.0167  0.0040 -0.0040  0.0025\n",
      "1963-09-01 -0.0157 -0.0048  0.0018 -0.0076  0.0024  0.0027\n",
      "1963-10-01  0.0253 -0.0129 -0.0010  0.0275 -0.0224  0.0029\n",
      "1963-11-01 -0.0085 -0.0084  0.0171 -0.0045  0.0222  0.0027\n"
     ]
    }
   ],
   "source": [
    "ff_factors = pd.read_csv('F-F_Research_Data_5_Factors_2x3.csv', index_col = 0)\n",
    "ff_factors.index = pd.to_datetime(ff_factors.index, format= '%Y%m')\n",
    "ff_factors = ff_factors / 100.0\n",
    "\n",
    "factor_model = ff_factors.copy()\n",
    "factor_model = factor_model[['Mkt-RF', 'SMB', 'HML', 'RMW', 'CMA']]\n",
    "rf = ff_factors[['RF']]\n",
    "\n",
    "index_symbol = 'Mkt-RF'\n",
    "\n",
    "print(ff_factors.head(5))"
   ]
  },
  {
   "cell_type": "code",
   "execution_count": 4,
   "metadata": {},
   "outputs": [],
   "source": [
    "#start date for data\n",
    "start = '2004-01-01'\n",
    "#end date for data\n",
    "end = '2020-01-01'\n",
    "\n",
    "#the lookback for alpha feature\n",
    "lookback = 60\n",
    "#control the leverage\n",
    "lev = 1.\n",
    "stk_symbols  = factor_model.columns\n",
    "returns = factor_model.copy()\n",
    "\n",
    "\n",
    "#set the backtest parameters\n",
    "bp = BacktestParameters(stk_symbols, start, end, lookback, lev  )\n",
    "bt = Backtest(bp, returns, mode = 'insample')\n",
    "d = Data(bp)\n",
    "\n"
   ]
  },
  {
   "cell_type": "code",
   "execution_count": 5,
   "metadata": {},
   "outputs": [
    {
     "name": "stdout",
     "output_type": "stream",
     "text": [
      "              Mkt-RF       SMB       HML       RMW       CMA\n",
      "1968-08-01  0.004686  0.006016 -0.000766 -0.002048 -0.006084\n",
      "1968-09-01  0.003146  0.006134 -0.000267 -0.002788 -0.005145\n",
      "1968-10-01  0.003727  0.006555 -0.000347 -0.002577 -0.005342\n",
      "1968-11-01  0.003766  0.007209 -0.000303 -0.003457 -0.004763\n",
      "1968-12-01  0.004546  0.007290 -0.000566 -0.003387 -0.004722\n",
      "              Mkt-RF       SMB       HML       RMW       CMA\n",
      "1968-07-01  0.029955  0.027251  0.017452  0.014173  0.019689\n",
      "1968-08-01  0.029701  0.027173  0.018432  0.014811  0.020400\n",
      "1968-09-01  0.029452  0.027096  0.018422  0.014703  0.020372\n",
      "1968-10-01  0.029710  0.027022  0.018420  0.014432  0.020215\n",
      "1968-11-01  0.029435  0.026727  0.018434  0.014492  0.020312\n"
     ]
    }
   ],
   "source": [
    "#initialize the alpha dataframe\n",
    "df_alpha = returns[lookback:].copy()\n",
    "#initialize the idiosyncratic volatility as well\n",
    "idiosyncratic_vol = returns[lookback:].copy()\n",
    "\n",
    "count = 0\n",
    "#iterate through the monthly data. At each point in time we find the insample alpha and idiosyncratic vol\n",
    "for ix, row in returns.iterrows(): \n",
    "    #check to make sure we have at least the lookback for analysis\n",
    "    if count >= lookback:\n",
    "        \"\"\"\n",
    "        note that python will not return the last part of the index. We want to by inclusive of this\n",
    "        since this is an insample measure\n",
    "        \"\"\"\n",
    "        analysis = returns[count-lookback:count]\n",
    "\n",
    "        for ticker in returns.columns:\n",
    "                #the dependent variable is our security and index var is the independent var\n",
    "            try:\n",
    "                y = pd.concat([analysis[ticker], rf.loc[analysis.index]], axis = 1)\n",
    "                y = pd.DataFrame(y[ticker] - y[rf.columns[0]], columns = [ticker])\n",
    "                # the index is your independent variable\n",
    "                x = factor_model.loc[analysis.index].drop(ticker, axis = 1)\n",
    "                #add a constant so we can get the alpha\n",
    "                x = sm.add_constant(x)\n",
    "                x = x.shift(1)\n",
    "                \n",
    "                #use simple ols\n",
    "                mod = sm.OLS(y, x, missing='drop')\n",
    "                res = mod.fit()\n",
    "                #get the alpha\n",
    "                alpha = res.params['const']\n",
    "                #add the results to the alpha dataframe for analysis later\n",
    "                df_alpha.loc[ix, ticker] = alpha\n",
    "                #the line below is in case I want to analyze a simple difference \n",
    "                #df_alpha.loc[ix, ticker] = (analysis[ticker] - analysis[index_security ]).mean()\n",
    "                #find the idiosyncratic volatility. Simply the residual squared. Note this is monthly\n",
    "                idiosyncratic_vol.loc[ix, ticker] = res.resid.std()\n",
    "            except:\n",
    "                #if we have missing data we populate our analysis dataframe with null values \n",
    "                df_alpha.loc[ix, ticker] = np.nan\n",
    "                idiosyncratic_vol.loc[ix, ticker] = np.nan\n",
    "    #iterate to the next point in our data\n",
    "    count = count + 1\n",
    "\n",
    "#notice that I populated the alpha and idiosyncratic volatility with the full returns dataframe. \n",
    "#these two lines remove the lookback period for clean reading\n",
    "df_alpha = df_alpha.dropna(axis = 0, how = 'all')\n",
    "df_alpha = df_alpha.shift(1).dropna()\n",
    "idiosyncratic_vol = idiosyncratic_vol.dropna(axis = 0, how = 'all')\n",
    "binary_alpha = d.get_binary(df_alpha)\n",
    "\n",
    "print(df_alpha.head(5))\n",
    "print(idiosyncratic_vol.head(5))"
   ]
  },
  {
   "cell_type": "code",
   "execution_count": 6,
   "metadata": {},
   "outputs": [],
   "source": [
    "#the next few lines are a variety of feature to use\n",
    "\n",
    "#get the rolling means of returns as a momentum feature. Subtract the last month's return\n",
    "#12 month momentum factor\n",
    "rolling_mean_12 = ((returns.rolling(window = 12).mean() - returns.rolling(window = 1).mean()) )[12:]\n",
    "#6 month momentum factor\n",
    "rolling_mean_6 = ((returns.rolling(window = 6).mean() - returns.rolling(window = 1).mean()) )[6:]\n",
    "\n",
    "rolling_std_12 = (returns.rolling(window = 12).std() )[12:]\n",
    "\n",
    "#convert the momentum factor a binary variable. The center is optimized to increase strategy sharpe\n",
    "#turns the momentum factor to a 1 if the mean average return over past 12 months is over 15%/12\n",
    "binary_mean_12 = d.get_binary(rolling_mean_12, center = 0.0/12)\n",
    "binary_mean_6 = d.get_binary(rolling_mean_6, center = 0.0/12)\n",
    "#convert the output feature to a binary variable for training the classifiers\n",
    "binary_returns = d.get_binary(returns, center = 0.0/12)\n",
    "\n",
    "#creates a dictionary of different features for analysis based on ticker keys\n",
    "feature_list = [binary_alpha]\n",
    "\n",
    "feature_set = {}\n",
    "\n",
    "for i in feature_list:\n",
    "    i = i.dropna(axis = 0, how = 'all')\n",
    "    for j in i.columns:\n",
    "        if j not in feature_set.keys():\n",
    "            i[j].rename('0', inplace = True)\n",
    "            feature_set[j] = pd.DataFrame(i[j].copy())\n",
    "        else:\n",
    "            i[j].rename(str(len(feature_set[j].columns)), inplace = True)\n",
    "            feature_set[j] = pd.concat([feature_set[j], i[j].copy()], axis = 1).dropna(axis = 0, how = 'any')\n",
    "        #remove rows where we do not have features for the whole portfolio.\n",
    "        feature_set[j].dropna(axis = 0, how = 'any', inplace = True)"
   ]
  },
  {
   "cell_type": "markdown",
   "metadata": {},
   "source": [
    "# KNN "
   ]
  },
  {
   "cell_type": "code",
   "execution_count": 7,
   "metadata": {},
   "outputs": [],
   "source": [
    "backtest, weights = bt.run_backtest(input_classifiers= [\"Nearest Neighbors\"], lookback_backtest = 12, inputs = feature_set, outputs = binary_returns,  ensemble = 'no', trade_type = 'both')"
   ]
  },
  {
   "cell_type": "code",
   "execution_count": 8,
   "metadata": {},
   "outputs": [
    {
     "name": "stdout",
     "output_type": "stream",
     "text": [
      "                            OLS Regression Results                            \n",
      "==============================================================================\n",
      "Dep. Variable:              portfolio   R-squared:                       0.009\n",
      "Model:                            OLS   Adj. R-squared:                  0.001\n",
      "Method:                 Least Squares   F-statistic:                     1.087\n",
      "Date:                Thu, 05 Nov 2020   Prob (F-statistic):              0.366\n",
      "Time:                        11:56:23   Log-Likelihood:                 1674.2\n",
      "No. Observations:                 613   AIC:                            -3336.\n",
      "Df Residuals:                     607   BIC:                            -3310.\n",
      "Df Model:                           5                                         \n",
      "Covariance Type:            nonrobust                                         \n",
      "==============================================================================\n",
      "                 coef    std err          t      P>|t|      [0.025      0.975]\n",
      "------------------------------------------------------------------------------\n",
      "Mkt-RF         0.0272      0.016      1.707      0.088      -0.004       0.058\n",
      "SMB           -0.0281      0.023     -1.208      0.227      -0.074       0.018\n",
      "HML           -0.0125      0.030     -0.414      0.679      -0.072       0.047\n",
      "RMW           -0.0042      0.031     -0.133      0.894      -0.066       0.058\n",
      "CMA            0.0741      0.047      1.561      0.119      -0.019       0.167\n",
      "intercept      0.0019      0.001      2.797      0.005       0.001       0.003\n",
      "==============================================================================\n",
      "Omnibus:                       65.274   Durbin-Watson:                   1.721\n",
      "Prob(Omnibus):                  0.000   Jarque-Bera (JB):              382.019\n",
      "Skew:                          -0.215   Prob(JB):                     1.11e-83\n",
      "Kurtosis:                       6.843   Cond. No.                         83.1\n",
      "==============================================================================\n",
      "\n",
      "Notes:\n",
      "[1] Standard Errors assume that the covariance matrix of the errors is correctly specified.\n",
      "Factor Loadings\n",
      "              Mkt-RF       SMB           HML           RMW       CMA  \\\n",
      "1969-08-01 -0.000346 -0.000053  2.863424e-04 -8.582872e-05  0.000302   \n",
      "1969-09-01  0.000542 -0.000235  5.805720e-04 -6.224314e-04  0.000151   \n",
      "1969-10-01 -0.000644 -0.000495  4.060852e-04 -1.272994e-06  0.000258   \n",
      "1969-11-01 -0.000299 -0.000190 -8.849513e-05  1.137795e-04  0.000025   \n",
      "1969-12-01  0.000063  0.000088  7.219131e-05 -5.904388e-05  0.000049   \n",
      "1970-01-01 -0.001636  0.000624  6.138436e-04 -3.574024e-04  0.000792   \n",
      "1970-02-01  0.000696 -0.000350  5.483623e-04 -3.094718e-04  0.000415   \n",
      "1970-03-01 -0.000238 -0.000539  9.536274e-04 -1.952131e-04  0.000994   \n",
      "1970-04-01 -0.006220 -0.003562  3.618690e-03 -3.618690e-04  0.003325   \n",
      "1970-05-01 -0.000387 -0.000247  2.011257e-04 -7.262874e-05  0.000202   \n",
      "1970-06-01 -0.000005 -0.000002  6.927140e-07  1.512824e-07  0.000002   \n",
      "1970-07-01 -0.001455  0.000145 -2.014913e-04  1.469208e-05 -0.000399   \n",
      "1970-08-01 -0.000292 -0.000100 -6.699561e-05 -3.707524e-05  0.000010   \n",
      "1970-09-01 -0.000076 -0.000154  1.010958e-04 -4.348207e-06  0.000107   \n",
      "1970-10-01 -0.000487 -0.000961  5.768877e-05  3.910017e-04  0.000509   \n",
      "1970-11-01  0.000080 -0.000069  2.823380e-05  3.031236e-05  0.000028   \n",
      "1970-12-01 -0.000865 -0.000456 -1.526622e-04 -2.116110e-05 -0.000042   \n",
      "1971-01-01 -0.000859 -0.001338 -2.448895e-04  3.886290e-04  0.000025   \n",
      "1971-02-01 -0.000172 -0.000251  1.577572e-04 -7.949008e-05  0.000088   \n",
      "1971-03-01 -0.001231 -0.000641  1.204468e-03 -5.873272e-04  0.000802   \n",
      "\n",
      "            intercept  \n",
      "1969-08-01  -0.007399  \n",
      "1969-09-01  -0.018200  \n",
      "1969-10-01  -0.012730  \n",
      "1969-11-01   0.007901  \n",
      "1969-12-01  -0.002390  \n",
      "1970-01-01   0.020192  \n",
      "1970-02-01   0.013573  \n",
      "1970-03-01   0.022438  \n",
      "1970-04-01   0.056542  \n",
      "1970-05-01   0.005587  \n",
      "1970-06-01   0.000080  \n",
      "1970-07-01  -0.020989  \n",
      "1970-08-01  -0.006504  \n",
      "1970-09-01  -0.001812  \n",
      "1970-10-01   0.021366  \n",
      "1970-11-01   0.001732  \n",
      "1970-12-01  -0.015115  \n",
      "1971-01-01  -0.017746  \n",
      "1971-02-01  -0.012229  \n",
      "1971-03-01  -0.029814  \n",
      "expected premiums for each risk factor\n",
      "Mkt-RF       0.000038\n",
      "SMB         -0.000015\n",
      "HML          0.000016\n",
      "RMW          0.000005\n",
      "CMA          0.000022\n",
      "intercept    0.002152\n",
      "dtype: float64\n",
      "t-stats for each risk factor\n",
      "Mkt-RF       0.751775\n",
      "SMB         -0.585579\n",
      "HML          0.464745\n",
      "RMW          0.176154\n",
      "CMA          0.895324\n",
      "intercept    3.410725\n",
      "dtype: float64\n"
     ]
    }
   ],
   "source": [
    "bt.factor_results(backtest, factor_model)"
   ]
  },
  {
   "cell_type": "code",
   "execution_count": 9,
   "metadata": {},
   "outputs": [
    {
     "data": {
      "text/plain": [
       "<AxesSubplot:>"
      ]
     },
     "execution_count": 9,
     "metadata": {},
     "output_type": "execute_result"
    },
    {
     "data": {
      "image/png": "[encoded data removed]",
      "text/plain": [
       "<Figure size 432x288 with 1 Axes>"
      ]
     },
     "metadata": {
      "needs_background": "light"
     },
     "output_type": "display_data"
    }
   ],
   "source": [
    "backtest.mean(axis = 1).cumsum().plot()"
   ]
  },
  {
   "cell_type": "markdown",
   "metadata": {},
   "source": [
    "### Long only"
   ]
  },
  {
   "cell_type": "code",
   "execution_count": 10,
   "metadata": {},
   "outputs": [
    {
     "name": "stdout",
     "output_type": "stream",
     "text": [
      "                            OLS Regression Results                            \n",
      "==============================================================================\n",
      "Dep. Variable:              portfolio   R-squared:                       0.326\n",
      "Model:                            OLS   Adj. R-squared:                  0.321\n",
      "Method:                 Least Squares   F-statistic:                     58.30\n",
      "Date:                Thu, 05 Nov 2020   Prob (F-statistic):           1.78e-49\n",
      "Time:                        11:56:59   Log-Likelihood:                 1654.0\n",
      "No. Observations:                 608   AIC:                            -3296.\n",
      "Df Residuals:                     602   BIC:                            -3269.\n",
      "Df Model:                           5                                         \n",
      "Covariance Type:            nonrobust                                         \n",
      "==============================================================================\n",
      "                 coef    std err          t      P>|t|      [0.025      0.975]\n",
      "------------------------------------------------------------------------------\n",
      "Mkt-RF         0.1922      0.016     11.927      0.000       0.161       0.224\n",
      "SMB            0.1497      0.024      6.362      0.000       0.104       0.196\n",
      "HML            0.1431      0.031      4.659      0.000       0.083       0.203\n",
      "RMW            0.1582      0.032      4.941      0.000       0.095       0.221\n",
      "CMA            0.2269      0.048      4.708      0.000       0.132       0.322\n",
      "intercept      0.0023      0.001      3.384      0.001       0.001       0.004\n",
      "==============================================================================\n",
      "Omnibus:                       84.087   Durbin-Watson:                   1.625\n",
      "Prob(Omnibus):                  0.000   Jarque-Bera (JB):              748.628\n",
      "Skew:                          -0.219   Prob(JB):                    2.74e-163\n",
      "Kurtosis:                       8.418   Cond. No.                         83.1\n",
      "==============================================================================\n",
      "\n",
      "Notes:\n",
      "[1] Standard Errors assume that the covariance matrix of the errors is correctly specified.\n",
      "Factor Loadings\n",
      "              Mkt-RF       SMB       HML           RMW       CMA  intercept\n",
      "1969-08-01 -0.000298 -0.000045  0.000246 -7.383116e-05  0.000260  -0.006365\n",
      "1969-09-01  0.000424 -0.000184  0.000454 -4.865941e-04  0.000118  -0.014228\n",
      "1969-10-01 -0.000223 -0.000172  0.000141 -4.409069e-07  0.000090  -0.004409\n",
      "1969-11-01  0.000151  0.000096  0.000045 -5.746437e-05 -0.000013  -0.003991\n",
      "1969-12-01  0.000663  0.000932  0.000761 -6.224210e-04  0.000514  -0.025199\n",
      "1970-01-01 -0.001387  0.000529  0.000521 -3.030912e-04  0.000671   0.017124\n",
      "1970-02-01  0.001810 -0.000910  0.001425 -8.042642e-04  0.001079   0.035275\n",
      "1970-03-01 -0.000275 -0.000622  0.001101 -2.254680e-04  0.001148   0.025916\n",
      "1970-04-01 -0.004169 -0.002388  0.002426 -2.425797e-04  0.002229   0.037903\n",
      "1970-05-01  0.000891  0.000569 -0.000464  1.674067e-04 -0.000466  -0.012877\n",
      "1970-06-01  0.000571  0.000214 -0.000086 -1.872119e-05 -0.000286  -0.009853\n",
      "1970-07-01 -0.000262  0.000026 -0.000036  2.645966e-06 -0.000072  -0.003780\n",
      "1970-08-01  0.000473  0.000162  0.000108  5.999138e-05 -0.000016   0.010525\n",
      "1970-09-01  0.000099  0.000201 -0.000132  5.671574e-06 -0.000140   0.002363\n",
      "1970-10-01 -0.000478 -0.000944  0.000057  3.838893e-04  0.000499   0.020978\n",
      "1970-11-01  0.000737 -0.000641  0.000261  2.804764e-04  0.000255   0.016027\n",
      "1970-12-01  0.000367  0.000194  0.000065  8.991376e-06  0.000018   0.006422\n",
      "1971-01-01  0.000297  0.000463  0.000085 -1.346089e-04 -0.000009   0.006147\n",
      "1971-02-01 -0.000142 -0.000206  0.000130 -6.526759e-05  0.000072  -0.010041\n",
      "1971-03-01 -0.001383 -0.000720  0.001353 -6.596649e-04  0.000901  -0.033486\n",
      "expected premiums for each risk factor\n",
      "Mkt-RF       0.000324\n",
      "SMB          0.000158\n",
      "HML          0.000171\n",
      "RMW          0.000026\n",
      "CMA          0.000088\n",
      "intercept    0.004986\n",
      "dtype: float64\n",
      "t-stats for each risk factor\n",
      "Mkt-RF       4.702940\n",
      "SMB          4.740331\n",
      "HML          4.131366\n",
      "RMW          0.906799\n",
      "CMA          3.397058\n",
      "intercept    6.424911\n",
      "dtype: float64\n"
     ]
    },
    {
     "data": {
      "text/plain": [
       "<AxesSubplot:>"
      ]
     },
     "execution_count": 10,
     "metadata": {},
     "output_type": "execute_result"
    },
    {
     "data": {
      "image/png": "[encoded data removed]",
      "text/plain": [
       "<Figure size 432x288 with 1 Axes>"
      ]
     },
     "metadata": {
      "needs_background": "light"
     },
     "output_type": "display_data"
    }
   ],
   "source": [
    "backtest, weights = bt.run_backtest(input_classifiers= [\"Nearest Neighbors\"], lookback_backtest = 12, inputs = feature_set, outputs = binary_returns,  ensemble = 'no', trade_type = 'long')\n",
    "bt.factor_results(backtest, factor_model)\n",
    "backtest.mean(axis = 1).cumsum().plot()"
   ]
  },
  {
   "cell_type": "markdown",
   "metadata": {},
   "source": [
    "### Short only"
   ]
  },
  {
   "cell_type": "code",
   "execution_count": 11,
   "metadata": {},
   "outputs": [
    {
     "name": "stdout",
     "output_type": "stream",
     "text": [
      "                            OLS Regression Results                            \n",
      "==============================================================================\n",
      "Dep. Variable:              portfolio   R-squared:                       0.316\n",
      "Model:                            OLS   Adj. R-squared:                  0.310\n",
      "Method:                 Least Squares   F-statistic:                     53.24\n",
      "Date:                Thu, 05 Nov 2020   Prob (F-statistic):           2.01e-45\n",
      "Time:                        11:57:43   Log-Likelihood:                 1484.6\n",
      "No. Observations:                 582   AIC:                            -2957.\n",
      "Df Residuals:                     576   BIC:                            -2931.\n",
      "Df Model:                           5                                         \n",
      "Covariance Type:            nonrobust                                         \n",
      "==============================================================================\n",
      "                 coef    std err          t      P>|t|      [0.025      0.975]\n",
      "------------------------------------------------------------------------------\n",
      "Mkt-RF        -0.1816      0.020     -9.225      0.000      -0.220      -0.143\n",
      "SMB           -0.2565      0.029     -8.779      0.000      -0.314      -0.199\n",
      "HML           -0.1873      0.038     -4.946      0.000      -0.262      -0.113\n",
      "RMW           -0.1721      0.041     -4.194      0.000      -0.253      -0.091\n",
      "CMA           -0.1403      0.060     -2.358      0.019      -0.257      -0.023\n",
      "intercept      0.0014      0.001      1.702      0.089      -0.000       0.003\n",
      "==============================================================================\n",
      "Omnibus:                       39.942   Durbin-Watson:                   1.755\n",
      "Prob(Omnibus):                  0.000   Jarque-Bera (JB):              162.473\n",
      "Skew:                           0.002   Prob(JB):                     5.24e-36\n",
      "Kurtosis:                       5.588   Cond. No.                         84.6\n",
      "==============================================================================\n",
      "\n",
      "Notes:\n",
      "[1] Standard Errors assume that the covariance matrix of the errors is correctly specified.\n",
      "Factor Loadings\n",
      "              Mkt-RF       SMB       HML       RMW       CMA  intercept\n",
      "1969-08-01 -0.000540 -0.000082  0.000446 -0.000134  0.000471  -0.011536\n",
      "1969-09-01  0.001016 -0.000440  0.001087 -0.001166  0.000283  -0.034087\n",
      "1969-10-01 -0.001276 -0.000981  0.000804 -0.000003  0.000512  -0.025211\n",
      "1969-11-01 -0.000600 -0.000381 -0.000177  0.000228  0.000051   0.015829\n",
      "1969-12-01 -0.000337 -0.000474 -0.000387  0.000317 -0.000261   0.012815\n",
      "1970-01-01 -0.002008  0.000766  0.000754 -0.000439  0.000972   0.024795\n",
      "1970-02-01 -0.000046  0.000023 -0.000036  0.000020 -0.000027  -0.000894\n",
      "1970-03-01 -0.000183 -0.000413  0.000732 -0.000150  0.000763   0.017222\n",
      "1970-04-01 -0.009295 -0.005324  0.005408 -0.000541  0.004969   0.084500\n",
      "1970-05-01 -0.000706 -0.000451  0.000367 -0.000133  0.000369   0.010203\n",
      "1970-06-01 -0.000388 -0.000145  0.000058  0.000013  0.000194   0.006702\n",
      "1970-07-01 -0.002250  0.000224 -0.000312  0.000023 -0.000617  -0.032461\n",
      "1970-08-01 -0.000802 -0.000275 -0.000184 -0.000102  0.000027  -0.017857\n",
      "1970-09-01 -0.000119 -0.000242  0.000159 -0.000007  0.000169  -0.002855\n",
      "1970-10-01 -0.000493 -0.000973  0.000058  0.000396  0.000515   0.021625\n",
      "1970-11-01 -0.000359  0.000312 -0.000127 -0.000136 -0.000124  -0.007798\n",
      "1970-12-01 -0.001686 -0.000890 -0.000298 -0.000041 -0.000083  -0.029473\n",
      "1971-01-01 -0.001630 -0.002539 -0.000465  0.000737  0.000047  -0.033674\n",
      "1971-02-01 -0.000193 -0.000281  0.000177 -0.000089  0.000099  -0.013688\n",
      "1971-03-01 -0.001130 -0.000588  0.001106 -0.000539  0.000736  -0.027366\n",
      "expected premiums for each risk factor\n",
      "Mkt-RF      -0.000333\n",
      "SMB         -0.000251\n",
      "HML         -0.000169\n",
      "RMW         -0.000002\n",
      "CMA         -0.000058\n",
      "intercept   -0.001180\n",
      "dtype: float64\n",
      "t-stats for each risk factor\n",
      "Mkt-RF      -4.615524\n",
      "SMB         -5.449829\n",
      "HML         -3.317717\n",
      "RMW         -0.045264\n",
      "CMA         -1.919219\n",
      "intercept   -1.263906\n",
      "dtype: float64\n"
     ]
    },
    {
     "data": {
      "text/plain": [
       "<AxesSubplot:>"
      ]
     },
     "execution_count": 11,
     "metadata": {},
     "output_type": "execute_result"
    },
    {
     "data": {
      "image/png": "[encoded data removed]",
      "text/plain": [
       "<Figure size 432x288 with 1 Axes>"
      ]
     },
     "metadata": {
      "needs_background": "light"
     },
     "output_type": "display_data"
    }
   ],
   "source": [
    "backtest, weights = bt.run_backtest(input_classifiers= [\"Nearest Neighbors\"], lookback_backtest = 12, inputs = feature_set, outputs = binary_returns,  ensemble = 'no', trade_type = 'short')\n",
    "bt.factor_results(backtest, factor_model)\n",
    "backtest.mean(axis = 1).cumsum().plot()"
   ]
  },
  {
   "cell_type": "markdown",
   "metadata": {},
   "source": [
    "# Neural Net"
   ]
  },
  {
   "cell_type": "code",
   "execution_count": null,
   "metadata": {},
   "outputs": [],
   "source": [
    "backtest, weights = bt.run_backtest(input_classifiers= [\"Neural Net\"], lookback_backtest = 12, inputs = feature_set, outputs = binary_returns,  ensemble = 'no')"
   ]
  },
  {
   "cell_type": "code",
   "execution_count": null,
   "metadata": {},
   "outputs": [],
   "source": [
    "backtest.mean(axis = 1)"
   ]
  },
  {
   "cell_type": "code",
   "execution_count": null,
   "metadata": {},
   "outputs": [],
   "source": [
    "bt.factor_results(backtest, factor_model)\n",
    "backtest.mean(axis = 1).cumsum().plot()"
   ]
  },
  {
   "cell_type": "code",
   "execution_count": null,
   "metadata": {},
   "outputs": [],
   "source": [
    "factor_model.mean(axis = 1).mean() / factor_model.mean(axis = 1).std()\n",
    "backtest.mean(axis = 1).mean() / backtest.mean(axis = 1).std()"
   ]
  },
  {
   "cell_type": "markdown",
   "metadata": {},
   "source": [
    "### Long only"
   ]
  },
  {
   "cell_type": "code",
   "execution_count": null,
   "metadata": {},
   "outputs": [],
   "source": [
    "backtest, weights = bt.run_backtest(input_classifiers= [\"Neural Net\"], lookback_backtest = 12, inputs = feature_set, outputs = binary_returns,  ensemble = 'no', trade_type = 'long')\n",
    "bt.factor_results(backtest, factor_model)\n",
    "backtest.mean(axis = 1).cumsum().plot()"
   ]
  },
  {
   "cell_type": "markdown",
   "metadata": {},
   "source": [
    "### Short only"
   ]
  },
  {
   "cell_type": "code",
   "execution_count": null,
   "metadata": {},
   "outputs": [],
   "source": [
    "backtest, weights = bt.run_backtest(input_classifiers= [\"Neural Net\"], lookback_backtest = 12, inputs = feature_set, outputs = binary_returns,  ensemble = 'no', trade_type = 'short')\n",
    "bt.factor_results(backtest, factor_model)\n",
    "backtest.mean(axis = 1).cumsum().plot()"
   ]
  },
  {
   "cell_type": "markdown",
   "metadata": {},
   "source": [
    "# Random Forest"
   ]
  },
  {
   "cell_type": "code",
   "execution_count": null,
   "metadata": {},
   "outputs": [],
   "source": [
    "backtest, weights = bt.run_backtest(input_classifiers= [\"Random Forest\"], lookback_backtest = 12, inputs = feature_set, outputs = binary_returns,  ensemble = 'no')"
   ]
  },
  {
   "cell_type": "code",
   "execution_count": null,
   "metadata": {},
   "outputs": [],
   "source": [
    "bt.factor_results(backtest, factor_model)\n",
    "backtest.mean(axis = 1).cumsum().plot()"
   ]
  },
  {
   "cell_type": "markdown",
   "metadata": {},
   "source": [
    "### Long Only"
   ]
  },
  {
   "cell_type": "code",
   "execution_count": null,
   "metadata": {},
   "outputs": [],
   "source": [
    "backtest, weights = bt.run_backtest(input_classifiers= [\"Random Forest\"], lookback_backtest = 12, inputs = feature_set, outputs = binary_returns,  ensemble = 'no', trade_type = 'long')\n",
    "bt.factor_results(backtest, factor_model)\n",
    "backtest.mean(axis = 1).cumsum().plot()"
   ]
  },
  {
   "cell_type": "markdown",
   "metadata": {},
   "source": [
    "### Short Only"
   ]
  },
  {
   "cell_type": "code",
   "execution_count": null,
   "metadata": {},
   "outputs": [],
   "source": [
    "backtest, weights = bt.run_backtest(input_classifiers= [\"Random Forest\"], lookback_backtest = 12, inputs = feature_set, outputs = binary_returns,  ensemble = 'no', trade_type = 'short')\n",
    "bt.factor_results(backtest, factor_model)\n",
    "backtest.mean(axis = 1).cumsum().plot()"
   ]
  },
  {
   "cell_type": "markdown",
   "metadata": {},
   "source": [
    "# Ensemble System"
   ]
  },
  {
   "cell_type": "code",
   "execution_count": null,
   "metadata": {},
   "outputs": [],
   "source": [
    "backtest, weights = bt.run_backtest(input_classifiers= [\"Nearest Neighbors\", \"Random Forest\"], lookback_backtest = 12, inputs = feature_set, outputs = binary_returns,  ensemble = 'yes')"
   ]
  },
  {
   "cell_type": "code",
   "execution_count": null,
   "metadata": {},
   "outputs": [],
   "source": [
    "bt.factor_results(backtest, factor_model)\n",
    "backtest.mean(axis = 1).cumsum().plot()"
   ]
  },
  {
   "cell_type": "code",
   "execution_count": null,
   "metadata": {},
   "outputs": [],
   "source": [
    "for var in factor_model.columns:\n",
    "    plot_df = pd.concat([backtest[var].cumsum(), weights[var]], axis = 1)\n",
    "    plot_df.columns = ['backtest', 'signal']\n",
    "    plot_df.plot()\n",
    "    returns.loc[weights.index, var].cumsum().plot(legend = True)"
   ]
  },
  {
   "cell_type": "markdown",
   "metadata": {},
   "source": [
    "# Analyze the Market with New Factor"
   ]
  },
  {
   "cell_type": "code",
   "execution_count": null,
   "metadata": {},
   "outputs": [],
   "source": [
    "bt.check_new_factor(backtest, factor_model, index_symbol)"
   ]
  },
  {
   "cell_type": "markdown",
   "metadata": {},
   "source": [
    "# Simple Binary Decision"
   ]
  },
  {
   "cell_type": "code",
   "execution_count": null,
   "metadata": {},
   "outputs": [],
   "source": [
    "df_alpha_shift = df_alpha.shift(1).dropna(axis = 0)\n",
    "backtest = returns.loc[df_alpha_shift.index]\n",
    "weights = returns.loc[df_alpha_shift.index]\n",
    "for count, row in  backtest.iterrows(): \n",
    "    for j in backtest.columns:\n",
    "        if df_alpha_shift.loc[count, j] >= 0:\n",
    "            backtest.loc[count, j] = backtest.loc[count, j]\n",
    "            weights.loc[count, j] = 1.0\n",
    "        else:\n",
    "            backtest.loc[count, j] = -backtest.loc[count, j]\n",
    "            weights.loc[count, j] = -1.0"
   ]
  },
  {
   "cell_type": "code",
   "execution_count": null,
   "metadata": {},
   "outputs": [],
   "source": [
    "backtest.mean(axis = 1).cumsum().plot()"
   ]
  },
  {
   "cell_type": "code",
   "execution_count": null,
   "metadata": {},
   "outputs": [],
   "source": [
    "for var in factor_model.columns:\n",
    "    plot_df = pd.concat([backtest[var].cumsum(), weights[var]], axis = 1)\n",
    "    plot_df.columns = ['backtest', 'signal']\n",
    "    plot_df.plot()\n",
    "    returns.loc[weights.index, var].cumsum().plot(legend = True)"
   ]
  },
  {
   "cell_type": "code",
   "execution_count": null,
   "metadata": {},
   "outputs": [],
   "source": [
    "bt.factor_results(backtest, factor_model)"
   ]
  },
  {
   "cell_type": "code",
   "execution_count": null,
   "metadata": {},
   "outputs": [],
   "source": [
    "bt.check_new_factor(backtest, factor_model, index_symbol)"
   ]
  }
 ],
 "metadata": {
  "kernelspec": {
   "display_name": "Python 3",
   "language": "python",
   "name": "python3"
  },
  "language_info": {
   "codemirror_mode": {
    "name": "ipython",
    "version": 3
   },
   "file_extension": ".py",
   "mimetype": "text/x-python",
   "name": "python",
   "nbconvert_exporter": "python",
   "pygments_lexer": "ipython3",
   "version": "3.7.7"
  }
 },
 "nbformat": 4,
 "nbformat_minor": 2
}
