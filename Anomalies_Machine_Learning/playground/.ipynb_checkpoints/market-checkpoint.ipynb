{
 "cells": [
  {
   "cell_type": "code",
   "execution_count": 24,
   "metadata": {},
   "outputs": [],
   "source": [
    "#import libraries for analysis\n",
    "#pandas for dataframes\n",
    "import pandas as pd\n",
    "#datetime for converting numerics to datetime format\n",
    "import datetime as dt\n",
    "#yahoo finance dividend adjusted closes for prototyping\n",
    "import os\n",
    "#statsmodels for ols regressions\n",
    "import statsmodels.api as sm\n",
    "#convert dataframes to numpy format because sklearn does not take dataframes well\n",
    "import numpy as np\n",
    "from finance_byu.fama_macbeth import fama_macbeth, fama_macbeth_parallel, fm_summary, fama_macbeth_numba\n",
    "\n",
    "\n",
    "#this is the list of classifiers from sklearn that are available for analysis. \"kitchen sink\" approach\n",
    "from sklearn.neural_network import MLPClassifier\n",
    "from sklearn.neighbors import KNeighborsClassifier\n",
    "from sklearn.svm import SVC\n",
    "from sklearn.gaussian_process import GaussianProcessClassifier\n",
    "from sklearn.gaussian_process.kernels import RBF\n",
    "from sklearn.tree import DecisionTreeClassifier\n",
    "from sklearn.ensemble import RandomForestClassifier, AdaBoostClassifier\n",
    "from sklearn.naive_bayes import GaussianNB\n",
    "from sklearn.discriminant_analysis import QuadraticDiscriminantAnalysis\n",
    "from sklearn.model_selection import train_test_split"
   ]
  },
  {
   "cell_type": "code",
   "execution_count": 25,
   "metadata": {},
   "outputs": [],
   "source": [
    "#this is a base class which we use put our parameters. All the other classes inherit from this\n",
    "class BacktestParameters:\n",
    "    \n",
    "    def __init__(self, stk_symbols, start, end, lookback_alpha, lev):\n",
    "        #the stock symbols\n",
    "        self.stk_symbols = stk_symbols\n",
    "        #start of the data series\n",
    "        self.start = start\n",
    "        #end of the data series\n",
    "        self.end = end\n",
    "        #index security\n",
    "        #the lookback period for calculating alpha and idiosyncratic volatility\n",
    "        self.lookback = lookback_alpha\n",
    "        #leverage to apply to the strategy\n",
    "        self.lev = lev\n",
    "\n",
    "#class for pulling the yahoo finance data and cleaning so we have monthly data\n",
    "class Data(BacktestParameters):\n",
    "    \n",
    "    def __init__(self, bp):\n",
    "        #inherit from the base class\n",
    "        self.stk_symbols = bp.stk_symbols\n",
    "        self.start = bp.start\n",
    "        self.end = bp.end\n",
    "        self.lookback = bp.lookback\n",
    "        \n",
    "    #method for get getting the adjusted closes from yahoo\n",
    "    def get_data(self):\n",
    "        close = pd.DataFrame()\n",
    "\n",
    "        for i in self.stk_symbols:\n",
    "\n",
    "            df = yf.download(i, start=self.start, end=self.end, progress=False)\n",
    "            df = pd.DataFrame(df['Adj Close'])\n",
    "            df.columns = [i]\n",
    "            if close.empty:\n",
    "                close = df.copy()\n",
    "            else:\n",
    "                close = pd.concat([close, df], axis = 1)\n",
    "\n",
    "        #get the daily returns\n",
    "        returns = close.pct_change()[1:]\n",
    "\n",
    "        print(returns.head())\n",
    "        \n",
    "        return returns\n",
    "    \n",
    "    #converts the daily returns to a geometric return for the month\n",
    "    def convert_monthly(self, returns):\n",
    "        returns = returns.resample('M').agg(lambda x: (x + 1).prod(skipna = True) - 1)\n",
    "        \n",
    "        #the geometric returns convert null values at the beginning of the time series to zeros.\n",
    "        #this converts the data back to null values so we dont allocate to data that does not exist \n",
    "        for i in returns.columns:\n",
    "            found = False\n",
    "            for date, row in returns.loc[:,i].iteritems():\n",
    "                if row == 0.0 and ~found:\n",
    "                    returns.loc[date, i] = np.nan\n",
    "                else:\n",
    "                    found = True\n",
    "        print(returns)\n",
    "        return returns\n",
    "    \n",
    "    \n",
    "    #this method takes a dataframe and converts to a binary output based off the center variable\n",
    "    def get_binary(self, df_input, center = 0.0):\n",
    "        \n",
    "        binary_alpha = df_input.astype(float)\n",
    "        #greater than the center var is a 1\n",
    "        binary_alpha[binary_alpha >= center] = 1.0\n",
    "        #less than the center var is a 0.0\n",
    "        binary_alpha[binary_alpha < center] = 0.0\n",
    "        \n",
    "        return binary_alpha\n",
    "        \n",
    "#class for the backtesting of our classification\n",
    "class Backtest():\n",
    "    #instantiate with the backtest parameters with the returns data\n",
    "    def __init__(self, bp, returns, mode):\n",
    "        #the stock symbols\n",
    "        self.stk_symbols = bp.stk_symbols\n",
    "        #start of the data series\n",
    "        self.start = bp.start\n",
    "        #end of the data series\n",
    "        self.end = bp.end\n",
    "        #index security\n",
    "        #the lookback period for calculating alpha\n",
    "        self.lookback = bp.lookback\n",
    "        self.returns = returns\n",
    "        self.mode = mode\n",
    "        \n",
    "        \n",
    "    def check_new_factor(self, backtest, factor_model, index_symbol):\n",
    "        \n",
    "        new_factor = pd.DataFrame(backtest.mean(axis = 1))\n",
    "        new_factor.columns = ['portfolio']\n",
    "\n",
    "        Y = factor_model.loc[new_factor.index, index_symbol]\n",
    "        Y = pd.DataFrame(Y)\n",
    "        X = factor_model.loc[new_factor.index]\n",
    "        X = pd.concat([new_factor, X], axis = 1)\n",
    "        X['intercept'] = 1.0\n",
    "        X = X.shift(1).dropna(axis = 0)\n",
    "        Y = Y.iloc[1:]\n",
    "        model = sm.OLS(Y,X, missing = 'drop')\n",
    "        results = model.fit()\n",
    "        print(results.summary())  \n",
    "        betas = results.params\n",
    "\n",
    "        #2nd step. regress all asset returns for a fixed time period against the estimated betas to determine the risk premium for each factor.\n",
    "\n",
    "        df = df.dropna(axis = 0, how = 'any')\n",
    "        \n",
    "        \n",
    "        try:\n",
    "            result = fama_macbeth(df,'period','portfolio',['Mkt-RF', 'SMB', 'HML', 'RMW', 'CMA'],intercept=True)\n",
    "            fm_sum = fm_summary(result)\n",
    "            print(fm_sum)\n",
    "        except:\n",
    "            print('error famma macbeth')\n",
    "  \n",
    "            \n",
    "    \"\"\"\n",
    "    this method gets the equal weight portfolio of our strategy and compares to the factor model of choice. \n",
    "    Takes the backtest dataframe which is the actual returns of the strategy.\n",
    "    \"\"\"\n",
    "    \n",
    "    def factor_results(self, backtest, factor_model):\n",
    "        \n",
    "        port= pd.DataFrame(backtest.mean(axis = 1))\n",
    "        port.columns = ['portfolio']\n",
    "\n",
    "        #1st step. run the regression of factors on the portfolio\n",
    "        Y = pd.DataFrame(port)\n",
    "        X = factor_model.loc[port.index]\n",
    "        X['intercept'] = 1.0\n",
    "        model = sm.OLS(Y,X,missing = 'drop')\n",
    "        results = model.fit()\n",
    "        print(results.summary())  \n",
    "        betas = results.params\n",
    "\n",
    "        #2nd step. regress all asset returns for a fixed time period against the estimated betas to determine the risk premium for each factor.\n",
    "        df= pd.concat([Y,X], axis = 1)\n",
    "        df.loc[:,'period'] = df.index\n",
    "        df = df.dropna(axis = 0, how = 'any')\n",
    "        \n",
    "        \n",
    "        try:\n",
    "            result = fama_macbeth(df,'period','portfolio',['Mkt-RF', 'SMB', 'HML', 'RMW', 'CMA'],intercept=True)\n",
    "            fm_sum = fm_summary(result)\n",
    "            print(fm_sum)\n",
    "        except:\n",
    "            print('error famma macbeth')\n",
    "\n",
    " \n",
    "    \n",
    "    #this method is for actually running the backtest and getting the portfolios returns and allocations\n",
    "    def run_backtest(self, input_classifiers, lookback_backtest, inputs, outputs,  ensemble = 'no', trade_type = 'both'):\n",
    "        \n",
    "        \"\"\"\n",
    "        the input_classifiers is a string of which classifier to use. This can be an array for multiple classifiers\n",
    "        lookback_test is an integer for the time length to use for the feature set to use for the analysis\n",
    "        inputs is a dataframe of the feature set\n",
    "        output is a dataframe of the output variable to train our feature set on. This is returns across the assets\n",
    "        for analysis\n",
    "        ensemble is a yes or not string for whether to take an array of classifiers and a voting method to get \n",
    "        asset returns\n",
    "        trade_type: this determines if the portfolio is long only, short only, or both\n",
    "        \"\"\"\n",
    "        \n",
    "        #gets the lowercase sting of the ensemble input.\n",
    "        ensemble = ensemble.lower()\n",
    "        \n",
    "        #if we input multiple classifiers this converts the system to an ensemble output. You can only input one\n",
    "        #classifier at a time or an ensemble system\n",
    "        if ensemble == 'no' and len(input_classifiers) > 1:\n",
    "            print(\"For non emsemble systems the amount of input classifiers are restricted to one. The following backtest will be changed to a ensemble system\")\n",
    "            ensemble = 'yes'\n",
    "        \n",
    "        \n",
    "        #dictionary to convert the classifiers string inputs to actual sklearn classifiers\n",
    "        classifiers = {\"Nearest Neighbors\" : KNeighborsClassifier(3), \\\n",
    "                       \"Linear SVM\" : SVC(),\\\n",
    "                        \"RBF SVM\": SVC(gamma=2, C=1), \\\n",
    "                        \"Gaussian Process\" : GaussianProcessClassifier(1.0 * RBF(1.0)), \\\n",
    "                        \"Decision Tree\" : DecisionTreeClassifier(max_depth=5), \\\n",
    "                        \"Random Forest\" : RandomForestClassifier(max_depth=3, n_estimators=2, max_features=1, random_state=1), \\\n",
    "                        \"Neural Net\": MLPClassifier(solver='adam', learning_rate = 'adaptive', alpha=1e-3, hidden_layer_sizes=(5),max_iter= 10000, random_state=1), \\\n",
    "                        \"AdaBoost\": AdaBoostClassifier(), \\\n",
    "                        \"Naive Bayes\": GaussianNB(), \\\n",
    "                        \"QDA\": QuadraticDiscriminantAnalysis()}\n",
    "\n",
    "        #create a blank dataframe for our backtest data\n",
    "        ml_backtest = pd.DataFrame()\n",
    "        ml_weights = pd.DataFrame()\n",
    "\n",
    "        #iterate through each symbol and run the backtest on the symbol\n",
    "        for ticker in inputs.keys():\n",
    "\n",
    "            count = 0\n",
    "\n",
    "            #instantiate a dataframe for our backtest outputs for one ticker. we can only run the backtest on the index of \n",
    "            #the inputs. we remove the lookback period for analysis\n",
    "            \n",
    "            backtest = pd.DataFrame()\n",
    "            weights = pd.DataFrame()\n",
    "            \n",
    "            #iterate through the inputs\n",
    "            for ix, row in inputs[ticker].iterrows(): \n",
    "\n",
    "                if count >= lookback_backtest:\n",
    "                    #the analysis df does not include the current row\n",
    "                    analysis = inputs[ticker][count-lookback_backtest:count]\n",
    "\n",
    "                    #the y var is the binary returns of the ticker\n",
    "                    y = outputs[ticker].loc[analysis.index][1:].copy()\n",
    "                    #the x var is the returns for the ticker on the analysis index lagged by 1\n",
    "                    x = inputs[ticker].loc[analysis.index].shift(1)[1:].copy()\n",
    "                    #test x represents the yesterdays x value, this is for the outsample prediction on y\n",
    "                    test_x = inputs[ticker].loc[analysis.index].tail(1)\n",
    "                    \n",
    "                    #to run a single classifier\n",
    "                    if ensemble == 'no':\n",
    "                        for name in input_classifiers:\n",
    "                            #fit the classifier to the inputs\n",
    "                            clf = classifiers[name]\n",
    "                            try:\n",
    "                                clf.fit(x.to_numpy(), y.values.ravel())\n",
    "                                #make a prediction on the input features \n",
    "                                predict = clf.predict(x.to_numpy())\n",
    "                                predict = pd.DataFrame(data = predict, index = y.index, columns = ['predict'])\n",
    "                                #mse = np.sum((y.values - predict.values.T)**2)\n",
    "                                #predict the last observation in the feature set to predict y tomorrow\n",
    "                                outsample = clf.predict(test_x.to_numpy())[0]\n",
    "                            except:\n",
    "                                outsample = np.nan\n",
    "                                \n",
    "                        #if the classifier is one. we long the security times the leverage\n",
    "                        if trade_type == 'both' and outsample != np.nan:\n",
    "                            if outsample == 1.0:\n",
    "                                backtest.loc[ix, ticker]  = returns.loc[ix, ticker] * lev\n",
    "                                weights.loc[ix, ticker] = 1.0\n",
    "                            #if the classifier is 0 we can choose to short the security or be long only\n",
    "                            else:\n",
    "                                backtest.loc[ix, ticker]  = -returns.loc[ix, ticker] * lev\n",
    "                                weights.loc[ix, ticker] = -1.0\n",
    "                                \n",
    "                        elif trade_type == 'short' and outsample != np.nan:\n",
    "                            if outsample == 1.0:\n",
    "                                backtest.loc[ix, ticker]  = np.nan\n",
    "                                weights.loc[ix, ticker] = np.nan\n",
    "                            #if the classifier is 0 we can choose to short the security or be long only\n",
    "                            else:\n",
    "                                backtest.loc[ix, ticker]  = -returns.loc[ix, ticker] * lev\n",
    "                                weights.loc[ix, ticker] = -1.0\n",
    "                                \n",
    "                        elif trade_type == 'long' and outsample != np.nan:\n",
    "                            if outsample == 1.0:\n",
    "                                backtest.loc[ix, ticker]  = returns.loc[ix, ticker] * lev\n",
    "                                weights.loc[ix, ticker] = 1.0\n",
    "                            #if the classifier is 0 we can choose to short the security or be long only\n",
    "                            else:\n",
    "                                backtest.loc[ix, ticker]  = np.nan\n",
    "                                weights.loc[ix, ticker] = np.nan\n",
    "                        else:\n",
    "                            backtest.loc[ix, ticker]  = np.nan\n",
    "                            weights.loc[ix, ticker] = np.nan\n",
    "                            \n",
    "                    #to do the voting method on all the classifiers\n",
    "                    else:\n",
    "                        all_outsample = []\n",
    "                        for name in input_classifiers:\n",
    "                            clf = classifiers[name]\n",
    "                            clf.fit(x.to_numpy(), y.values.ravel())\n",
    "                            predict = clf.predict(x.to_numpy())\n",
    "                            predict = pd.DataFrame(data = predict, index = y.index, columns = ['predict'])\n",
    "                            #mse = np.sum((y.values - predict.values.T)**2)\n",
    "                            outsample = clf.predict(test_x.to_numpy())[0]\n",
    "                            all_outsample.append(outsample)\n",
    "                        #take the average of the classfier outputs \n",
    "                        avg = sum(all_outsample) / len(all_outsample)  \n",
    "                        #if greater than .5, then go long the security. this paramber could be optimized\n",
    "                        if avg >= 0.5:\n",
    "                            backtest.loc[ix, ticker]  = returns.loc[ix, ticker] * lev\n",
    "                            weights.loc[ix, ticker] = 1.0\n",
    "                            \n",
    "                        #if the classifier is 0 we can choose to short the security or be long only\n",
    "                        else:\n",
    "                            backtest.loc[ix, ticker]  = -returns.loc[ix, ticker] * lev\n",
    "                            weights.loc[ix, ticker] = -1.0\n",
    "                count = count + 1\n",
    "                \n",
    "            #concatentate the backtest for one ticker with the rest to give the portfolio. \n",
    "            if ml_backtest.empty:\n",
    "                ml_backtest = backtest.copy()\n",
    "                ml_weights = weights.copy()\n",
    "            else:\n",
    "                ml_backtest = pd.concat([ml_backtest, backtest], axis = 1)\n",
    "                ml_weights = pd.concat([ml_weights, weights], axis = 1)\n",
    "\n",
    "        #return a dataframe of all the backtests on input tickers\n",
    "        return ml_backtest, ml_weights\n",
    "        \n",
    "        \n",
    "        "
   ]
  },
  {
   "cell_type": "code",
   "execution_count": 26,
   "metadata": {},
   "outputs": [],
   "source": [
    "crsp_data = pd.read_csv(os.path.join(os.getcwd(), 'crsp_data.csv'),low_memory=False)\n",
    "crsp_data['market_cap'] = (crsp_data['PRC'] * crsp_data['SHROUT']).abs()\n",
    "crsp_data.loc[:,'date'] = pd.to_datetime(crsp_data.loc[:,'date'])"
   ]
  },
  {
   "cell_type": "code",
   "execution_count": 27,
   "metadata": {},
   "outputs": [
    {
     "name": "stdout",
     "output_type": "stream",
     "text": [
      "         Mkt-RF     SMB     HML     RMW     CMA      RF\n",
      "1963-08 -0.0039 -0.0047 -0.0083  0.0066 -0.0115  0.0027\n",
      "1963-09  0.0507 -0.0079  0.0167  0.0040 -0.0040  0.0025\n",
      "1963-10 -0.0157 -0.0048  0.0018 -0.0076  0.0024  0.0027\n",
      "1963-11  0.0253 -0.0129 -0.0010  0.0275 -0.0224  0.0029\n",
      "1963-12 -0.0085 -0.0084  0.0171 -0.0045  0.0222  0.0027\n",
      "PERMNO      10001     10002     10009     10012     10016     10019     10025  \\\n",
      "date                                                                            \n",
      "2000-01 -0.044118 -0.025641 -0.008475 -0.097276 -0.099338 -0.416149  0.237864   \n",
      "2000-02  0.015385 -0.163158 -0.028120  0.133621  0.132353  0.510638 -0.035294   \n",
      "2000-03 -0.015758  0.028931  1.235033  0.152091 -0.019481 -0.309859  0.028455   \n",
      "2000-04  0.011719  0.012346  0.018849 -0.287129  0.033113 -0.020408 -0.335968   \n",
      "2000-05 -0.023166 -0.024390  0.019318 -0.157407 -0.062500 -0.052083 -0.214286   \n",
      "\n",
      "PERMNO      10026     10028     10032  ...  93423  93426  93428  93429  93430  \\\n",
      "date                                   ...                                      \n",
      "2000-01 -0.067073 -0.250000  0.056818  ...    NaN    NaN    NaN    NaN    NaN   \n",
      "2000-02 -0.035948  0.333333  0.214382  ...    NaN    NaN    NaN    NaN    NaN   \n",
      "2000-03  0.077966 -0.125000  0.179856  ...    NaN    NaN    NaN    NaN    NaN   \n",
      "2000-04 -0.198113  0.357143  0.150094  ...    NaN    NaN    NaN    NaN    NaN   \n",
      "2000-05 -0.066667  0.245614  0.089723  ...    NaN    NaN    NaN    NaN    NaN   \n",
      "\n",
      "PERMNO   93432  93433  93434  93435  93436  \n",
      "date                                        \n",
      "2000-01    NaN    NaN    NaN    NaN    NaN  \n",
      "2000-02    NaN    NaN    NaN    NaN    NaN  \n",
      "2000-03    NaN    NaN    NaN    NaN    NaN  \n",
      "2000-04    NaN    NaN    NaN    NaN    NaN  \n",
      "2000-05    NaN    NaN    NaN    NaN    NaN  \n",
      "\n",
      "[5 rows x 11168 columns]\n"
     ]
    }
   ],
   "source": [
    "crsp_data = crsp_data.loc[crsp_data['SHRCD'].isin([10., 11.])]\n",
    "crsp_data = crsp_data.loc[crsp_data['EXCHCD'].isin([1., 2., 3., 4.])]\n",
    "crsp_data = crsp_data[~crsp_data['RET'].isin(['C', 'B'])]\n",
    "crsp_data['RET'] = crsp_data['RET'].astype('float')\n",
    "crsp_pivot = crsp_data.pivot_table(values='RET',index='date',columns=['PERMNO'])\n",
    "crsp_pivot = crsp_pivot.loc[crsp_pivot.index > pd.Timestamp(dt.date(2000, 1, 1))]\n",
    "crsp_pivot.index = crsp_pivot.index.to_period('M')\n",
    "\n",
    "ff_factors = pd.read_csv('F-F_Research_Data_5_Factors_2x3.csv', index_col = 0)\n",
    "ff_factors.index = pd.to_datetime(ff_factors.index, format= '%Y%m')\n",
    "ff_factors = ff_factors.copy().shift(1).dropna()\n",
    "ff_factors.index = ff_factors.index.to_period('M')\n",
    "\n",
    "ff_factors[ff_factors <= -99.] = np.nan\n",
    "ff_factors = ff_factors / 100.0\n",
    "\n",
    "factor_model = ff_factors.copy().dropna(axis = 0, how = 'any')\n",
    "rf = factor_model[['RF']]\n",
    "factor_model = factor_model[['Mkt-RF', 'SMB', 'HML', 'RMW', 'CMA']]\n",
    "\n",
    "index_symbol = 'Mkt-RF'\n",
    "\n",
    "crsp_pivot = crsp_pivot.dropna(axis = 1, how = 'all')\n",
    "\n",
    "print(ff_factors.head(5))\n",
    "\n",
    "print(crsp_pivot.head(5))"
   ]
  },
  {
   "cell_type": "code",
   "execution_count": 28,
   "metadata": {},
   "outputs": [],
   "source": [
    "#start date for data\n",
    "start = '2001-01-01'\n",
    "#end date for data\n",
    "end = '2020-01-01'\n",
    "\n",
    "#the lookback for alpha feature\n",
    "lookback = 12\n",
    "#control the leverage\n",
    "lev = 1.\n",
    "stk_symbols  = crsp_pivot.columns\n",
    "returns = crsp_pivot.copy()\n",
    "\n",
    "#set the backtest parameters\n",
    "bp = BacktestParameters(stk_symbols, start, end, lookback, lev  )\n",
    "bt = Backtest(bp, returns, mode = 'insample')\n",
    "d = Data(bp)\n",
    "\n"
   ]
  },
  {
   "cell_type": "code",
   "execution_count": 29,
   "metadata": {},
   "outputs": [
    {
     "name": "stderr",
     "output_type": "stream",
     "text": [
      "C:\\Users\\jjanko\\AppData\\Local\\Continuum\\anaconda3\\lib\\site-packages\\numpy\\core\\fromnumeric.py:2389: FutureWarning: Method .ptp is deprecated and will be removed in a future version. Use numpy.ptp instead.\n",
      "  return ptp(axis=axis, out=out, **kwargs)\n"
     ]
    },
    {
     "name": "stdout",
     "output_type": "stream",
     "text": [
      "         10001  10002  10009  10012  10016  10019  10025     10026     10028  \\\n",
      "2019-08    NaN    NaN    NaN    NaN    NaN    NaN    NaN  0.003031  0.152162   \n",
      "2019-09    NaN    NaN    NaN    NaN    NaN    NaN    NaN  0.022773  0.147192   \n",
      "2019-10    NaN    NaN    NaN    NaN    NaN    NaN    NaN  0.027891  0.163134   \n",
      "2019-11    NaN    NaN    NaN    NaN    NaN    NaN    NaN  0.027485  0.184427   \n",
      "2019-12    NaN    NaN    NaN    NaN    NaN    NaN    NaN  0.014644  0.199193   \n",
      "\n",
      "            10032  ...     93423     93426  93428  93429  93430  93432  93433  \\\n",
      "2019-08  0.008266  ... -0.026091  0.002473    NaN    NaN    NaN    NaN    NaN   \n",
      "2019-09  0.026625  ... -0.016301  0.007218    NaN    NaN    NaN    NaN    NaN   \n",
      "2019-10  0.025087  ... -0.014235 -0.001337    NaN    NaN    NaN    NaN    NaN   \n",
      "2019-11  0.026017  ... -0.013534  0.009272    NaN    NaN    NaN    NaN    NaN   \n",
      "2019-12  0.033047  ... -0.039735  0.004567    NaN    NaN    NaN    NaN    NaN   \n",
      "\n",
      "            93434  93435     93436  \n",
      "2019-08 -0.025282    NaN -0.029353  \n",
      "2019-09 -0.003977    NaN -0.003290  \n",
      "2019-10 -0.001582    NaN -0.003134  \n",
      "2019-11  0.027478    NaN -0.010985  \n",
      "2019-12  0.017333    NaN -0.001331  \n",
      "\n",
      "[5 rows x 11168 columns]\n",
      "         10001  10002  10009  10012  10016  10019  10025     10026     10028  \\\n",
      "2019-08    NaN    NaN    NaN    NaN    NaN    NaN    NaN  0.032089  0.285024   \n",
      "2019-09    NaN    NaN    NaN    NaN    NaN    NaN    NaN  0.040148  0.298002   \n",
      "2019-10    NaN    NaN    NaN    NaN    NaN    NaN    NaN  0.042872  0.327325   \n",
      "2019-11    NaN    NaN    NaN    NaN    NaN    NaN    NaN  0.042854  0.323225   \n",
      "2019-12    NaN    NaN    NaN    NaN    NaN    NaN    NaN  0.049879  0.323951   \n",
      "\n",
      "            10032  ...     93423     93426  93428  93429  93430  93432  93433  \\\n",
      "2019-08  0.078396  ...  0.082558  0.084374    NaN    NaN    NaN    NaN    NaN   \n",
      "2019-09  0.066574  ...  0.093218  0.083991    NaN    NaN    NaN    NaN    NaN   \n",
      "2019-10  0.063676  ...  0.098350  0.091287    NaN    NaN    NaN    NaN    NaN   \n",
      "2019-11  0.063999  ...  0.101663  0.081584    NaN    NaN    NaN    NaN    NaN   \n",
      "2019-12  0.062953  ...  0.085567  0.068689    NaN    NaN    NaN    NaN    NaN   \n",
      "\n",
      "            93434  93435     93436  \n",
      "2019-08  0.176989    NaN  0.089633  \n",
      "2019-09  0.174861    NaN  0.070135  \n",
      "2019-10  0.173952    NaN  0.070067  \n",
      "2019-11  0.162803    NaN  0.077875  \n",
      "2019-12  0.157325    NaN  0.068229  \n",
      "\n",
      "[5 rows x 11168 columns]\n"
     ]
    }
   ],
   "source": [
    "#initialize the alpha dataframe\n",
    "df_alpha = pd.DataFrame()\n",
    "#initialize the idiosyncratic volatility as well\n",
    "idiosyncratic_vol = pd.DataFrame()\n",
    "\n",
    "count = 0\n",
    "#iterate through the monthly data. At each point in time we find the insample alpha and idiosyncratic vol\n",
    "for ix, row in returns.iterrows(): \n",
    "    #check to make sure we have at least the lookback for analysis\n",
    "    if count >= lookback:\n",
    "        \"\"\"\n",
    "        note that python will not return the last part of the index. We want to by inclusive of this\n",
    "        since this is an insample measure\n",
    "        \"\"\"\n",
    "        analysis = returns[count-lookback:count]\n",
    "\n",
    "        for ticker in returns.columns:\n",
    "                #the dependent variable is our security and index var is the independent var\n",
    "            if len(analysis[ticker].dropna().index) >= lookback*.75 and ~analysis[ticker].tail(1).isna().values[0]:\n",
    "                try:\n",
    "                    y = pd.concat([analysis[ticker], rf.loc[analysis.index]], axis = 1)\n",
    "                    y = pd.DataFrame(y.loc[:,ticker] - y.loc[:,rf.columns[0]], columns = [ticker])\n",
    "                    # the index is your independent variable\n",
    "                    x = factor_model.loc[analysis.index]\n",
    "                    #add a constant so we can get the alpha\n",
    "                    x = sm.add_constant(x)\n",
    "\n",
    "                    #use simple ols\n",
    "                    mod = sm.OLS(y, x, missing='drop')\n",
    "                    res = mod.fit()\n",
    "                    #get the alpha\n",
    "                    alpha = res.params['const']\n",
    "                    #add the results to the alpha dataframe for analysis later\n",
    "                    df_alpha.loc[ix, ticker] = alpha\n",
    "                    #the line below is in case I want to analyze a simple difference \n",
    "                    #df_alpha.loc[ix, ticker] = (analysis[ticker] - analysis[index_security ]).mean()\n",
    "                    #find the idiosyncratic volatility. Simply the residual squared. Note this is monthly\n",
    "                    idiosyncratic_vol.loc[ix, ticker] = res.resid.std()\n",
    "                except:\n",
    "                    #if we have missing data we populate our analysis dataframe with null values \n",
    "                    df_alpha.loc[ix, ticker] = np.nan\n",
    "                    idiosyncratic_vol.loc[ix, ticker] = np.nan\n",
    "            else:\n",
    "                df_alpha.loc[ix, ticker] = np.nan\n",
    "                idiosyncratic_vol.loc[ix, ticker] = np.nan\n",
    "                \n",
    "    #iterate to the next point in our data\n",
    "    count = count + 1\n",
    "\n",
    "#notice that I populated the alpha and idiosyncratic volatility with the full returns dataframe. \n",
    "#these two lines remove the lookback period for clean reading\n",
    "\n",
    "#df_alpha = df_alpha.dropna(axis = 0, how = 'all')\n",
    "df_alpha = df_alpha.shift(1).dropna(axis =0, how = 'all')\n",
    "idiosyncratic_vol = idiosyncratic_vol.shift(1).dropna(axis = 0, how = 'all')\n",
    "binary_alpha = d.get_binary(df_alpha)\n",
    "\n",
    "print(df_alpha.tail(5))\n",
    "print(idiosyncratic_vol.tail(5))"
   ]
  },
  {
   "cell_type": "code",
   "execution_count": 30,
   "metadata": {},
   "outputs": [],
   "source": [
    "#the next few lines are a variety of feature to use\n",
    "\n",
    "#get the rolling means of returns as a momentum feature. Subtract the last month's return\n",
    "#12 month momentum factor\n",
    "rolling_mean_12 = ((returns.rolling(window = 12).mean() - returns.rolling(window = 1).mean()) )[12:]\n",
    "#6 month momentum factor\n",
    "rolling_mean_6 = ((returns.rolling(window = 6).mean() - returns.rolling(window = 1).mean()) )[6:]\n",
    "\n",
    "rolling_std_12 = (returns.rolling(window = 12).std() )[12:]\n",
    "\n",
    "#convert the momentum factor a binary variable. The center is optimized to increase strategy sharpe\n",
    "#turns the momentum factor to a 1 if the mean average return over past 12 months is over 15%/12\n",
    "binary_mean_12 = d.get_binary(rolling_mean_12, center = 0.0/12)\n",
    "binary_mean_6 = d.get_binary(rolling_mean_6, center = 0.0/12)\n",
    "#convert the output feature to a binary variable for training the classifiers\n",
    "binary_returns = d.get_binary(returns, center = 0.0/12)\n",
    "\n",
    "#creates a dictionary of different features for analysis based on ticker keys\n",
    "feature_list = [binary_alpha]\n",
    "\n",
    "feature_set = {}\n",
    "\n",
    "for i in feature_list:\n",
    "    i = i.dropna(axis = 0, how = 'all')\n",
    "    for j in i.columns:\n",
    "        if j not in feature_set.keys():\n",
    "            i[j].rename('0', inplace = True)\n",
    "            feature_set[j] = pd.DataFrame(i[j].copy())\n",
    "        else:\n",
    "            i[j].rename(str(len(feature_set[j].columns)), inplace = True)\n",
    "            feature_set[j] = pd.concat([feature_set[j], i[j].copy()], axis = 1).dropna(axis = 0, how = 'any')\n",
    "        #remove rows where we do not have features for the whole portfolio.\n",
    "        feature_set[j].dropna(axis = 0, how = 'any', inplace = True)"
   ]
  },
  {
   "cell_type": "markdown",
   "metadata": {},
   "source": [
    "# KNN "
   ]
  },
  {
   "cell_type": "code",
   "execution_count": 31,
   "metadata": {},
   "outputs": [],
   "source": [
    "backtest, weights = bt.run_backtest(input_classifiers= [\"Nearest Neighbors\"], lookback_backtest = 12, inputs = feature_set, outputs = binary_returns,  ensemble = 'no', trade_type = 'both')"
   ]
  },
  {
   "cell_type": "code",
   "execution_count": 32,
   "metadata": {},
   "outputs": [
    {
     "data": {
      "text/plain": [
       "<matplotlib.axes._subplots.AxesSubplot at 0x1a1bccc3a90>"
      ]
     },
     "execution_count": 32,
     "metadata": {},
     "output_type": "execute_result"
    },
    {
     "data": {
      "image/png": "[encoded data removed]",
      "text/plain": [
       "<Figure size 432x288 with 1 Axes>"
      ]
     },
     "metadata": {
      "needs_background": "light"
     },
     "output_type": "display_data"
    }
   ],
   "source": [
    "backtest.mean(axis = 1).cumsum().plot()"
   ]
  },
  {
   "cell_type": "code",
   "execution_count": 33,
   "metadata": {},
   "outputs": [
    {
     "name": "stdout",
     "output_type": "stream",
     "text": [
      "                            OLS Regression Results                            \n",
      "==============================================================================\n",
      "Dep. Variable:              portfolio   R-squared:                       0.037\n",
      "Model:                            OLS   Adj. R-squared:                  0.013\n",
      "Method:                 Least Squares   F-statistic:                     1.585\n",
      "Date:                Sun, 29 Nov 2020   Prob (F-statistic):              0.166\n",
      "Time:                        13:00:46   Log-Likelihood:                 572.34\n",
      "No. Observations:                 215   AIC:                            -1133.\n",
      "Df Residuals:                     209   BIC:                            -1112.\n",
      "Df Model:                           5                                         \n",
      "Covariance Type:            nonrobust                                         \n",
      "==============================================================================\n",
      "                 coef    std err          t      P>|t|      [0.025      0.975]\n",
      "------------------------------------------------------------------------------\n",
      "Mkt-RF        -0.0708      0.034     -2.086      0.038      -0.138      -0.004\n",
      "SMB           -0.0074      0.053     -0.139      0.889      -0.112       0.098\n",
      "HML            0.0077      0.056      0.136      0.892      -0.103       0.118\n",
      "RMW           -0.0179      0.068     -0.261      0.794      -0.153       0.117\n",
      "CMA            0.0990      0.086      1.156      0.249      -0.070       0.268\n",
      "intercept      0.0015      0.001      1.223      0.223      -0.001       0.004\n",
      "==============================================================================\n",
      "Omnibus:                       33.031   Durbin-Watson:                   1.438\n",
      "Prob(Omnibus):                  0.000   Jarque-Bera (JB):              140.670\n",
      "Skew:                          -0.467   Prob(JB):                     2.84e-31\n",
      "Kurtosis:                       6.851   Cond. No.                         79.5\n",
      "==============================================================================\n",
      "\n",
      "Warnings:\n",
      "[1] Standard Errors assume that the covariance matrix of the errors is correctly specified.\n",
      "               mean  std_error     tstat\n",
      "intercept  0.001090   0.001168  0.933722\n",
      "Mkt-RF    -0.000108   0.000079 -1.367420\n",
      "SMB       -0.000017   0.000029 -0.592689\n",
      "HML        0.000008   0.000040  0.211729\n",
      "RMW        0.000023   0.000027  0.828801\n",
      "CMA        0.000028   0.000018  1.539167\n"
     ]
    }
   ],
   "source": [
    "bt.factor_results(backtest, factor_model)"
   ]
  },
  {
   "cell_type": "code",
   "execution_count": 34,
   "metadata": {},
   "outputs": [
    {
     "data": {
      "text/plain": [
       "<matplotlib.axes._subplots.AxesSubplot at 0x1a1ab394438>"
      ]
     },
     "execution_count": 34,
     "metadata": {},
     "output_type": "execute_result"
    },
    {
     "data": {
      "image/png": "[encoded data removed]",
      "text/plain": [
       "<Figure size 432x288 with 1 Axes>"
      ]
     },
     "metadata": {
      "needs_background": "light"
     },
     "output_type": "display_data"
    }
   ],
   "source": [
    "backtest.mean(axis = 1).cumsum().plot()"
   ]
  },
  {
   "cell_type": "markdown",
   "metadata": {},
   "source": [
    "### Long only"
   ]
  },
  {
   "cell_type": "code",
   "execution_count": 35,
   "metadata": {},
   "outputs": [
    {
     "name": "stdout",
     "output_type": "stream",
     "text": [
      "                            OLS Regression Results                            \n",
      "==============================================================================\n",
      "Dep. Variable:              portfolio   R-squared:                       0.059\n",
      "Model:                            OLS   Adj. R-squared:                  0.037\n",
      "Method:                 Least Squares   F-statistic:                     2.644\n",
      "Date:                Sun, 29 Nov 2020   Prob (F-statistic):             0.0242\n",
      "Time:                        14:02:34   Log-Likelihood:                 339.12\n",
      "No. Observations:                 215   AIC:                            -666.2\n",
      "Df Residuals:                     209   BIC:                            -646.0\n",
      "Df Model:                           5                                         \n",
      "Covariance Type:            nonrobust                                         \n",
      "==============================================================================\n",
      "                 coef    std err          t      P>|t|      [0.025      0.975]\n",
      "------------------------------------------------------------------------------\n",
      "Mkt-RF         0.2256      0.100      2.247      0.026       0.028       0.423\n",
      "SMB           -0.3064      0.158     -1.945      0.053      -0.617       0.004\n",
      "HML            0.0260      0.166      0.156      0.876      -0.302       0.354\n",
      "RMW           -0.3051      0.203     -1.507      0.133      -0.704       0.094\n",
      "CMA            0.0440      0.253      0.174      0.862      -0.456       0.544\n",
      "intercept      0.0103      0.004      2.829      0.005       0.003       0.018\n",
      "==============================================================================\n",
      "Omnibus:                        8.699   Durbin-Watson:                   1.950\n",
      "Prob(Omnibus):                  0.013   Jarque-Bera (JB):               12.309\n",
      "Skew:                          -0.256   Prob(JB):                      0.00212\n",
      "Kurtosis:                       4.055   Cond. No.                         79.5\n",
      "==============================================================================\n",
      "\n",
      "Warnings:\n",
      "[1] Standard Errors assume that the covariance matrix of the errors is correctly specified.\n",
      "               mean  std_error     tstat\n",
      "intercept  0.010435   0.003500  2.981790\n",
      "Mkt-RF     0.000465   0.000224  2.075155\n",
      "SMB       -0.000035   0.000086 -0.406344\n",
      "HML        0.000012   0.000118  0.101548\n",
      "RMW       -0.000135   0.000077 -1.753411\n",
      "CMA        0.000010   0.000055  0.183350\n"
     ]
    },
    {
     "data": {
      "text/plain": [
       "<matplotlib.axes._subplots.AxesSubplot at 0x1a1998dc780>"
      ]
     },
     "execution_count": 35,
     "metadata": {},
     "output_type": "execute_result"
    },
    {
     "data": {
      "image/png": "[encoded data removed]",
      "text/plain": [
       "<Figure size 432x288 with 1 Axes>"
      ]
     },
     "metadata": {
      "needs_background": "light"
     },
     "output_type": "display_data"
    }
   ],
   "source": [
    "backtest, weights = bt.run_backtest(input_classifiers= [\"Nearest Neighbors\"], lookback_backtest = 12, inputs = feature_set, outputs = binary_returns,  ensemble = 'no', trade_type = 'long')\n",
    "bt.factor_results(backtest, factor_model)\n",
    "backtest.mean(axis = 1).cumsum().plot()"
   ]
  },
  {
   "cell_type": "markdown",
   "metadata": {},
   "source": [
    "### Short only"
   ]
  },
  {
   "cell_type": "code",
   "execution_count": 36,
   "metadata": {},
   "outputs": [
    {
     "name": "stdout",
     "output_type": "stream",
     "text": [
      "                            OLS Regression Results                            \n",
      "==============================================================================\n",
      "Dep. Variable:              portfolio   R-squared:                       0.058\n",
      "Model:                            OLS   Adj. R-squared:                  0.036\n",
      "Method:                 Least Squares   F-statistic:                     2.588\n",
      "Date:                Sun, 29 Nov 2020   Prob (F-statistic):             0.0270\n",
      "Time:                        15:04:09   Log-Likelihood:                 309.90\n",
      "No. Observations:                 215   AIC:                            -607.8\n",
      "Df Residuals:                     209   BIC:                            -587.6\n",
      "Df Model:                           5                                         \n",
      "Covariance Type:            nonrobust                                         \n",
      "==============================================================================\n",
      "                 coef    std err          t      P>|t|      [0.025      0.975]\n",
      "------------------------------------------------------------------------------\n",
      "Mkt-RF        -0.2702      0.115     -2.349      0.020      -0.497      -0.043\n",
      "SMB            0.3155      0.180      1.748      0.082      -0.040       0.671\n",
      "HML           -0.0278      0.190     -0.146      0.884      -0.403       0.348\n",
      "RMW            0.3166      0.232      1.365      0.174      -0.141       0.774\n",
      "CMA           -0.0130      0.290     -0.045      0.964      -0.585       0.559\n",
      "intercept     -0.0092      0.004     -2.208      0.028      -0.017      -0.001\n",
      "==============================================================================\n",
      "Omnibus:                        5.503   Durbin-Watson:                   1.939\n",
      "Prob(Omnibus):                  0.064   Jarque-Bera (JB):                8.078\n",
      "Skew:                          -0.033   Prob(JB):                       0.0176\n",
      "Kurtosis:                       3.947   Cond. No.                         79.5\n",
      "==============================================================================\n",
      "\n",
      "Warnings:\n",
      "[1] Standard Errors assume that the covariance matrix of the errors is correctly specified.\n",
      "                   mean  std_error     tstat\n",
      "intercept -9.544245e-03   0.004006 -2.382476\n",
      "Mkt-RF    -5.378238e-04   0.000256 -2.100759\n",
      "SMB        2.588587e-05   0.000100  0.257911\n",
      "HML       -1.422127e-05   0.000135 -0.105616\n",
      "RMW        1.580900e-04   0.000094  1.677400\n",
      "CMA       -9.296221e-07   0.000066 -0.014156\n"
     ]
    },
    {
     "data": {
      "text/plain": [
       "<matplotlib.axes._subplots.AxesSubplot at 0x1a199b46c18>"
      ]
     },
     "execution_count": 36,
     "metadata": {},
     "output_type": "execute_result"
    },
    {
     "data": {
      "image/png": "[encoded data removed]",
      "text/plain": [
       "<Figure size 432x288 with 1 Axes>"
      ]
     },
     "metadata": {
      "needs_background": "light"
     },
     "output_type": "display_data"
    }
   ],
   "source": [
    "backtest, weights = bt.run_backtest(input_classifiers= [\"Nearest Neighbors\"], lookback_backtest = 12, inputs = feature_set, outputs = binary_returns,  ensemble = 'no', trade_type = 'short')\n",
    "bt.factor_results(backtest, factor_model)\n",
    "backtest.mean(axis = 1).cumsum().plot()"
   ]
  },
  {
   "cell_type": "markdown",
   "metadata": {},
   "source": [
    "# Neural Net"
   ]
  },
  {
   "cell_type": "code",
   "execution_count": 37,
   "metadata": {},
   "outputs": [],
   "source": [
    "backtest, weights = bt.run_backtest(input_classifiers= [\"Neural Net\"], lookback_backtest = 12, inputs = feature_set, outputs = binary_returns,  ensemble = 'no')"
   ]
  },
  {
   "cell_type": "code",
   "execution_count": 38,
   "metadata": {},
   "outputs": [
    {
     "data": {
      "text/plain": [
       "2002-02   -0.008173\n",
       "2002-03    0.049457\n",
       "2002-04    0.013857\n",
       "2002-05   -0.001268\n",
       "2002-06   -0.011895\n",
       "2002-07   -0.047228\n",
       "2002-08   -0.004144\n",
       "2002-09   -0.022433\n",
       "2002-10   -0.013558\n",
       "2002-11   -0.041077\n",
       "2002-12    0.013748\n",
       "2003-01   -0.006763\n",
       "2003-02    0.002914\n",
       "2003-03    0.002360\n",
       "2003-04   -0.017192\n",
       "2003-05    0.008348\n",
       "2003-06    0.014979\n",
       "2003-07    0.046139\n",
       "2003-08    0.038084\n",
       "2003-09    0.013047\n",
       "2003-10    0.073044\n",
       "2003-11    0.033368\n",
       "2003-12    0.026414\n",
       "2004-01    0.058495\n",
       "2004-02    0.012511\n",
       "2004-03    0.002378\n",
       "2004-04   -0.025498\n",
       "2004-05    0.007107\n",
       "2004-06    0.022969\n",
       "2004-07   -0.037570\n",
       "             ...   \n",
       "2017-07    0.005922\n",
       "2017-08    0.000503\n",
       "2017-09    0.027006\n",
       "2017-10    0.012621\n",
       "2017-11    0.015082\n",
       "2017-12   -0.000787\n",
       "2018-01    0.019631\n",
       "2018-02   -0.015458\n",
       "2018-03    0.006167\n",
       "2018-04    0.005262\n",
       "2018-05    0.033079\n",
       "2018-06    0.007122\n",
       "2018-07    0.011956\n",
       "2018-08    0.031236\n",
       "2018-09   -0.007260\n",
       "2018-10   -0.044733\n",
       "2018-11    0.004762\n",
       "2018-12   -0.030773\n",
       "2019-01   -0.015470\n",
       "2019-02    0.023416\n",
       "2019-03   -0.010587\n",
       "2019-04    0.008514\n",
       "2019-05   -0.016476\n",
       "2019-06    0.028449\n",
       "2019-07    0.007490\n",
       "2019-08   -0.010232\n",
       "2019-09   -0.004907\n",
       "2019-10    0.010501\n",
       "2019-11    0.021186\n",
       "2019-12    0.016024\n",
       "Freq: M, Length: 215, dtype: float64"
      ]
     },
     "execution_count": 38,
     "metadata": {},
     "output_type": "execute_result"
    }
   ],
   "source": [
    "backtest.mean(axis = 1)"
   ]
  },
  {
   "cell_type": "code",
   "execution_count": 39,
   "metadata": {},
   "outputs": [
    {
     "name": "stdout",
     "output_type": "stream",
     "text": [
      "                            OLS Regression Results                            \n",
      "==============================================================================\n",
      "Dep. Variable:              portfolio   R-squared:                       0.040\n",
      "Model:                            OLS   Adj. R-squared:                  0.017\n",
      "Method:                 Least Squares   F-statistic:                     1.725\n",
      "Date:                Mon, 30 Nov 2020   Prob (F-statistic):              0.130\n",
      "Time:                        03:40:36   Log-Likelihood:                 503.99\n",
      "No. Observations:                 215   AIC:                            -996.0\n",
      "Df Residuals:                     209   BIC:                            -975.8\n",
      "Df Model:                           5                                         \n",
      "Covariance Type:            nonrobust                                         \n",
      "==============================================================================\n",
      "                 coef    std err          t      P>|t|      [0.025      0.975]\n",
      "------------------------------------------------------------------------------\n",
      "Mkt-RF        -0.0172      0.047     -0.368      0.713      -0.109       0.075\n",
      "SMB           -0.1184      0.073     -1.619      0.107      -0.263       0.026\n",
      "HML            0.0330      0.077      0.428      0.669      -0.119       0.185\n",
      "RMW           -0.1965      0.094     -2.089      0.038      -0.382      -0.011\n",
      "CMA            0.1569      0.118      1.332      0.184      -0.075       0.389\n",
      "intercept      0.0065      0.002      3.857      0.000       0.003       0.010\n",
      "==============================================================================\n",
      "Omnibus:                        4.714   Durbin-Watson:                   1.753\n",
      "Prob(Omnibus):                  0.095   Jarque-Bera (JB):                4.838\n",
      "Skew:                          -0.226   Prob(JB):                       0.0890\n",
      "Kurtosis:                       3.580   Cond. No.                         79.5\n",
      "==============================================================================\n",
      "\n",
      "Warnings:\n",
      "[1] Standard Errors assume that the covariance matrix of the errors is correctly specified.\n",
      "               mean  std_error     tstat\n",
      "intercept  0.005821   0.001612  3.611217\n",
      "Mkt-RF     0.000049   0.000081  0.599305\n",
      "SMB       -0.000022   0.000042 -0.528728\n",
      "HML        0.000025   0.000042  0.607228\n",
      "RMW       -0.000041   0.000034 -1.217466\n",
      "CMA        0.000047   0.000025  1.864591\n"
     ]
    },
    {
     "data": {
      "text/plain": [
       "<matplotlib.axes._subplots.AxesSubplot at 0x1a199146390>"
      ]
     },
     "execution_count": 39,
     "metadata": {},
     "output_type": "execute_result"
    },
    {
     "data": {
      "image/png": "[encoded data removed]",
      "text/plain": [
       "<Figure size 432x288 with 1 Axes>"
      ]
     },
     "metadata": {
      "needs_background": "light"
     },
     "output_type": "display_data"
    }
   ],
   "source": [
    "bt.factor_results(backtest, factor_model)\n",
    "backtest.mean(axis = 1).cumsum().plot()"
   ]
  },
  {
   "cell_type": "code",
   "execution_count": 40,
   "metadata": {},
   "outputs": [
    {
     "data": {
      "text/plain": [
       "0.24590492587627025"
      ]
     },
     "execution_count": 40,
     "metadata": {},
     "output_type": "execute_result"
    }
   ],
   "source": [
    "factor_model.mean(axis = 1).mean() / factor_model.mean(axis = 1).std()\n",
    "backtest.mean(axis = 1).mean() / backtest.mean(axis = 1).std()"
   ]
  },
  {
   "cell_type": "markdown",
   "metadata": {},
   "source": [
    "### Long only"
   ]
  },
  {
   "cell_type": "code",
   "execution_count": 41,
   "metadata": {},
   "outputs": [
    {
     "name": "stdout",
     "output_type": "stream",
     "text": [
      "                            OLS Regression Results                            \n",
      "==============================================================================\n",
      "Dep. Variable:              portfolio   R-squared:                       0.062\n",
      "Model:                            OLS   Adj. R-squared:                  0.040\n",
      "Method:                 Least Squares   F-statistic:                     2.782\n",
      "Date:                Mon, 30 Nov 2020   Prob (F-statistic):             0.0187\n",
      "Time:                        16:12:10   Log-Likelihood:                 347.23\n",
      "No. Observations:                 215   AIC:                            -682.5\n",
      "Df Residuals:                     209   BIC:                            -662.2\n",
      "Df Model:                           5                                         \n",
      "Covariance Type:            nonrobust                                         \n",
      "==============================================================================\n",
      "                 coef    std err          t      P>|t|      [0.025      0.975]\n",
      "------------------------------------------------------------------------------\n",
      "Mkt-RF         0.2174      0.097      2.249      0.026       0.027       0.408\n",
      "SMB           -0.3074      0.152     -2.027      0.044      -0.606      -0.008\n",
      "HML            0.0429      0.160      0.268      0.789      -0.273       0.359\n",
      "RMW           -0.3109      0.195     -1.594      0.112      -0.695       0.074\n",
      "CMA            0.0443      0.244      0.181      0.856      -0.437       0.526\n",
      "intercept      0.0099      0.004      2.830      0.005       0.003       0.017\n",
      "==============================================================================\n",
      "Omnibus:                        8.451   Durbin-Watson:                   1.955\n",
      "Prob(Omnibus):                  0.015   Jarque-Bera (JB):               10.148\n",
      "Skew:                          -0.318   Prob(JB):                      0.00626\n",
      "Kurtosis:                       3.854   Cond. No.                         79.5\n",
      "==============================================================================\n",
      "\n",
      "Warnings:\n",
      "[1] Standard Errors assume that the covariance matrix of the errors is correctly specified.\n",
      "               mean  std_error     tstat\n",
      "intercept  0.009984   0.003377  2.956734\n",
      "Mkt-RF     0.000454   0.000206  2.204216\n",
      "SMB       -0.000035   0.000083 -0.427423\n",
      "HML        0.000021   0.000113  0.182676\n",
      "RMW       -0.000136   0.000073 -1.851101\n",
      "CMA        0.000013   0.000053  0.241616\n"
     ]
    },
    {
     "data": {
      "text/plain": [
       "<matplotlib.axes._subplots.AxesSubplot at 0x1a1b98bb0f0>"
      ]
     },
     "execution_count": 41,
     "metadata": {},
     "output_type": "execute_result"
    },
    {
     "data": {
      "image/png": "[encoded data removed]",
      "text/plain": [
       "<Figure size 432x288 with 1 Axes>"
      ]
     },
     "metadata": {
      "needs_background": "light"
     },
     "output_type": "display_data"
    }
   ],
   "source": [
    "backtest, weights = bt.run_backtest(input_classifiers= [\"Neural Net\"], lookback_backtest = 12, inputs = feature_set, outputs = binary_returns,  ensemble = 'no', trade_type = 'long')\n",
    "bt.factor_results(backtest, factor_model)\n",
    "backtest.mean(axis = 1).cumsum().plot()"
   ]
  },
  {
   "cell_type": "markdown",
   "metadata": {},
   "source": [
    "### Short only"
   ]
  },
  {
   "cell_type": "code",
   "execution_count": 42,
   "metadata": {},
   "outputs": [
    {
     "name": "stdout",
     "output_type": "stream",
     "text": [
      "                            OLS Regression Results                            \n",
      "==============================================================================\n",
      "Dep. Variable:              portfolio   R-squared:                       0.056\n",
      "Model:                            OLS   Adj. R-squared:                  0.033\n",
      "Method:                 Least Squares   F-statistic:                     2.473\n",
      "Date:                Tue, 01 Dec 2020   Prob (F-statistic):             0.0335\n",
      "Time:                        04:41:56   Log-Likelihood:                 275.90\n",
      "No. Observations:                 215   AIC:                            -539.8\n",
      "Df Residuals:                     209   BIC:                            -519.6\n",
      "Df Model:                           5                                         \n",
      "Covariance Type:            nonrobust                                         \n",
      "==============================================================================\n",
      "                 coef    std err          t      P>|t|      [0.025      0.975]\n",
      "------------------------------------------------------------------------------\n",
      "Mkt-RF        -0.3111      0.135     -2.309      0.022      -0.577      -0.046\n",
      "SMB            0.3272      0.211      1.548      0.123      -0.089       0.744\n",
      "HML           -0.0065      0.223     -0.029      0.977      -0.446       0.433\n",
      "RMW            0.3671      0.272      1.351      0.178      -0.169       0.903\n",
      "CMA           -0.0425      0.340     -0.125      0.901      -0.713       0.628\n",
      "intercept     -0.0079      0.005     -1.607      0.110      -0.018       0.002\n",
      "==============================================================================\n",
      "Omnibus:                        3.555   Durbin-Watson:                   1.953\n",
      "Prob(Omnibus):                  0.169   Jarque-Bera (JB):                3.660\n",
      "Skew:                          -0.149   Prob(JB):                        0.160\n",
      "Kurtosis:                       3.566   Cond. No.                         79.5\n",
      "==============================================================================\n",
      "\n",
      "Warnings:\n",
      "[1] Standard Errors assume that the covariance matrix of the errors is correctly specified.\n",
      "               mean  std_error     tstat\n",
      "intercept -0.008320   0.004688 -1.774948\n",
      "Mkt-RF    -0.000611   0.000292 -2.094544\n",
      "SMB        0.000014   0.000119  0.120479\n",
      "HML       -0.000012   0.000149 -0.083531\n",
      "RMW        0.000197   0.000111  1.773682\n",
      "CMA       -0.000003   0.000078 -0.033950\n"
     ]
    },
    {
     "data": {
      "text/plain": [
       "<matplotlib.axes._subplots.AxesSubplot at 0x1a199afa198>"
      ]
     },
     "execution_count": 42,
     "metadata": {},
     "output_type": "execute_result"
    },
    {
     "data": {
      "image/png": "[encoded data removed]",
      "text/plain": [
       "<Figure size 432x288 with 1 Axes>"
      ]
     },
     "metadata": {
      "needs_background": "light"
     },
     "output_type": "display_data"
    }
   ],
   "source": [
    "backtest, weights = bt.run_backtest(input_classifiers= [\"Neural Net\"], lookback_backtest = 12, inputs = feature_set, outputs = binary_returns,  ensemble = 'no', trade_type = 'short')\n",
    "bt.factor_results(backtest, factor_model)\n",
    "backtest.mean(axis = 1).cumsum().plot()"
   ]
  },
  {
   "cell_type": "markdown",
   "metadata": {},
   "source": [
    "# Random Forest"
   ]
  },
  {
   "cell_type": "code",
   "execution_count": 43,
   "metadata": {},
   "outputs": [],
   "source": [
    "backtest, weights = bt.run_backtest(input_classifiers= [\"Random Forest\"], lookback_backtest = 12, inputs = feature_set, outputs = binary_returns,  ensemble = 'no')"
   ]
  },
  {
   "cell_type": "code",
   "execution_count": 44,
   "metadata": {},
   "outputs": [
    {
     "name": "stdout",
     "output_type": "stream",
     "text": [
      "                            OLS Regression Results                            \n",
      "==============================================================================\n",
      "Dep. Variable:              portfolio   R-squared:                       0.028\n",
      "Model:                            OLS   Adj. R-squared:                  0.005\n",
      "Method:                 Least Squares   F-statistic:                     1.212\n",
      "Date:                Tue, 01 Dec 2020   Prob (F-statistic):              0.305\n",
      "Time:                        05:50:25   Log-Likelihood:                 543.54\n",
      "No. Observations:                 215   AIC:                            -1075.\n",
      "Df Residuals:                     209   BIC:                            -1055.\n",
      "Df Model:                           5                                         \n",
      "Covariance Type:            nonrobust                                         \n",
      "==============================================================================\n",
      "                 coef    std err          t      P>|t|      [0.025      0.975]\n",
      "------------------------------------------------------------------------------\n",
      "Mkt-RF        -0.0843      0.039     -2.173      0.031      -0.161      -0.008\n",
      "SMB            0.0175      0.061      0.288      0.774      -0.102       0.137\n",
      "HML            0.0308      0.064      0.479      0.632      -0.096       0.157\n",
      "RMW           -0.0733      0.078     -0.936      0.350      -0.228       0.081\n",
      "CMA            0.0581      0.098      0.594      0.553      -0.135       0.251\n",
      "intercept      0.0016      0.001      1.128      0.261      -0.001       0.004\n",
      "==============================================================================\n",
      "Omnibus:                       72.426   Durbin-Watson:                   1.557\n",
      "Prob(Omnibus):                  0.000   Jarque-Bera (JB):              590.247\n",
      "Skew:                          -1.034   Prob(JB):                    6.75e-129\n",
      "Kurtosis:                      10.849   Cond. No.                         79.5\n",
      "==============================================================================\n",
      "\n",
      "Warnings:\n",
      "[1] Standard Errors assume that the covariance matrix of the errors is correctly specified.\n",
      "               mean  std_error     tstat\n",
      "intercept  0.000914   0.001326  0.689038\n",
      "Mkt-RF    -0.000096   0.000108 -0.889598\n",
      "SMB        0.000003   0.000034  0.084412\n",
      "HML        0.000018   0.000054  0.328360\n",
      "RMW        0.000002   0.000029  0.074478\n",
      "CMA        0.000024   0.000022  1.110264\n"
     ]
    },
    {
     "data": {
      "text/plain": [
       "<matplotlib.axes._subplots.AxesSubplot at 0x1a198ff7d68>"
      ]
     },
     "execution_count": 44,
     "metadata": {},
     "output_type": "execute_result"
    },
    {
     "data": {
      "image/png": "[encoded data removed]",
      "text/plain": [
       "<Figure size 432x288 with 1 Axes>"
      ]
     },
     "metadata": {
      "needs_background": "light"
     },
     "output_type": "display_data"
    }
   ],
   "source": [
    "bt.factor_results(backtest, factor_model)\n",
    "backtest.mean(axis = 1).cumsum().plot()"
   ]
  },
  {
   "cell_type": "markdown",
   "metadata": {},
   "source": [
    "### Long Only"
   ]
  },
  {
   "cell_type": "code",
   "execution_count": 45,
   "metadata": {},
   "outputs": [
    {
     "name": "stdout",
     "output_type": "stream",
     "text": [
      "                            OLS Regression Results                            \n",
      "==============================================================================\n",
      "Dep. Variable:              portfolio   R-squared:                       0.063\n",
      "Model:                            OLS   Adj. R-squared:                  0.041\n",
      "Method:                 Least Squares   F-statistic:                     2.824\n",
      "Date:                Tue, 01 Dec 2020   Prob (F-statistic):             0.0172\n",
      "Time:                        06:57:44   Log-Likelihood:                 347.83\n",
      "No. Observations:                 215   AIC:                            -683.7\n",
      "Df Residuals:                     209   BIC:                            -663.4\n",
      "Df Model:                           5                                         \n",
      "Covariance Type:            nonrobust                                         \n",
      "==============================================================================\n",
      "                 coef    std err          t      P>|t|      [0.025      0.975]\n",
      "------------------------------------------------------------------------------\n",
      "Mkt-RF         0.2191      0.096      2.272      0.024       0.029       0.409\n",
      "SMB           -0.3033      0.151     -2.005      0.046      -0.601      -0.005\n",
      "HML            0.0602      0.160      0.377      0.707      -0.255       0.375\n",
      "RMW           -0.3097      0.194     -1.592      0.113      -0.693       0.074\n",
      "CMA            0.0171      0.243      0.070      0.944      -0.463       0.497\n",
      "intercept      0.0101      0.004      2.885      0.004       0.003       0.017\n",
      "==============================================================================\n",
      "Omnibus:                        7.743   Durbin-Watson:                   1.953\n",
      "Prob(Omnibus):                  0.021   Jarque-Bera (JB):                9.486\n",
      "Skew:                          -0.282   Prob(JB):                      0.00871\n",
      "Kurtosis:                       3.861   Cond. No.                         79.5\n",
      "==============================================================================\n",
      "\n",
      "Warnings:\n",
      "[1] Standard Errors assume that the covariance matrix of the errors is correctly specified.\n",
      "               mean  std_error     tstat\n",
      "intercept  0.010135   0.003368  3.008778\n",
      "Mkt-RF     0.000462   0.000208  2.222163\n",
      "SMB       -0.000031   0.000083 -0.375248\n",
      "HML        0.000027   0.000112  0.243776\n",
      "RMW       -0.000136   0.000074 -1.828155\n",
      "CMA        0.000010   0.000053  0.180253\n"
     ]
    },
    {
     "data": {
      "text/plain": [
       "<matplotlib.axes._subplots.AxesSubplot at 0x1a199f1e898>"
      ]
     },
     "execution_count": 45,
     "metadata": {},
     "output_type": "execute_result"
    },
    {
     "data": {
      "image/png": "[encoded data removed]",
      "text/plain": [
       "<Figure size 432x288 with 1 Axes>"
      ]
     },
     "metadata": {
      "needs_background": "light"
     },
     "output_type": "display_data"
    }
   ],
   "source": [
    "backtest, weights = bt.run_backtest(input_classifiers= [\"Random Forest\"], lookback_backtest = 12, inputs = feature_set, outputs = binary_returns,  ensemble = 'no', trade_type = 'long')\n",
    "bt.factor_results(backtest, factor_model)\n",
    "backtest.mean(axis = 1).cumsum().plot()"
   ]
  },
  {
   "cell_type": "markdown",
   "metadata": {},
   "source": [
    "### Short Only"
   ]
  },
  {
   "cell_type": "code",
   "execution_count": 46,
   "metadata": {},
   "outputs": [
    {
     "name": "stdout",
     "output_type": "stream",
     "text": [
      "                            OLS Regression Results                            \n",
      "==============================================================================\n",
      "Dep. Variable:              portfolio   R-squared:                       0.059\n",
      "Model:                            OLS   Adj. R-squared:                  0.037\n",
      "Method:                 Least Squares   F-statistic:                     2.637\n",
      "Date:                Tue, 01 Dec 2020   Prob (F-statistic):             0.0246\n",
      "Time:                        08:04:51   Log-Likelihood:                 305.69\n",
      "No. Observations:                 215   AIC:                            -599.4\n",
      "Df Residuals:                     209   BIC:                            -579.2\n",
      "Df Model:                           5                                         \n",
      "Covariance Type:            nonrobust                                         \n",
      "==============================================================================\n",
      "                 coef    std err          t      P>|t|      [0.025      0.975]\n",
      "------------------------------------------------------------------------------\n",
      "Mkt-RF        -0.2726      0.117     -2.325      0.021      -0.504      -0.041\n",
      "SMB            0.3285      0.184      1.785      0.076      -0.034       0.691\n",
      "HML           -0.0206      0.194     -0.106      0.916      -0.404       0.362\n",
      "RMW            0.3399      0.237      1.437      0.152      -0.126       0.806\n",
      "CMA           -0.0190      0.296     -0.064      0.949      -0.603       0.565\n",
      "intercept     -0.0096      0.004     -2.246      0.026      -0.018      -0.001\n",
      "==============================================================================\n",
      "Omnibus:                        4.993   Durbin-Watson:                   1.937\n",
      "Prob(Omnibus):                  0.082   Jarque-Bera (JB):                6.982\n",
      "Skew:                          -0.027   Prob(JB):                       0.0305\n",
      "Kurtosis:                       3.881   Cond. No.                         79.5\n",
      "==============================================================================\n",
      "\n",
      "Warnings:\n",
      "[1] Standard Errors assume that the covariance matrix of the errors is correctly specified.\n",
      "               mean  std_error     tstat\n",
      "intercept -0.009824   0.004088 -2.403269\n",
      "Mkt-RF    -0.000547   0.000261 -2.091909\n",
      "SMB        0.000030   0.000102  0.289893\n",
      "HML       -0.000009   0.000136 -0.069191\n",
      "RMW        0.000166   0.000095  1.745631\n",
      "CMA       -0.000001   0.000066 -0.015654\n"
     ]
    },
    {
     "data": {
      "text/plain": [
       "<matplotlib.axes._subplots.AxesSubplot at 0x1a1994149e8>"
      ]
     },
     "execution_count": 46,
     "metadata": {},
     "output_type": "execute_result"
    },
    {
     "data": {
      "image/png": "[encoded data removed]",
      "text/plain": [
       "<Figure size 432x288 with 1 Axes>"
      ]
     },
     "metadata": {
      "needs_background": "light"
     },
     "output_type": "display_data"
    }
   ],
   "source": [
    "backtest, weights = bt.run_backtest(input_classifiers= [\"Random Forest\"], lookback_backtest = 12, inputs = feature_set, outputs = binary_returns,  ensemble = 'no', trade_type = 'short')\n",
    "bt.factor_results(backtest, factor_model)\n",
    "backtest.mean(axis = 1).cumsum().plot()"
   ]
  },
  {
   "cell_type": "markdown",
   "metadata": {},
   "source": [
    "# Ensemble System"
   ]
  },
  {
   "cell_type": "code",
   "execution_count": 47,
   "metadata": {},
   "outputs": [
    {
     "ename": "ValueError",
     "evalue": "Input contains NaN, infinity or a value too large for dtype('float64').",
     "output_type": "error",
     "traceback": [
      "\u001b[1;31m---------------------------------------------------------------------------\u001b[0m",
      "\u001b[1;31mValueError\u001b[0m                                Traceback (most recent call last)",
      "\u001b[1;32m<ipython-input-47-7a892272ef05>\u001b[0m in \u001b[0;36m<module>\u001b[1;34m\u001b[0m\n\u001b[1;32m----> 1\u001b[1;33m \u001b[0mbacktest\u001b[0m\u001b[1;33m,\u001b[0m \u001b[0mweights\u001b[0m \u001b[1;33m=\u001b[0m \u001b[0mbt\u001b[0m\u001b[1;33m.\u001b[0m\u001b[0mrun_backtest\u001b[0m\u001b[1;33m(\u001b[0m\u001b[0minput_classifiers\u001b[0m\u001b[1;33m=\u001b[0m \u001b[1;33m[\u001b[0m\u001b[1;34m\"Nearest Neighbors\"\u001b[0m\u001b[1;33m,\u001b[0m \u001b[1;34m\"Random Forest\"\u001b[0m\u001b[1;33m]\u001b[0m\u001b[1;33m,\u001b[0m \u001b[0mlookback_backtest\u001b[0m \u001b[1;33m=\u001b[0m \u001b[1;36m12\u001b[0m\u001b[1;33m,\u001b[0m \u001b[0minputs\u001b[0m \u001b[1;33m=\u001b[0m \u001b[0mfeature_set\u001b[0m\u001b[1;33m,\u001b[0m \u001b[0moutputs\u001b[0m \u001b[1;33m=\u001b[0m \u001b[0mbinary_returns\u001b[0m\u001b[1;33m,\u001b[0m  \u001b[0mensemble\u001b[0m \u001b[1;33m=\u001b[0m \u001b[1;34m'yes'\u001b[0m\u001b[1;33m)\u001b[0m\u001b[1;33m\u001b[0m\u001b[1;33m\u001b[0m\u001b[0m\n\u001b[0m",
      "\u001b[1;32m<ipython-input-25-b9900b000255>\u001b[0m in \u001b[0;36mrun_backtest\u001b[1;34m(self, input_classifiers, lookback_backtest, inputs, outputs, ensemble, trade_type)\u001b[0m\n\u001b[0;32m    272\u001b[0m                         \u001b[1;32mfor\u001b[0m \u001b[0mname\u001b[0m \u001b[1;32min\u001b[0m \u001b[0minput_classifiers\u001b[0m\u001b[1;33m:\u001b[0m\u001b[1;33m\u001b[0m\u001b[1;33m\u001b[0m\u001b[0m\n\u001b[0;32m    273\u001b[0m                             \u001b[0mclf\u001b[0m \u001b[1;33m=\u001b[0m \u001b[0mclassifiers\u001b[0m\u001b[1;33m[\u001b[0m\u001b[0mname\u001b[0m\u001b[1;33m]\u001b[0m\u001b[1;33m\u001b[0m\u001b[1;33m\u001b[0m\u001b[0m\n\u001b[1;32m--> 274\u001b[1;33m                             \u001b[0mclf\u001b[0m\u001b[1;33m.\u001b[0m\u001b[0mfit\u001b[0m\u001b[1;33m(\u001b[0m\u001b[0mx\u001b[0m\u001b[1;33m.\u001b[0m\u001b[0mto_numpy\u001b[0m\u001b[1;33m(\u001b[0m\u001b[1;33m)\u001b[0m\u001b[1;33m,\u001b[0m \u001b[0my\u001b[0m\u001b[1;33m.\u001b[0m\u001b[0mvalues\u001b[0m\u001b[1;33m.\u001b[0m\u001b[0mravel\u001b[0m\u001b[1;33m(\u001b[0m\u001b[1;33m)\u001b[0m\u001b[1;33m)\u001b[0m\u001b[1;33m\u001b[0m\u001b[1;33m\u001b[0m\u001b[0m\n\u001b[0m\u001b[0;32m    275\u001b[0m                             \u001b[0mpredict\u001b[0m \u001b[1;33m=\u001b[0m \u001b[0mclf\u001b[0m\u001b[1;33m.\u001b[0m\u001b[0mpredict\u001b[0m\u001b[1;33m(\u001b[0m\u001b[0mx\u001b[0m\u001b[1;33m.\u001b[0m\u001b[0mto_numpy\u001b[0m\u001b[1;33m(\u001b[0m\u001b[1;33m)\u001b[0m\u001b[1;33m)\u001b[0m\u001b[1;33m\u001b[0m\u001b[1;33m\u001b[0m\u001b[0m\n\u001b[0;32m    276\u001b[0m                             \u001b[0mpredict\u001b[0m \u001b[1;33m=\u001b[0m \u001b[0mpd\u001b[0m\u001b[1;33m.\u001b[0m\u001b[0mDataFrame\u001b[0m\u001b[1;33m(\u001b[0m\u001b[0mdata\u001b[0m \u001b[1;33m=\u001b[0m \u001b[0mpredict\u001b[0m\u001b[1;33m,\u001b[0m \u001b[0mindex\u001b[0m \u001b[1;33m=\u001b[0m \u001b[0my\u001b[0m\u001b[1;33m.\u001b[0m\u001b[0mindex\u001b[0m\u001b[1;33m,\u001b[0m \u001b[0mcolumns\u001b[0m \u001b[1;33m=\u001b[0m \u001b[1;33m[\u001b[0m\u001b[1;34m'predict'\u001b[0m\u001b[1;33m]\u001b[0m\u001b[1;33m)\u001b[0m\u001b[1;33m\u001b[0m\u001b[1;33m\u001b[0m\u001b[0m\n",
      "\u001b[1;32m~\\AppData\\Local\\Continuum\\anaconda3\\lib\\site-packages\\sklearn\\neighbors\\base.py\u001b[0m in \u001b[0;36mfit\u001b[1;34m(self, X, y)\u001b[0m\n\u001b[0;32m    890\u001b[0m         \"\"\"\n\u001b[0;32m    891\u001b[0m         \u001b[1;32mif\u001b[0m \u001b[1;32mnot\u001b[0m \u001b[0misinstance\u001b[0m\u001b[1;33m(\u001b[0m\u001b[0mX\u001b[0m\u001b[1;33m,\u001b[0m \u001b[1;33m(\u001b[0m\u001b[0mKDTree\u001b[0m\u001b[1;33m,\u001b[0m \u001b[0mBallTree\u001b[0m\u001b[1;33m)\u001b[0m\u001b[1;33m)\u001b[0m\u001b[1;33m:\u001b[0m\u001b[1;33m\u001b[0m\u001b[1;33m\u001b[0m\u001b[0m\n\u001b[1;32m--> 892\u001b[1;33m             \u001b[0mX\u001b[0m\u001b[1;33m,\u001b[0m \u001b[0my\u001b[0m \u001b[1;33m=\u001b[0m \u001b[0mcheck_X_y\u001b[0m\u001b[1;33m(\u001b[0m\u001b[0mX\u001b[0m\u001b[1;33m,\u001b[0m \u001b[0my\u001b[0m\u001b[1;33m,\u001b[0m \u001b[1;34m\"csr\"\u001b[0m\u001b[1;33m,\u001b[0m \u001b[0mmulti_output\u001b[0m\u001b[1;33m=\u001b[0m\u001b[1;32mTrue\u001b[0m\u001b[1;33m)\u001b[0m\u001b[1;33m\u001b[0m\u001b[1;33m\u001b[0m\u001b[0m\n\u001b[0m\u001b[0;32m    893\u001b[0m \u001b[1;33m\u001b[0m\u001b[0m\n\u001b[0;32m    894\u001b[0m         \u001b[1;32mif\u001b[0m \u001b[0my\u001b[0m\u001b[1;33m.\u001b[0m\u001b[0mndim\u001b[0m \u001b[1;33m==\u001b[0m \u001b[1;36m1\u001b[0m \u001b[1;32mor\u001b[0m \u001b[0my\u001b[0m\u001b[1;33m.\u001b[0m\u001b[0mndim\u001b[0m \u001b[1;33m==\u001b[0m \u001b[1;36m2\u001b[0m \u001b[1;32mand\u001b[0m \u001b[0my\u001b[0m\u001b[1;33m.\u001b[0m\u001b[0mshape\u001b[0m\u001b[1;33m[\u001b[0m\u001b[1;36m1\u001b[0m\u001b[1;33m]\u001b[0m \u001b[1;33m==\u001b[0m \u001b[1;36m1\u001b[0m\u001b[1;33m:\u001b[0m\u001b[1;33m\u001b[0m\u001b[1;33m\u001b[0m\u001b[0m\n",
      "\u001b[1;32m~\\AppData\\Local\\Continuum\\anaconda3\\lib\\site-packages\\sklearn\\utils\\validation.py\u001b[0m in \u001b[0;36mcheck_X_y\u001b[1;34m(X, y, accept_sparse, accept_large_sparse, dtype, order, copy, force_all_finite, ensure_2d, allow_nd, multi_output, ensure_min_samples, ensure_min_features, y_numeric, warn_on_dtype, estimator)\u001b[0m\n\u001b[0;32m    720\u001b[0m     \u001b[1;32mif\u001b[0m \u001b[0mmulti_output\u001b[0m\u001b[1;33m:\u001b[0m\u001b[1;33m\u001b[0m\u001b[1;33m\u001b[0m\u001b[0m\n\u001b[0;32m    721\u001b[0m         y = check_array(y, 'csr', force_all_finite=True, ensure_2d=False,\n\u001b[1;32m--> 722\u001b[1;33m                         dtype=None)\n\u001b[0m\u001b[0;32m    723\u001b[0m     \u001b[1;32melse\u001b[0m\u001b[1;33m:\u001b[0m\u001b[1;33m\u001b[0m\u001b[1;33m\u001b[0m\u001b[0m\n\u001b[0;32m    724\u001b[0m         \u001b[0my\u001b[0m \u001b[1;33m=\u001b[0m \u001b[0mcolumn_or_1d\u001b[0m\u001b[1;33m(\u001b[0m\u001b[0my\u001b[0m\u001b[1;33m,\u001b[0m \u001b[0mwarn\u001b[0m\u001b[1;33m=\u001b[0m\u001b[1;32mTrue\u001b[0m\u001b[1;33m)\u001b[0m\u001b[1;33m\u001b[0m\u001b[1;33m\u001b[0m\u001b[0m\n",
      "\u001b[1;32m~\\AppData\\Local\\Continuum\\anaconda3\\lib\\site-packages\\sklearn\\utils\\validation.py\u001b[0m in \u001b[0;36mcheck_array\u001b[1;34m(array, accept_sparse, accept_large_sparse, dtype, order, copy, force_all_finite, ensure_2d, allow_nd, ensure_min_samples, ensure_min_features, warn_on_dtype, estimator)\u001b[0m\n\u001b[0;32m    540\u001b[0m         \u001b[1;32mif\u001b[0m \u001b[0mforce_all_finite\u001b[0m\u001b[1;33m:\u001b[0m\u001b[1;33m\u001b[0m\u001b[1;33m\u001b[0m\u001b[0m\n\u001b[0;32m    541\u001b[0m             _assert_all_finite(array,\n\u001b[1;32m--> 542\u001b[1;33m                                allow_nan=force_all_finite == 'allow-nan')\n\u001b[0m\u001b[0;32m    543\u001b[0m \u001b[1;33m\u001b[0m\u001b[0m\n\u001b[0;32m    544\u001b[0m     \u001b[1;32mif\u001b[0m \u001b[0mensure_min_samples\u001b[0m \u001b[1;33m>\u001b[0m \u001b[1;36m0\u001b[0m\u001b[1;33m:\u001b[0m\u001b[1;33m\u001b[0m\u001b[1;33m\u001b[0m\u001b[0m\n",
      "\u001b[1;32m~\\AppData\\Local\\Continuum\\anaconda3\\lib\\site-packages\\sklearn\\utils\\validation.py\u001b[0m in \u001b[0;36m_assert_all_finite\u001b[1;34m(X, allow_nan)\u001b[0m\n\u001b[0;32m     54\u001b[0m                 not allow_nan and not np.isfinite(X).all()):\n\u001b[0;32m     55\u001b[0m             \u001b[0mtype_err\u001b[0m \u001b[1;33m=\u001b[0m \u001b[1;34m'infinity'\u001b[0m \u001b[1;32mif\u001b[0m \u001b[0mallow_nan\u001b[0m \u001b[1;32melse\u001b[0m \u001b[1;34m'NaN, infinity'\u001b[0m\u001b[1;33m\u001b[0m\u001b[1;33m\u001b[0m\u001b[0m\n\u001b[1;32m---> 56\u001b[1;33m             \u001b[1;32mraise\u001b[0m \u001b[0mValueError\u001b[0m\u001b[1;33m(\u001b[0m\u001b[0mmsg_err\u001b[0m\u001b[1;33m.\u001b[0m\u001b[0mformat\u001b[0m\u001b[1;33m(\u001b[0m\u001b[0mtype_err\u001b[0m\u001b[1;33m,\u001b[0m \u001b[0mX\u001b[0m\u001b[1;33m.\u001b[0m\u001b[0mdtype\u001b[0m\u001b[1;33m)\u001b[0m\u001b[1;33m)\u001b[0m\u001b[1;33m\u001b[0m\u001b[1;33m\u001b[0m\u001b[0m\n\u001b[0m\u001b[0;32m     57\u001b[0m     \u001b[1;31m# for object dtype data, we only check for NaNs (GH-13254)\u001b[0m\u001b[1;33m\u001b[0m\u001b[1;33m\u001b[0m\u001b[1;33m\u001b[0m\u001b[0m\n\u001b[0;32m     58\u001b[0m     \u001b[1;32melif\u001b[0m \u001b[0mX\u001b[0m\u001b[1;33m.\u001b[0m\u001b[0mdtype\u001b[0m \u001b[1;33m==\u001b[0m \u001b[0mnp\u001b[0m\u001b[1;33m.\u001b[0m\u001b[0mdtype\u001b[0m\u001b[1;33m(\u001b[0m\u001b[1;34m'object'\u001b[0m\u001b[1;33m)\u001b[0m \u001b[1;32mand\u001b[0m \u001b[1;32mnot\u001b[0m \u001b[0mallow_nan\u001b[0m\u001b[1;33m:\u001b[0m\u001b[1;33m\u001b[0m\u001b[1;33m\u001b[0m\u001b[0m\n",
      "\u001b[1;31mValueError\u001b[0m: Input contains NaN, infinity or a value too large for dtype('float64')."
     ]
    }
   ],
   "source": [
    "backtest, weights = bt.run_backtest(input_classifiers= [\"Nearest Neighbors\", \"Random Forest\"], lookback_backtest = 12, inputs = feature_set, outputs = binary_returns,  ensemble = 'yes')"
   ]
  },
  {
   "cell_type": "code",
   "execution_count": null,
   "metadata": {},
   "outputs": [],
   "source": [
    "bt.factor_results(backtest, factor_model)\n",
    "backtest.mean(axis = 1).cumsum().plot()"
   ]
  },
  {
   "cell_type": "code",
   "execution_count": null,
   "metadata": {},
   "outputs": [],
   "source": [
    "for var in factor_model.columns:\n",
    "    plot_df = pd.concat([backtest[var].cumsum(), weights[var]], axis = 1)\n",
    "    plot_df.columns = ['backtest', 'signal']\n",
    "    plot_df.plot()\n",
    "    returns.loc[weights.index, var].cumsum().plot(legend = True)"
   ]
  },
  {
   "cell_type": "markdown",
   "metadata": {},
   "source": [
    "# Analyze the Market with New Factor"
   ]
  },
  {
   "cell_type": "code",
   "execution_count": null,
   "metadata": {},
   "outputs": [],
   "source": [
    "bt.check_new_factor(backtest, factor_model, index_symbol)"
   ]
  },
  {
   "cell_type": "markdown",
   "metadata": {},
   "source": [
    "# Simple Binary Decision"
   ]
  },
  {
   "cell_type": "code",
   "execution_count": null,
   "metadata": {},
   "outputs": [],
   "source": [
    "df_alpha_shift = df_alpha.shift(1).dropna(axis = 0)\n",
    "backtest = returns.loc[df_alpha_shift.index]\n",
    "weights = returns.loc[df_alpha_shift.index]\n",
    "for count, row in  backtest.iterrows(): \n",
    "    for j in backtest.columns:\n",
    "        if df_alpha_shift.loc[count, j] >= 0:\n",
    "            backtest.loc[count, j] = backtest.loc[count, j]\n",
    "            weights.loc[count, j] = 1.0\n",
    "        else:\n",
    "            backtest.loc[count, j] = -backtest.loc[count, j]\n",
    "            weights.loc[count, j] = -1.0"
   ]
  },
  {
   "cell_type": "code",
   "execution_count": null,
   "metadata": {},
   "outputs": [],
   "source": [
    "backtest.mean(axis = 1).cumsum().plot()"
   ]
  },
  {
   "cell_type": "code",
   "execution_count": null,
   "metadata": {},
   "outputs": [],
   "source": [
    "for var in factor_model.columns:\n",
    "    plot_df = pd.concat([backtest[var].cumsum(), weights[var]], axis = 1)\n",
    "    plot_df.columns = ['backtest', 'signal']\n",
    "    plot_df.plot()\n",
    "    returns.loc[weights.index, var].cumsum().plot(legend = True)"
   ]
  },
  {
   "cell_type": "code",
   "execution_count": null,
   "metadata": {},
   "outputs": [],
   "source": [
    "bt.factor_results(backtest, factor_model)"
   ]
  },
  {
   "cell_type": "code",
   "execution_count": null,
   "metadata": {},
   "outputs": [],
   "source": [
    "bt.check_new_factor(backtest, factor_model, index_symbol)"
   ]
  }
 ],
 "metadata": {
  "kernelspec": {
   "display_name": "Python 3",
   "language": "python",
   "name": "python3"
  },
  "language_info": {
   "codemirror_mode": {
    "name": "ipython",
    "version": 3
   },
   "file_extension": ".py",
   "mimetype": "text/x-python",
   "name": "python",
   "nbconvert_exporter": "python",
   "pygments_lexer": "ipython3",
   "version": "3.7.3"
  }
 },
 "nbformat": 4,
 "nbformat_minor": 2
}
