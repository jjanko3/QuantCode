{
 "cells": [
  {
   "cell_type": "markdown",
   "metadata": {},
   "source": [
    "# Antithetic Variate Generation"
   ]
  },
  {
   "cell_type": "code",
   "execution_count": 1,
   "metadata": {},
   "outputs": [
    {
     "name": "stdout",
     "output_type": "stream",
     "text": [
      "0.09746868086876596\n"
     ]
    }
   ],
   "source": [
    "#!/usr/bin/env python3\n",
    "# -*- coding: utf-8 -*-\n",
    "\"\"\"\n",
    "Created on Wed Jan  2 13:48:48 2019\n",
    "\n",
    "@author: jj\n",
    "\"\"\"\n",
    "\n",
    "from scipy import stats\n",
    "from matplotlib import pyplot as plt\n",
    "import numpy as np\n",
    "\n",
    "class rand_generator():\n",
    "    \n",
    "    def __init__(self):\n",
    "        self.output = []\n",
    "\n",
    "    def lcg(self,n,multiplier, seed, increment, modulus):\n",
    "        #the generator is defined by recurrence relation\n",
    "        \"\"\"\n",
    "        Xn+1 = (aXn + c) mod m\n",
    "        X is the sequence of pseudorandom values\n",
    "        m is the modulus\n",
    "        a is the multiplier\n",
    "        c is the increment\n",
    "        X0 is the seed or start value\n",
    "        n is the number of random numbers that you use in the sequence\n",
    "        \n",
    "        \"\"\"\n",
    "        self.output = []\n",
    "        \n",
    "        x = seed\n",
    "        \n",
    "        while len(self.output) != n:\n",
    "            \n",
    "            x = (multiplier * x + increment)%modulus\n",
    "            self.output.append(x)\n",
    "            \n",
    "        return self.output\n",
    "    \n",
    "    def shift_series(self, maximum ):\n",
    "        shifted = [x-min(self.output) for x in self.output]\n",
    "        return [(x/max(shifted))*maximum for x in shifted]\n",
    "    \n",
    "    def antithetic_sampling(self, series):\n",
    "        return [1-x for x in series] + series\n",
    "        \n",
    "        \n",
    "        \n",
    "    \n",
    "        \n",
    "    \n",
    "if __name__ == '__main__':\n",
    "    \n",
    "    gen = rand_generator()\n",
    "    \n",
    "    n = 200\n",
    "    rnd = gen.lcg(n, 1664525, 10, 1013904223, 2**32)\n",
    "    rnd = gen.shift_series(1)\n",
    "    print(np.var(rnd))\n",
    "    plt.scatter(np.arange(n), rnd)\n",
    "    \n",
    "    \n",
    "    q = n/2\n",
    "    pairs = gen.lcg(q, 1664525, 10, 1013904223, 2**32)\n",
    "    pairs = gen.shift_series(1)\n",
    "    pairs = gen.antithetic_sampling(pairs)\n",
    "\n",
    "    \n",
    "    \n",
    "    \n",
    "    \n",
    "    \n"
   ]
  }
 ],
 "metadata": {
  "kernelspec": {
   "display_name": "Python 3",
   "language": "python",
   "name": "python3"
  },
  "language_info": {
   "codemirror_mode": {
    "name": "ipython",
    "version": 3
   },
   "file_extension": ".py",
   "mimetype": "text/x-python",
   "name": "python",
   "nbconvert_exporter": "python",
   "pygments_lexer": "ipython3",
   "version": "3.7.0"
  }
 },
 "nbformat": 4,
 "nbformat_minor": 2
}
